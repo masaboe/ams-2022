{
 "cells": [
  {
   "cell_type": "markdown",
   "metadata": {
    "id": "kYQxRWGHVOfu"
   },
   "source": [
    "<img src=\"https://2.bp.blogspot.com/-066qpJs0Ttc/WiYPXGNYEYI/AAAAAAAAFu8/XbOaf7DqfDMM9truu3DkrkIGfRgP4zBzgCLcBGAs/s1600/udinus.jpg\"  width=\"200\">\n",
    "\n",
    "# AMS - 11 - Document Similarity\n",
    "\n",
    "oleh: Dr. Eng. Farrikh Alzami M.Kom; Abu Salam, M.Kom\n",
    "\n"
   ]
  },
  {
   "cell_type": "markdown",
   "metadata": {
    "id": "i5c9r2AZFeRP"
   },
   "source": [
    "# Rekomendasi Film dengan Kemiripan Dokumen\n",
    "\n",
    "Sistem rekomendasi adalah salah satu aplikasi pembelajaran mesin yang populer dan paling banyak diadopsi. Mereka biasanya digunakan untuk merekomendasikan entitas kepada pengguna dan entitas ini dapat berupa apa saja seperti produk, film, layanan, dan sebagainya.\n",
    "\n",
    "Contoh rekomendasi yang populer meliputi,\n",
    "- Amazon menyarankan produk di situs webnya\n",
    "- Amazon Prime, Netflix, Hotstar merekomendasikan film\\acara\n",
    "- YouTube merekomendasikan video untuk ditonton\n",
    "\n",
    "Biasanya sistem pemberi rekomendasi dapat diimplementasikan dalam tiga cara:\n",
    "\n",
    "- Simple Rule-based Recommenders / Rekomendasi Berbasis Aturan Sederhana: Biasanya berdasarkan metrik dan ambang batas global tertentu seperti popularitas film, peringkat global, dll.\n",
    "- Content-based Recommenders / Rekomendasi berbasis konten: Ini didasarkan pada penyediaan entitas serupa berdasarkan entitas minat tertentu. Metadata konten dapat digunakan di sini seperti deskripsi film, genre, pemeran, sutradara, dan sebagainya\n",
    "- Collaborative filtering Recommenders / Pemfilteran kolaboratif Rekomendasi: Di ​​sini kami tidak memerlukan metadata, tetapi kami mencoba memprediksi rekomendasi dan peringkat berdasarkan peringkat sebelumnya dari berbagai pengguna dan item tertentu.\n",
    "\n",
    "Kami akan membangun sistem rekomendasi film di sini berdasarkan data\\metadata yang berkaitan dengan film yang berbeda, kami mencoba dan merekomendasikan film serupa yang menarik!\n",
    "\n",
    "![](https://i.imgur.com/c7Go7d3.png)\n",
    "\n",
    "Karena fokus kami bukan pada mesin rekomendasi tetapi NLP, kami akan memanfaatkan metadata berbasis teks untuk setiap film untuk mencoba dan merekomendasikan film serupa berdasarkan film tertentu yang diminati. Ini termasuk dalam rekomendasi berbasis konten."
   ]
  },
  {
   "cell_type": "markdown",
   "metadata": {
    "id": "kXftv7OSFsHJ"
   },
   "source": [
    "## install library"
   ]
  },
  {
   "cell_type": "code",
   "execution_count": 1,
   "metadata": {
    "colab": {
     "base_uri": "https://localhost:8080/"
    },
    "executionInfo": {
     "elapsed": 14486,
     "status": "ok",
     "timestamp": 1668751364805,
     "user": {
      "displayName": "farrikh alzami",
      "userId": "11964535993149439504"
     },
     "user_tz": -420
    },
    "id": "o9Ntmc0GVGIA",
    "outputId": "5a17bf3b-04ab-4bee-b74f-f8f817f84afe"
   },
   "outputs": [],
   "source": [
    "# !pip install textsearch\n",
    "# !pip install contractions\n",
    "import nltk\n",
    "# nltk.download('punkt')\n",
    "# nltk.download('stopwords')"
   ]
  },
  {
   "cell_type": "code",
   "execution_count": 2,
   "metadata": {},
   "outputs": [
    {
     "data": {
      "text/plain": [
       "PosixPath('/Users/masaboe/Documents/NGAJAR/2022/Ganjil 2/AMS-SI/Materi/Lab/docSimilarity')"
      ]
     },
     "execution_count": 2,
     "metadata": {},
     "output_type": "execute_result"
    }
   ],
   "source": [
    "import pathlib\n",
    "pathlib.Path().resolve()"
   ]
  },
  {
   "cell_type": "markdown",
   "metadata": {
    "id": "AqkJZoc8Funn"
   },
   "source": [
    "## load dan view data"
   ]
  },
  {
   "cell_type": "code",
   "execution_count": 3,
   "metadata": {
    "colab": {
     "base_uri": "https://localhost:8080/"
    },
    "executionInfo": {
     "elapsed": 2226,
     "status": "ok",
     "timestamp": 1668751387985,
     "user": {
      "displayName": "farrikh alzami",
      "userId": "11964535993149439504"
     },
     "user_tz": -420
    },
    "id": "NmbIBH8YVLV_",
    "outputId": "cb7ac0d2-6f33-4ac4-b110-7fd1bd6ba85c"
   },
   "outputs": [
    {
     "name": "stdout",
     "output_type": "stream",
     "text": [
      "<class 'pandas.core.frame.DataFrame'>\n",
      "RangeIndex: 4803 entries, 0 to 4802\n",
      "Data columns (total 20 columns):\n",
      " #   Column                Non-Null Count  Dtype  \n",
      "---  ------                --------------  -----  \n",
      " 0   budget                4803 non-null   int64  \n",
      " 1   genres                4803 non-null   object \n",
      " 2   homepage              1712 non-null   object \n",
      " 3   id                    4803 non-null   int64  \n",
      " 4   keywords              4803 non-null   object \n",
      " 5   original_language     4803 non-null   object \n",
      " 6   original_title        4803 non-null   object \n",
      " 7   overview              4800 non-null   object \n",
      " 8   popularity            4803 non-null   float64\n",
      " 9   production_companies  4803 non-null   object \n",
      " 10  production_countries  4803 non-null   object \n",
      " 11  release_date          4802 non-null   object \n",
      " 12  revenue               4803 non-null   int64  \n",
      " 13  runtime               4801 non-null   float64\n",
      " 14  spoken_languages      4803 non-null   object \n",
      " 15  status                4803 non-null   object \n",
      " 16  tagline               3959 non-null   object \n",
      " 17  title                 4803 non-null   object \n",
      " 18  vote_average          4803 non-null   float64\n",
      " 19  vote_count            4803 non-null   int64  \n",
      "dtypes: float64(3), int64(4), object(13)\n",
      "memory usage: 750.6+ KB\n"
     ]
    }
   ],
   "source": [
    "import pandas as pd\n",
    "\n",
    "df = pd.read_csv('/Users/masaboe/Documents/NGAJAR/2022/Ganjil 2/AMS-SI/Materi/Lab/docSimilarity/tmdb_5000_movies.csv.gz', compression='gzip')\n",
    "df.info()"
   ]
  },
  {
   "cell_type": "code",
   "execution_count": 4,
   "metadata": {
    "colab": {
     "base_uri": "https://localhost:8080/",
     "height": 756
    },
    "executionInfo": {
     "elapsed": 7,
     "status": "ok",
     "timestamp": 1668751398690,
     "user": {
      "displayName": "farrikh alzami",
      "userId": "11964535993149439504"
     },
     "user_tz": -420
    },
    "id": "ibqw4SCJVWIO",
    "outputId": "9394c408-b65a-417c-c1b1-47dcb4d760cd"
   },
   "outputs": [
    {
     "data": {
      "text/html": [
       "<div>\n",
       "<style scoped>\n",
       "    .dataframe tbody tr th:only-of-type {\n",
       "        vertical-align: middle;\n",
       "    }\n",
       "\n",
       "    .dataframe tbody tr th {\n",
       "        vertical-align: top;\n",
       "    }\n",
       "\n",
       "    .dataframe thead th {\n",
       "        text-align: right;\n",
       "    }\n",
       "</style>\n",
       "<table border=\"1\" class=\"dataframe\">\n",
       "  <thead>\n",
       "    <tr style=\"text-align: right;\">\n",
       "      <th></th>\n",
       "      <th>budget</th>\n",
       "      <th>genres</th>\n",
       "      <th>homepage</th>\n",
       "      <th>id</th>\n",
       "      <th>keywords</th>\n",
       "      <th>original_language</th>\n",
       "      <th>original_title</th>\n",
       "      <th>overview</th>\n",
       "      <th>popularity</th>\n",
       "      <th>production_companies</th>\n",
       "      <th>production_countries</th>\n",
       "      <th>release_date</th>\n",
       "      <th>revenue</th>\n",
       "      <th>runtime</th>\n",
       "      <th>spoken_languages</th>\n",
       "      <th>status</th>\n",
       "      <th>tagline</th>\n",
       "      <th>title</th>\n",
       "      <th>vote_average</th>\n",
       "      <th>vote_count</th>\n",
       "    </tr>\n",
       "  </thead>\n",
       "  <tbody>\n",
       "    <tr>\n",
       "      <th>0</th>\n",
       "      <td>237000000</td>\n",
       "      <td>[{\"id\": 28, \"name\": \"Action\"}, {\"id\": 12, \"nam...</td>\n",
       "      <td>http://www.avatarmovie.com/</td>\n",
       "      <td>19995</td>\n",
       "      <td>[{\"id\": 1463, \"name\": \"culture clash\"}, {\"id\":...</td>\n",
       "      <td>en</td>\n",
       "      <td>Avatar</td>\n",
       "      <td>In the 22nd century, a paraplegic Marine is di...</td>\n",
       "      <td>150.437577</td>\n",
       "      <td>[{\"name\": \"Ingenious Film Partners\", \"id\": 289...</td>\n",
       "      <td>[{\"iso_3166_1\": \"US\", \"name\": \"United States o...</td>\n",
       "      <td>2009-12-10</td>\n",
       "      <td>2787965087</td>\n",
       "      <td>162.0</td>\n",
       "      <td>[{\"iso_639_1\": \"en\", \"name\": \"English\"}, {\"iso...</td>\n",
       "      <td>Released</td>\n",
       "      <td>Enter the World of Pandora.</td>\n",
       "      <td>Avatar</td>\n",
       "      <td>7.2</td>\n",
       "      <td>11800</td>\n",
       "    </tr>\n",
       "    <tr>\n",
       "      <th>1</th>\n",
       "      <td>300000000</td>\n",
       "      <td>[{\"id\": 12, \"name\": \"Adventure\"}, {\"id\": 14, \"...</td>\n",
       "      <td>http://disney.go.com/disneypictures/pirates/</td>\n",
       "      <td>285</td>\n",
       "      <td>[{\"id\": 270, \"name\": \"ocean\"}, {\"id\": 726, \"na...</td>\n",
       "      <td>en</td>\n",
       "      <td>Pirates of the Caribbean: At World's End</td>\n",
       "      <td>Captain Barbossa, long believed to be dead, ha...</td>\n",
       "      <td>139.082615</td>\n",
       "      <td>[{\"name\": \"Walt Disney Pictures\", \"id\": 2}, {\"...</td>\n",
       "      <td>[{\"iso_3166_1\": \"US\", \"name\": \"United States o...</td>\n",
       "      <td>2007-05-19</td>\n",
       "      <td>961000000</td>\n",
       "      <td>169.0</td>\n",
       "      <td>[{\"iso_639_1\": \"en\", \"name\": \"English\"}]</td>\n",
       "      <td>Released</td>\n",
       "      <td>At the end of the world, the adventure begins.</td>\n",
       "      <td>Pirates of the Caribbean: At World's End</td>\n",
       "      <td>6.9</td>\n",
       "      <td>4500</td>\n",
       "    </tr>\n",
       "    <tr>\n",
       "      <th>2</th>\n",
       "      <td>245000000</td>\n",
       "      <td>[{\"id\": 28, \"name\": \"Action\"}, {\"id\": 12, \"nam...</td>\n",
       "      <td>http://www.sonypictures.com/movies/spectre/</td>\n",
       "      <td>206647</td>\n",
       "      <td>[{\"id\": 470, \"name\": \"spy\"}, {\"id\": 818, \"name...</td>\n",
       "      <td>en</td>\n",
       "      <td>Spectre</td>\n",
       "      <td>A cryptic message from Bond’s past sends him o...</td>\n",
       "      <td>107.376788</td>\n",
       "      <td>[{\"name\": \"Columbia Pictures\", \"id\": 5}, {\"nam...</td>\n",
       "      <td>[{\"iso_3166_1\": \"GB\", \"name\": \"United Kingdom\"...</td>\n",
       "      <td>2015-10-26</td>\n",
       "      <td>880674609</td>\n",
       "      <td>148.0</td>\n",
       "      <td>[{\"iso_639_1\": \"fr\", \"name\": \"Fran\\u00e7ais\"},...</td>\n",
       "      <td>Released</td>\n",
       "      <td>A Plan No One Escapes</td>\n",
       "      <td>Spectre</td>\n",
       "      <td>6.3</td>\n",
       "      <td>4466</td>\n",
       "    </tr>\n",
       "    <tr>\n",
       "      <th>3</th>\n",
       "      <td>250000000</td>\n",
       "      <td>[{\"id\": 28, \"name\": \"Action\"}, {\"id\": 80, \"nam...</td>\n",
       "      <td>http://www.thedarkknightrises.com/</td>\n",
       "      <td>49026</td>\n",
       "      <td>[{\"id\": 849, \"name\": \"dc comics\"}, {\"id\": 853,...</td>\n",
       "      <td>en</td>\n",
       "      <td>The Dark Knight Rises</td>\n",
       "      <td>Following the death of District Attorney Harve...</td>\n",
       "      <td>112.312950</td>\n",
       "      <td>[{\"name\": \"Legendary Pictures\", \"id\": 923}, {\"...</td>\n",
       "      <td>[{\"iso_3166_1\": \"US\", \"name\": \"United States o...</td>\n",
       "      <td>2012-07-16</td>\n",
       "      <td>1084939099</td>\n",
       "      <td>165.0</td>\n",
       "      <td>[{\"iso_639_1\": \"en\", \"name\": \"English\"}]</td>\n",
       "      <td>Released</td>\n",
       "      <td>The Legend Ends</td>\n",
       "      <td>The Dark Knight Rises</td>\n",
       "      <td>7.6</td>\n",
       "      <td>9106</td>\n",
       "    </tr>\n",
       "    <tr>\n",
       "      <th>4</th>\n",
       "      <td>260000000</td>\n",
       "      <td>[{\"id\": 28, \"name\": \"Action\"}, {\"id\": 12, \"nam...</td>\n",
       "      <td>http://movies.disney.com/john-carter</td>\n",
       "      <td>49529</td>\n",
       "      <td>[{\"id\": 818, \"name\": \"based on novel\"}, {\"id\":...</td>\n",
       "      <td>en</td>\n",
       "      <td>John Carter</td>\n",
       "      <td>John Carter is a war-weary, former military ca...</td>\n",
       "      <td>43.926995</td>\n",
       "      <td>[{\"name\": \"Walt Disney Pictures\", \"id\": 2}]</td>\n",
       "      <td>[{\"iso_3166_1\": \"US\", \"name\": \"United States o...</td>\n",
       "      <td>2012-03-07</td>\n",
       "      <td>284139100</td>\n",
       "      <td>132.0</td>\n",
       "      <td>[{\"iso_639_1\": \"en\", \"name\": \"English\"}]</td>\n",
       "      <td>Released</td>\n",
       "      <td>Lost in our world, found in another.</td>\n",
       "      <td>John Carter</td>\n",
       "      <td>6.1</td>\n",
       "      <td>2124</td>\n",
       "    </tr>\n",
       "  </tbody>\n",
       "</table>\n",
       "</div>"
      ],
      "text/plain": [
       "      budget                                             genres  \\\n",
       "0  237000000  [{\"id\": 28, \"name\": \"Action\"}, {\"id\": 12, \"nam...   \n",
       "1  300000000  [{\"id\": 12, \"name\": \"Adventure\"}, {\"id\": 14, \"...   \n",
       "2  245000000  [{\"id\": 28, \"name\": \"Action\"}, {\"id\": 12, \"nam...   \n",
       "3  250000000  [{\"id\": 28, \"name\": \"Action\"}, {\"id\": 80, \"nam...   \n",
       "4  260000000  [{\"id\": 28, \"name\": \"Action\"}, {\"id\": 12, \"nam...   \n",
       "\n",
       "                                       homepage      id  \\\n",
       "0                   http://www.avatarmovie.com/   19995   \n",
       "1  http://disney.go.com/disneypictures/pirates/     285   \n",
       "2   http://www.sonypictures.com/movies/spectre/  206647   \n",
       "3            http://www.thedarkknightrises.com/   49026   \n",
       "4          http://movies.disney.com/john-carter   49529   \n",
       "\n",
       "                                            keywords original_language  \\\n",
       "0  [{\"id\": 1463, \"name\": \"culture clash\"}, {\"id\":...                en   \n",
       "1  [{\"id\": 270, \"name\": \"ocean\"}, {\"id\": 726, \"na...                en   \n",
       "2  [{\"id\": 470, \"name\": \"spy\"}, {\"id\": 818, \"name...                en   \n",
       "3  [{\"id\": 849, \"name\": \"dc comics\"}, {\"id\": 853,...                en   \n",
       "4  [{\"id\": 818, \"name\": \"based on novel\"}, {\"id\":...                en   \n",
       "\n",
       "                             original_title  \\\n",
       "0                                    Avatar   \n",
       "1  Pirates of the Caribbean: At World's End   \n",
       "2                                   Spectre   \n",
       "3                     The Dark Knight Rises   \n",
       "4                               John Carter   \n",
       "\n",
       "                                            overview  popularity  \\\n",
       "0  In the 22nd century, a paraplegic Marine is di...  150.437577   \n",
       "1  Captain Barbossa, long believed to be dead, ha...  139.082615   \n",
       "2  A cryptic message from Bond’s past sends him o...  107.376788   \n",
       "3  Following the death of District Attorney Harve...  112.312950   \n",
       "4  John Carter is a war-weary, former military ca...   43.926995   \n",
       "\n",
       "                                production_companies  \\\n",
       "0  [{\"name\": \"Ingenious Film Partners\", \"id\": 289...   \n",
       "1  [{\"name\": \"Walt Disney Pictures\", \"id\": 2}, {\"...   \n",
       "2  [{\"name\": \"Columbia Pictures\", \"id\": 5}, {\"nam...   \n",
       "3  [{\"name\": \"Legendary Pictures\", \"id\": 923}, {\"...   \n",
       "4        [{\"name\": \"Walt Disney Pictures\", \"id\": 2}]   \n",
       "\n",
       "                                production_countries release_date     revenue  \\\n",
       "0  [{\"iso_3166_1\": \"US\", \"name\": \"United States o...   2009-12-10  2787965087   \n",
       "1  [{\"iso_3166_1\": \"US\", \"name\": \"United States o...   2007-05-19   961000000   \n",
       "2  [{\"iso_3166_1\": \"GB\", \"name\": \"United Kingdom\"...   2015-10-26   880674609   \n",
       "3  [{\"iso_3166_1\": \"US\", \"name\": \"United States o...   2012-07-16  1084939099   \n",
       "4  [{\"iso_3166_1\": \"US\", \"name\": \"United States o...   2012-03-07   284139100   \n",
       "\n",
       "   runtime                                   spoken_languages    status  \\\n",
       "0    162.0  [{\"iso_639_1\": \"en\", \"name\": \"English\"}, {\"iso...  Released   \n",
       "1    169.0           [{\"iso_639_1\": \"en\", \"name\": \"English\"}]  Released   \n",
       "2    148.0  [{\"iso_639_1\": \"fr\", \"name\": \"Fran\\u00e7ais\"},...  Released   \n",
       "3    165.0           [{\"iso_639_1\": \"en\", \"name\": \"English\"}]  Released   \n",
       "4    132.0           [{\"iso_639_1\": \"en\", \"name\": \"English\"}]  Released   \n",
       "\n",
       "                                          tagline  \\\n",
       "0                     Enter the World of Pandora.   \n",
       "1  At the end of the world, the adventure begins.   \n",
       "2                           A Plan No One Escapes   \n",
       "3                                 The Legend Ends   \n",
       "4            Lost in our world, found in another.   \n",
       "\n",
       "                                      title  vote_average  vote_count  \n",
       "0                                    Avatar           7.2       11800  \n",
       "1  Pirates of the Caribbean: At World's End           6.9        4500  \n",
       "2                                   Spectre           6.3        4466  \n",
       "3                     The Dark Knight Rises           7.6        9106  \n",
       "4                               John Carter           6.1        2124  "
      ]
     },
     "execution_count": 4,
     "metadata": {},
     "output_type": "execute_result"
    }
   ],
   "source": [
    "df.head()"
   ]
  },
  {
   "cell_type": "code",
   "execution_count": 5,
   "metadata": {
    "colab": {
     "base_uri": "https://localhost:8080/"
    },
    "executionInfo": {
     "elapsed": 7,
     "status": "ok",
     "timestamp": 1668751412816,
     "user": {
      "displayName": "farrikh alzami",
      "userId": "11964535993149439504"
     },
     "user_tz": -420
    },
    "id": "jphrq6CGVYwh",
    "outputId": "6439c3b9-ce8c-4f76-e546-aec59c69611b"
   },
   "outputs": [
    {
     "name": "stdout",
     "output_type": "stream",
     "text": [
      "<class 'pandas.core.frame.DataFrame'>\n",
      "Int64Index: 4800 entries, 546 to 4553\n",
      "Data columns (total 5 columns):\n",
      " #   Column       Non-Null Count  Dtype  \n",
      "---  ------       --------------  -----  \n",
      " 0   title        4800 non-null   object \n",
      " 1   tagline      4800 non-null   object \n",
      " 2   overview     4800 non-null   object \n",
      " 3   popularity   4800 non-null   float64\n",
      " 4   description  4800 non-null   object \n",
      "dtypes: float64(1), object(4)\n",
      "memory usage: 225.0+ KB\n"
     ]
    }
   ],
   "source": [
    "df = df[['title', 'tagline', 'overview', 'popularity']]\n",
    "df.tagline.fillna('', inplace=True)\n",
    "df['description'] = df['tagline'].map(str) + ' ' + df['overview']\n",
    "df.dropna(inplace=True)\n",
    "df = df.sort_values(by=['popularity'], ascending=False)\n",
    "df.info()"
   ]
  },
  {
   "cell_type": "code",
   "execution_count": 6,
   "metadata": {
    "colab": {
     "base_uri": "https://localhost:8080/",
     "height": 206
    },
    "executionInfo": {
     "elapsed": 5,
     "status": "ok",
     "timestamp": 1668751420462,
     "user": {
      "displayName": "farrikh alzami",
      "userId": "11964535993149439504"
     },
     "user_tz": -420
    },
    "id": "EGttDhkyVcnN",
    "outputId": "f0559949-5d18-4728-d50b-6aeb8a912bf5"
   },
   "outputs": [
    {
     "data": {
      "text/html": [
       "<div>\n",
       "<style scoped>\n",
       "    .dataframe tbody tr th:only-of-type {\n",
       "        vertical-align: middle;\n",
       "    }\n",
       "\n",
       "    .dataframe tbody tr th {\n",
       "        vertical-align: top;\n",
       "    }\n",
       "\n",
       "    .dataframe thead th {\n",
       "        text-align: right;\n",
       "    }\n",
       "</style>\n",
       "<table border=\"1\" class=\"dataframe\">\n",
       "  <thead>\n",
       "    <tr style=\"text-align: right;\">\n",
       "      <th></th>\n",
       "      <th>title</th>\n",
       "      <th>tagline</th>\n",
       "      <th>overview</th>\n",
       "      <th>popularity</th>\n",
       "      <th>description</th>\n",
       "    </tr>\n",
       "  </thead>\n",
       "  <tbody>\n",
       "    <tr>\n",
       "      <th>546</th>\n",
       "      <td>Minions</td>\n",
       "      <td>Before Gru, they had a history of bad bosses</td>\n",
       "      <td>Minions Stuart, Kevin and Bob are recruited by...</td>\n",
       "      <td>875.581305</td>\n",
       "      <td>Before Gru, they had a history of bad bosses M...</td>\n",
       "    </tr>\n",
       "    <tr>\n",
       "      <th>95</th>\n",
       "      <td>Interstellar</td>\n",
       "      <td>Mankind was born on Earth. It was never meant ...</td>\n",
       "      <td>Interstellar chronicles the adventures of a gr...</td>\n",
       "      <td>724.247784</td>\n",
       "      <td>Mankind was born on Earth. It was never meant ...</td>\n",
       "    </tr>\n",
       "    <tr>\n",
       "      <th>788</th>\n",
       "      <td>Deadpool</td>\n",
       "      <td>Witness the beginning of a happy ending</td>\n",
       "      <td>Deadpool tells the origin story of former Spec...</td>\n",
       "      <td>514.569956</td>\n",
       "      <td>Witness the beginning of a happy ending Deadpo...</td>\n",
       "    </tr>\n",
       "    <tr>\n",
       "      <th>94</th>\n",
       "      <td>Guardians of the Galaxy</td>\n",
       "      <td>All heroes start somewhere.</td>\n",
       "      <td>Light years from Earth, 26 years after being a...</td>\n",
       "      <td>481.098624</td>\n",
       "      <td>All heroes start somewhere. Light years from E...</td>\n",
       "    </tr>\n",
       "    <tr>\n",
       "      <th>127</th>\n",
       "      <td>Mad Max: Fury Road</td>\n",
       "      <td>What a Lovely Day.</td>\n",
       "      <td>An apocalyptic story set in the furthest reach...</td>\n",
       "      <td>434.278564</td>\n",
       "      <td>What a Lovely Day. An apocalyptic story set in...</td>\n",
       "    </tr>\n",
       "  </tbody>\n",
       "</table>\n",
       "</div>"
      ],
      "text/plain": [
       "                       title  \\\n",
       "546                  Minions   \n",
       "95              Interstellar   \n",
       "788                 Deadpool   \n",
       "94   Guardians of the Galaxy   \n",
       "127       Mad Max: Fury Road   \n",
       "\n",
       "                                               tagline  \\\n",
       "546       Before Gru, they had a history of bad bosses   \n",
       "95   Mankind was born on Earth. It was never meant ...   \n",
       "788            Witness the beginning of a happy ending   \n",
       "94                         All heroes start somewhere.   \n",
       "127                                 What a Lovely Day.   \n",
       "\n",
       "                                              overview  popularity  \\\n",
       "546  Minions Stuart, Kevin and Bob are recruited by...  875.581305   \n",
       "95   Interstellar chronicles the adventures of a gr...  724.247784   \n",
       "788  Deadpool tells the origin story of former Spec...  514.569956   \n",
       "94   Light years from Earth, 26 years after being a...  481.098624   \n",
       "127  An apocalyptic story set in the furthest reach...  434.278564   \n",
       "\n",
       "                                           description  \n",
       "546  Before Gru, they had a history of bad bosses M...  \n",
       "95   Mankind was born on Earth. It was never meant ...  \n",
       "788  Witness the beginning of a happy ending Deadpo...  \n",
       "94   All heroes start somewhere. Light years from E...  \n",
       "127  What a Lovely Day. An apocalyptic story set in...  "
      ]
     },
     "execution_count": 6,
     "metadata": {},
     "output_type": "execute_result"
    }
   ],
   "source": [
    "df.head()"
   ]
  },
  {
   "cell_type": "code",
   "execution_count": 7,
   "metadata": {
    "colab": {
     "base_uri": "https://localhost:8080/",
     "height": 54
    },
    "executionInfo": {
     "elapsed": 6,
     "status": "ok",
     "timestamp": 1668751465201,
     "user": {
      "displayName": "farrikh alzami",
      "userId": "11964535993149439504"
     },
     "user_tz": -420
    },
    "id": "yXyKhbjKVeap",
    "outputId": "a5f02189-1090-4661-dfa5-a41c752a94a5"
   },
   "outputs": [
    {
     "data": {
      "text/plain": [
       "'Before Gru, they had a history of bad bosses Minions Stuart, Kevin and Bob are recruited by Scarlet Overkill, a super-villain who, alongside her inventor husband Herb, hatches a plot to take over the world.'"
      ]
     },
     "execution_count": 7,
     "metadata": {},
     "output_type": "execute_result"
    }
   ],
   "source": [
    "df.iloc[0].description"
   ]
  },
  {
   "cell_type": "markdown",
   "metadata": {
    "id": "60vwITLaGCxO"
   },
   "source": [
    "# Bangun Sistem Rekomendasi Film\n",
    "\n",
    "Di sini Anda akan membangun sistem rekomendasi film Anda sendiri. Kami akan menggunakan pipa berikut:\n",
    "- Teks pra-pemrosesan\n",
    "- Rekayasa Fitur\n",
    "- Komputasi Kemiripan Dokumen\n",
    "- Temukan film serupa teratas\n",
    "- Bangun fungsi rekomendasi film\n",
    "\n",
    "\n",
    "## Kemiripan Dokumen / document similarity\n",
    "\n",
    "Rekomendasi adalah tentang memahami fitur dasar yang membuat kita menyukai satu pilihan daripada yang lain. Kesamaan antar item (dalam hal ini film) adalah salah satu cara untuk memahami mengapa kita memilih satu film daripada yang lain. Ada berbagai cara untuk menghitung kesamaan antara dua item. Salah satu ukuran yang paling banyak digunakan adalah __cosine similarity__ yang telah kita gunakan di unit sebelumnya.\n",
    "\n",
    "### Kemiripan Kosinus\n",
    "\n",
    "Cosine Similarity digunakan untuk menghitung skor numerik untuk menunjukkan kesamaan antara dua dokumen teks. Secara matematis, ini didefinisikan sebagai berikut:\n",
    "\n",
    "$$ cosinus(x,y) = \\frac{x. y^\\intercal}{||x||.||y||} $$"
   ]
  },
  {
   "cell_type": "code",
   "execution_count": 8,
   "metadata": {
    "colab": {
     "base_uri": "https://localhost:8080/"
    },
    "executionInfo": {
     "elapsed": 3582,
     "status": "ok",
     "timestamp": 1668751482462,
     "user": {
      "displayName": "farrikh alzami",
      "userId": "11964535993149439504"
     },
     "user_tz": -420
    },
    "id": "jhmh3aAqVk9X",
    "outputId": "14d715b2-aace-4eba-cd92-fa4dce2a647c"
   },
   "outputs": [
    {
     "data": {
      "text/plain": [
       "4800"
      ]
     },
     "execution_count": 8,
     "metadata": {},
     "output_type": "execute_result"
    }
   ],
   "source": [
    "import nltk\n",
    "import re\n",
    "import numpy as np\n",
    "import contractions\n",
    "\n",
    "stop_words = nltk.corpus.stopwords.words('english')\n",
    "\n",
    "def normalize_document(doc):\n",
    "    # lower case and remove special characters\\whitespaces\n",
    "    doc = re.sub(r'[^a-zA-Z0-9\\s]', '', doc, re.I|re.A)\n",
    "    doc = doc.lower()\n",
    "    doc = doc.strip()\n",
    "    doc = contractions.fix(doc)\n",
    "    # tokenize document\n",
    "    tokens = nltk.word_tokenize(doc)\n",
    "    #filter stopwords out of document\n",
    "    filtered_tokens = [token for token in tokens if token not in stop_words]\n",
    "    # re-create document from filtered tokens\n",
    "    doc = ' '.join(filtered_tokens)\n",
    "    return doc\n",
    "\n",
    "normalize_corpus = np.vectorize(normalize_document)\n",
    "\n",
    "norm_corpus = normalize_corpus(list(df['description']))\n",
    "len(norm_corpus)"
   ]
  },
  {
   "cell_type": "markdown",
   "metadata": {
    "id": "Njr1PJAyGI3T"
   },
   "source": [
    "## Extrak TF-IDF"
   ]
  },
  {
   "cell_type": "code",
   "execution_count": 9,
   "metadata": {
    "colab": {
     "base_uri": "https://localhost:8080/"
    },
    "executionInfo": {
     "elapsed": 1128,
     "status": "ok",
     "timestamp": 1668751484503,
     "user": {
      "displayName": "farrikh alzami",
      "userId": "11964535993149439504"
     },
     "user_tz": -420
    },
    "id": "q81rt1hlVs2l",
    "outputId": "966c8a65-19d5-473e-e1c9-b6248ce7c606"
   },
   "outputs": [
    {
     "data": {
      "text/plain": [
       "(4800, 20471)"
      ]
     },
     "execution_count": 9,
     "metadata": {},
     "output_type": "execute_result"
    }
   ],
   "source": [
    "from sklearn.feature_extraction.text import TfidfVectorizer\n",
    "\n",
    "tf = TfidfVectorizer(ngram_range=(1, 2), min_df=2)\n",
    "tfidf_matrix = tf.fit_transform(norm_corpus)\n",
    "tfidf_matrix.shape"
   ]
  },
  {
   "cell_type": "markdown",
   "metadata": {
    "id": "buWfXVACGMlI"
   },
   "source": [
    "## Compute Pairwise Document Similarity"
   ]
  },
  {
   "cell_type": "code",
   "execution_count": 10,
   "metadata": {
    "colab": {
     "base_uri": "https://localhost:8080/",
     "height": 279
    },
    "executionInfo": {
     "elapsed": 1078,
     "status": "ok",
     "timestamp": 1668751490801,
     "user": {
      "displayName": "farrikh alzami",
      "userId": "11964535993149439504"
     },
     "user_tz": -420
    },
    "id": "htSj1WBPVt3p",
    "outputId": "f6ad2633-877e-49cd-bff7-f7f90d5a06c4"
   },
   "outputs": [
    {
     "data": {
      "text/html": [
       "<div>\n",
       "<style scoped>\n",
       "    .dataframe tbody tr th:only-of-type {\n",
       "        vertical-align: middle;\n",
       "    }\n",
       "\n",
       "    .dataframe tbody tr th {\n",
       "        vertical-align: top;\n",
       "    }\n",
       "\n",
       "    .dataframe thead th {\n",
       "        text-align: right;\n",
       "    }\n",
       "</style>\n",
       "<table border=\"1\" class=\"dataframe\">\n",
       "  <thead>\n",
       "    <tr style=\"text-align: right;\">\n",
       "      <th></th>\n",
       "      <th>0</th>\n",
       "      <th>1</th>\n",
       "      <th>2</th>\n",
       "      <th>3</th>\n",
       "      <th>4</th>\n",
       "      <th>5</th>\n",
       "      <th>6</th>\n",
       "      <th>7</th>\n",
       "      <th>8</th>\n",
       "      <th>9</th>\n",
       "      <th>...</th>\n",
       "      <th>4790</th>\n",
       "      <th>4791</th>\n",
       "      <th>4792</th>\n",
       "      <th>4793</th>\n",
       "      <th>4794</th>\n",
       "      <th>4795</th>\n",
       "      <th>4796</th>\n",
       "      <th>4797</th>\n",
       "      <th>4798</th>\n",
       "      <th>4799</th>\n",
       "    </tr>\n",
       "  </thead>\n",
       "  <tbody>\n",
       "    <tr>\n",
       "      <th>0</th>\n",
       "      <td>1.000000</td>\n",
       "      <td>0.000000</td>\n",
       "      <td>0.000000</td>\n",
       "      <td>0.000000</td>\n",
       "      <td>0.006071</td>\n",
       "      <td>0.008067</td>\n",
       "      <td>0.0</td>\n",
       "      <td>0.000000</td>\n",
       "      <td>0.0</td>\n",
       "      <td>0.000000</td>\n",
       "      <td>...</td>\n",
       "      <td>0.018758</td>\n",
       "      <td>0.000000</td>\n",
       "      <td>0.037930</td>\n",
       "      <td>0.0</td>\n",
       "      <td>0.000000</td>\n",
       "      <td>0.000000</td>\n",
       "      <td>0.000000</td>\n",
       "      <td>0.000000</td>\n",
       "      <td>0.000000</td>\n",
       "      <td>0.009646</td>\n",
       "    </tr>\n",
       "    <tr>\n",
       "      <th>1</th>\n",
       "      <td>0.000000</td>\n",
       "      <td>1.000000</td>\n",
       "      <td>0.000000</td>\n",
       "      <td>0.017839</td>\n",
       "      <td>0.007968</td>\n",
       "      <td>0.000000</td>\n",
       "      <td>0.0</td>\n",
       "      <td>0.012501</td>\n",
       "      <td>0.0</td>\n",
       "      <td>0.014840</td>\n",
       "      <td>...</td>\n",
       "      <td>0.000000</td>\n",
       "      <td>0.000000</td>\n",
       "      <td>0.017564</td>\n",
       "      <td>0.0</td>\n",
       "      <td>0.019152</td>\n",
       "      <td>0.000000</td>\n",
       "      <td>0.000000</td>\n",
       "      <td>0.000000</td>\n",
       "      <td>0.000000</td>\n",
       "      <td>0.007963</td>\n",
       "    </tr>\n",
       "    <tr>\n",
       "      <th>2</th>\n",
       "      <td>0.000000</td>\n",
       "      <td>0.000000</td>\n",
       "      <td>1.000000</td>\n",
       "      <td>0.000000</td>\n",
       "      <td>0.017178</td>\n",
       "      <td>0.000000</td>\n",
       "      <td>0.0</td>\n",
       "      <td>0.000000</td>\n",
       "      <td>0.0</td>\n",
       "      <td>0.024326</td>\n",
       "      <td>...</td>\n",
       "      <td>0.000000</td>\n",
       "      <td>0.006903</td>\n",
       "      <td>0.005024</td>\n",
       "      <td>0.0</td>\n",
       "      <td>0.012893</td>\n",
       "      <td>0.000000</td>\n",
       "      <td>0.025975</td>\n",
       "      <td>0.000000</td>\n",
       "      <td>0.027126</td>\n",
       "      <td>0.009340</td>\n",
       "    </tr>\n",
       "    <tr>\n",
       "      <th>3</th>\n",
       "      <td>0.000000</td>\n",
       "      <td>0.017839</td>\n",
       "      <td>0.000000</td>\n",
       "      <td>1.000000</td>\n",
       "      <td>0.000000</td>\n",
       "      <td>0.022414</td>\n",
       "      <td>0.0</td>\n",
       "      <td>0.000000</td>\n",
       "      <td>0.0</td>\n",
       "      <td>0.037207</td>\n",
       "      <td>...</td>\n",
       "      <td>0.000000</td>\n",
       "      <td>0.060846</td>\n",
       "      <td>0.025039</td>\n",
       "      <td>0.0</td>\n",
       "      <td>0.036237</td>\n",
       "      <td>0.030516</td>\n",
       "      <td>0.022605</td>\n",
       "      <td>0.000000</td>\n",
       "      <td>0.000000</td>\n",
       "      <td>0.000000</td>\n",
       "    </tr>\n",
       "    <tr>\n",
       "      <th>4</th>\n",
       "      <td>0.006071</td>\n",
       "      <td>0.007968</td>\n",
       "      <td>0.017178</td>\n",
       "      <td>0.000000</td>\n",
       "      <td>1.000000</td>\n",
       "      <td>0.004673</td>\n",
       "      <td>0.0</td>\n",
       "      <td>0.064581</td>\n",
       "      <td>0.0</td>\n",
       "      <td>0.000000</td>\n",
       "      <td>...</td>\n",
       "      <td>0.022064</td>\n",
       "      <td>0.019662</td>\n",
       "      <td>0.036561</td>\n",
       "      <td>0.0</td>\n",
       "      <td>0.015826</td>\n",
       "      <td>0.000000</td>\n",
       "      <td>0.076033</td>\n",
       "      <td>0.004516</td>\n",
       "      <td>0.043475</td>\n",
       "      <td>0.011465</td>\n",
       "    </tr>\n",
       "  </tbody>\n",
       "</table>\n",
       "<p>5 rows × 4800 columns</p>\n",
       "</div>"
      ],
      "text/plain": [
       "       0         1         2         3         4         5     6         7     \\\n",
       "0  1.000000  0.000000  0.000000  0.000000  0.006071  0.008067   0.0  0.000000   \n",
       "1  0.000000  1.000000  0.000000  0.017839  0.007968  0.000000   0.0  0.012501   \n",
       "2  0.000000  0.000000  1.000000  0.000000  0.017178  0.000000   0.0  0.000000   \n",
       "3  0.000000  0.017839  0.000000  1.000000  0.000000  0.022414   0.0  0.000000   \n",
       "4  0.006071  0.007968  0.017178  0.000000  1.000000  0.004673   0.0  0.064581   \n",
       "\n",
       "   8         9     ...      4790      4791      4792  4793      4794  \\\n",
       "0   0.0  0.000000  ...  0.018758  0.000000  0.037930   0.0  0.000000   \n",
       "1   0.0  0.014840  ...  0.000000  0.000000  0.017564   0.0  0.019152   \n",
       "2   0.0  0.024326  ...  0.000000  0.006903  0.005024   0.0  0.012893   \n",
       "3   0.0  0.037207  ...  0.000000  0.060846  0.025039   0.0  0.036237   \n",
       "4   0.0  0.000000  ...  0.022064  0.019662  0.036561   0.0  0.015826   \n",
       "\n",
       "       4795      4796      4797      4798      4799  \n",
       "0  0.000000  0.000000  0.000000  0.000000  0.009646  \n",
       "1  0.000000  0.000000  0.000000  0.000000  0.007963  \n",
       "2  0.000000  0.025975  0.000000  0.027126  0.009340  \n",
       "3  0.030516  0.022605  0.000000  0.000000  0.000000  \n",
       "4  0.000000  0.076033  0.004516  0.043475  0.011465  \n",
       "\n",
       "[5 rows x 4800 columns]"
      ]
     },
     "execution_count": 10,
     "metadata": {},
     "output_type": "execute_result"
    }
   ],
   "source": [
    "from sklearn.metrics.pairwise import cosine_similarity\n",
    "\n",
    "doc_sim = cosine_similarity(tfidf_matrix)\n",
    "doc_sim_df = pd.DataFrame(doc_sim)\n",
    "doc_sim_df.head()"
   ]
  },
  {
   "cell_type": "markdown",
   "metadata": {
    "id": "06tyYXABGOY2"
   },
   "source": [
    "## mendapatkan title / judul movies"
   ]
  },
  {
   "cell_type": "code",
   "execution_count": 11,
   "metadata": {
    "colab": {
     "base_uri": "https://localhost:8080/"
    },
    "executionInfo": {
     "elapsed": 505,
     "status": "ok",
     "timestamp": 1668751494332,
     "user": {
      "displayName": "farrikh alzami",
      "userId": "11964535993149439504"
     },
     "user_tz": -420
    },
    "id": "AkQ1-OjFVvdw",
    "outputId": "2d58ea43-412b-4bc6-b132-d3d13a036092"
   },
   "outputs": [
    {
     "data": {
      "text/plain": [
       "(array(['Minions', 'Interstellar', 'Deadpool', ..., 'Penitentiary',\n",
       "        'Alien Zone', 'America Is Still the Place'], dtype=object),\n",
       " (4800,))"
      ]
     },
     "execution_count": 11,
     "metadata": {},
     "output_type": "execute_result"
    }
   ],
   "source": [
    "movies_list = df['title'].values\n",
    "movies_list, movies_list.shape"
   ]
  },
  {
   "cell_type": "markdown",
   "metadata": {
    "id": "oYnMl5HVGY3v"
   },
   "source": [
    "## Temukan Film Serupa Teratas untuk Contoh Film\n",
    "\n",
    "Mari ambil __Minions__ film paling populer dari kerangka data di atas dan coba temukan film paling mirip yang dapat direkomendasikan"
   ]
  },
  {
   "cell_type": "markdown",
   "metadata": {
    "id": "Jb0zYhQGGdXs"
   },
   "source": [
    "### ambil movie ID"
   ]
  },
  {
   "cell_type": "code",
   "execution_count": 12,
   "metadata": {
    "colab": {
     "base_uri": "https://localhost:8080/"
    },
    "executionInfo": {
     "elapsed": 3,
     "status": "ok",
     "timestamp": 1668751497820,
     "user": {
      "displayName": "farrikh alzami",
      "userId": "11964535993149439504"
     },
     "user_tz": -420
    },
    "id": "2-0eF9d5VwcD",
    "outputId": "d820533c-708d-4458-e725-c782a5c270ac"
   },
   "outputs": [
    {
     "data": {
      "text/plain": [
       "0"
      ]
     },
     "execution_count": 12,
     "metadata": {},
     "output_type": "execute_result"
    }
   ],
   "source": [
    "movie_idx = np.where(movies_list == 'Minions')[0][0]\n",
    "movie_idx"
   ]
  },
  {
   "cell_type": "markdown",
   "metadata": {
    "id": "N5ANO-GxGg0D"
   },
   "source": [
    "### ambil similarities"
   ]
  },
  {
   "cell_type": "code",
   "execution_count": 13,
   "metadata": {
    "colab": {
     "base_uri": "https://localhost:8080/"
    },
    "executionInfo": {
     "elapsed": 3,
     "status": "ok",
     "timestamp": 1668751504352,
     "user": {
      "displayName": "farrikh alzami",
      "userId": "11964535993149439504"
     },
     "user_tz": -420
    },
    "id": "50qG66H4VxaO",
    "outputId": "05804a11-ac11-4536-9103-380d1eec0f4c"
   },
   "outputs": [
    {
     "data": {
      "text/plain": [
       "array([1.        , 0.        , 0.        , ..., 0.        , 0.        ,\n",
       "       0.00964646])"
      ]
     },
     "execution_count": 13,
     "metadata": {},
     "output_type": "execute_result"
    }
   ],
   "source": [
    "movie_similarities = doc_sim_df.iloc[movie_idx].values\n",
    "movie_similarities"
   ]
  },
  {
   "cell_type": "markdown",
   "metadata": {
    "id": "7Z4U9XqMGofg"
   },
   "source": [
    "### Get top 5 similar movie IDs"
   ]
  },
  {
   "cell_type": "code",
   "execution_count": 14,
   "metadata": {
    "colab": {
     "base_uri": "https://localhost:8080/"
    },
    "executionInfo": {
     "elapsed": 398,
     "status": "ok",
     "timestamp": 1668751508133,
     "user": {
      "displayName": "farrikh alzami",
      "userId": "11964535993149439504"
     },
     "user_tz": -420
    },
    "id": "nCp6LI9OVzBh",
    "outputId": "287a770a-34e1-4c38-9c7c-363bf5cb097a"
   },
   "outputs": [
    {
     "data": {
      "text/plain": [
       "array([ 33,  60, 737, 490, 298])"
      ]
     },
     "execution_count": 14,
     "metadata": {},
     "output_type": "execute_result"
    }
   ],
   "source": [
    "similar_movie_idxs = np.argsort(-movie_similarities)[1:6]\n",
    "similar_movie_idxs"
   ]
  },
  {
   "cell_type": "markdown",
   "metadata": {
    "id": "nf3R8PL_GsFV"
   },
   "source": [
    "### Get top 5 similar movies"
   ]
  },
  {
   "cell_type": "code",
   "execution_count": 15,
   "metadata": {
    "colab": {
     "base_uri": "https://localhost:8080/"
    },
    "executionInfo": {
     "elapsed": 389,
     "status": "ok",
     "timestamp": 1668751511982,
     "user": {
      "displayName": "farrikh alzami",
      "userId": "11964535993149439504"
     },
     "user_tz": -420
    },
    "id": "p45bXWcLVz7V",
    "outputId": "89e1f3ac-2a16-44c7-8ef6-f174b1bc02cf"
   },
   "outputs": [
    {
     "data": {
      "text/plain": [
       "array(['Despicable Me 2', 'Despicable Me',\n",
       "       'Teenage Mutant Ninja Turtles: Out of the Shadows', 'Superman',\n",
       "       'Rise of the Guardians'], dtype=object)"
      ]
     },
     "execution_count": 15,
     "metadata": {},
     "output_type": "execute_result"
    }
   ],
   "source": [
    "similar_movies = movies_list[similar_movie_idxs]\n",
    "similar_movies"
   ]
  },
  {
   "cell_type": "markdown",
   "metadata": {
    "id": "HsEr2msSG0P_"
   },
   "source": [
    "### Buat fungsi rekomendasi film untuk merekomendasikan 5 film serupa teratas untuk film apa pun\n",
    "\n",
    "\n",
    "The movie title, movie title list and document similarity matrix dataframe akan diberikan sebagai input ke fungsi"
   ]
  },
  {
   "cell_type": "code",
   "execution_count": 16,
   "metadata": {
    "id": "ntQfhP_CV0wO"
   },
   "outputs": [],
   "source": [
    "def movie_recommender(movie_title, movies=movies_list, doc_sims=doc_sim_df):\n",
    "    # find movie id\n",
    "    movie_idx = np.where(movies == movie_title)[0][0]\n",
    "    # get movie similarities\n",
    "    movie_similarities = doc_sims.iloc[movie_idx].values\n",
    "    # get top 5 similar movie IDs\n",
    "    similar_movie_idxs = np.argsort(-movie_similarities)[1:6]\n",
    "    # get top 5 movies\n",
    "    similar_movies = movies[similar_movie_idxs]\n",
    "    # return the top 5 movies\n",
    "    return similar_movies"
   ]
  },
  {
   "cell_type": "markdown",
   "metadata": {
    "id": "woWv4gI9G_j8"
   },
   "source": [
    "# misal cari rekomendasi untuk film film berikut"
   ]
  },
  {
   "cell_type": "code",
   "execution_count": 17,
   "metadata": {
    "id": "5tyK3sc9V1sW"
   },
   "outputs": [],
   "source": [
    "popular_movies = ['Minions', 'Interstellar', 'Deadpool', 'Jurassic World', 'Pirates of the Caribbean: The Curse of the Black Pearl',\n",
    "              'Dawn of the Planet of the Apes', 'The Hunger Games: Mockingjay - Part 1', 'Terminator Genisys', \n",
    "              'Captain America: Civil War', 'The Dark Knight', 'The Martian', 'Batman v Superman: Dawn of Justice', \n",
    "              'Pulp Fiction', 'The Godfather', 'The Shawshank Redemption', 'The Lord of the Rings: The Fellowship of the Ring',  \n",
    "              'Harry Potter and the Chamber of Secrets', 'Star Wars', 'The Hobbit: The Battle of the Five Armies',\n",
    "              'Iron Man']"
   ]
  },
  {
   "cell_type": "code",
   "execution_count": 18,
   "metadata": {
    "colab": {
     "base_uri": "https://localhost:8080/"
    },
    "executionInfo": {
     "elapsed": 4,
     "status": "ok",
     "timestamp": 1668751524302,
     "user": {
      "displayName": "farrikh alzami",
      "userId": "11964535993149439504"
     },
     "user_tz": -420
    },
    "id": "G0UfKTONV22K",
    "outputId": "3c1328de-615a-49a3-9b54-51c764ab1644"
   },
   "outputs": [
    {
     "name": "stdout",
     "output_type": "stream",
     "text": [
      "Movie: Minions\n",
      "Top 5 recommended Movies: ['Despicable Me 2' 'Despicable Me'\n",
      " 'Teenage Mutant Ninja Turtles: Out of the Shadows' 'Superman'\n",
      " 'Rise of the Guardians']\n",
      "\n",
      "Movie: Interstellar\n",
      "Top 5 recommended Movies: ['Gattaca' 'Space Pirate Captain Harlock' 'Space Cowboys'\n",
      " 'Starship Troopers' 'Final Destination 2']\n",
      "\n",
      "Movie: Deadpool\n",
      "Top 5 recommended Movies: ['Silent Trigger' 'Underworld: Evolution' 'Bronson' 'Shaft' 'Don Jon']\n",
      "\n",
      "Movie: Jurassic World\n",
      "Top 5 recommended Movies: ['Jurassic Park' 'The Lost World: Jurassic Park'\n",
      " \"National Lampoon's Vacation\" 'The Nut Job' 'Vacation']\n",
      "\n",
      "Movie: Pirates of the Caribbean: The Curse of the Black Pearl\n",
      "Top 5 recommended Movies: [\"Pirates of the Caribbean: Dead Man's Chest\"\n",
      " 'Pirates of the Caribbean: On Stranger Tides' 'The Pirate'\n",
      " 'The Pirates! In an Adventure with Scientists!' 'Joyful Noise']\n",
      "\n",
      "Movie: Dawn of the Planet of the Apes\n",
      "Top 5 recommended Movies: ['Battle for the Planet of the Apes' 'Groove' 'The Other End of the Line'\n",
      " 'Chicago Overcoat' 'Definitely, Maybe']\n",
      "\n",
      "Movie: The Hunger Games: Mockingjay - Part 1\n",
      "Top 5 recommended Movies: ['The Hunger Games: Catching Fire' 'The Hunger Games: Mockingjay - Part 2'\n",
      " 'John Carter' 'For Greater Glory - The True Story of Cristiada'\n",
      " 'The Proposition']\n",
      "\n",
      "Movie: Terminator Genisys\n",
      "Top 5 recommended Movies: ['Terminator 2: Judgment Day' 'Terminator Salvation'\n",
      " 'Terminator 3: Rise of the Machines' 'Mad Max'\n",
      " 'X-Men: Days of Future Past']\n",
      "\n",
      "Movie: Captain America: Civil War\n",
      "Top 5 recommended Movies: ['Captain America: The Winter Soldier' 'This Means War'\n",
      " 'Avengers: Age of Ultron' 'Iron Man 2' 'Escape from Tomorrow']\n",
      "\n",
      "Movie: The Dark Knight\n",
      "Top 5 recommended Movies: ['The Dark Knight Rises' 'Batman Forever' 'Batman Returns'\n",
      " 'Batman: The Dark Knight Returns, Part 2' 'JFK']\n",
      "\n",
      "Movie: The Martian\n",
      "Top 5 recommended Movies: ['The Last Days on Mars' 'Swept Away' 'Alive' 'All Is Lost' 'Red Planet']\n",
      "\n",
      "Movie: Batman v Superman: Dawn of Justice\n",
      "Top 5 recommended Movies: ['Batman Returns' 'The Punisher' 'Defendor'\n",
      " 'Batman: The Dark Knight Returns, Part 2' 'Nowhere to Run']\n",
      "\n",
      "Movie: Pulp Fiction\n",
      "Top 5 recommended Movies: ['Sliding Doors' 'You Kill Me' 'New York Stories' 'Timecrimes'\n",
      " 'All or Nothing']\n",
      "\n",
      "Movie: The Godfather\n",
      "Top 5 recommended Movies: ['The Godfather: Part II' 'Blood Ties' 'Made' 'Lords of London'\n",
      " 'Easy Money']\n",
      "\n",
      "Movie: The Shawshank Redemption\n",
      "Top 5 recommended Movies: ['Civil Brand' 'Les Misérables' 'The Chorus' 'Prison' 'Fortress']\n",
      "\n",
      "Movie: The Lord of the Rings: The Fellowship of the Ring\n",
      "Top 5 recommended Movies: ['The Lord of the Rings: The Two Towers'\n",
      " 'The Hobbit: The Desolation of Smaug'\n",
      " 'The Lord of the Rings: The Return of the King'\n",
      " \"What's the Worst That Could Happen?\" 'The Hobbit: An Unexpected Journey']\n",
      "\n",
      "Movie: Harry Potter and the Chamber of Secrets\n",
      "Top 5 recommended Movies: ['Harry Potter and the Prisoner of Azkaban'\n",
      " 'Harry Potter and the Goblet of Fire'\n",
      " 'Harry Potter and the Order of the Phoenix'\n",
      " 'Harry Potter and the Half-Blood Prince'\n",
      " \"Harry Potter and the Philosopher's Stone\"]\n",
      "\n",
      "Movie: Star Wars\n",
      "Top 5 recommended Movies: ['The Empire Strikes Back' 'Return of the Jedi' 'Shrek the Third'\n",
      " 'The Ice Pirates' 'The Tale of Despereaux']\n",
      "\n",
      "Movie: The Hobbit: The Battle of the Five Armies\n",
      "Top 5 recommended Movies: ['The Hobbit: The Desolation of Smaug' 'The Hobbit: An Unexpected Journey'\n",
      " \"Dragon Nest: Warriors' Dawn\"\n",
      " 'A Funny Thing Happened on the Way to the Forum' 'X-Men: Apocalypse']\n",
      "\n",
      "Movie: Iron Man\n",
      "Top 5 recommended Movies: ['Iron Man 2' 'Avengers: Age of Ultron' 'Hostage' 'Iron Man 3'\n",
      " 'Baahubali: The Beginning']\n",
      "\n"
     ]
    }
   ],
   "source": [
    "for movie in popular_movies:\n",
    "    print('Movie:', movie)\n",
    "    print('Top 5 recommended Movies:', movie_recommender(movie_title=movie, movies=movies_list, doc_sims=doc_sim_df))\n",
    "    print()"
   ]
  },
  {
   "cell_type": "markdown",
   "metadata": {
    "id": "hmdn6yPYHMCo"
   },
   "source": [
    "# Rekomendasi Film dengan Penyematan\n",
    "\n",
    "Kita menggunakan fitur normalisasi berbasis hitungan di bagian sebelumnya. Bisakah kita menggunakan penyematan kata dan kemudian menghitung kesamaan film? kita pasti bisa! Di sini kita akan menggunakan model FastText dan melatihnya di korpus kita.\n",
    "\n",
    "Model FastText pertama kali diperkenalkan oleh Facebook pada tahun 2016 sebagai perpanjangan dan seharusnya merupakan peningkatan dari model vanilla Word2Vec. Berdasarkan makalah asli berjudul 'Enriching Word Vectors with Subword Information / Memperkaya Vektor Kata dengan Informasi Subword' oleh Mikolov et al. yang merupakan bacaan yang bagus untuk mendapatkan pemahaman mendalam tentang cara kerja model ini. Secara keseluruhan, FastText adalah kerangka kerja untuk mempelajari representasi kata dan juga melakukan klasifikasi teks yang kuat, cepat, dan akurat. Framework ini bersumber terbuka dari Facebook di GitHub dan mengklaim memiliki yang berikut ini.\n",
    "- Vektor kata bahasa Inggris terkini.\n",
    "- Vektor kata untuk 157 bahasa dilatih di Wikipedia dan Perayapan.\n",
    "- Model untuk identifikasi bahasa dan berbagai tugas yang diawasi.\n",
    "\n",
    "Meskipun saya belum mengimplementasikan model ini dari awal, berdasarkan makalah penelitian, berikut adalah apa yang saya pelajari tentang cara kerja model tersebut. Secara umum, model prediktif seperti model Word2Vec biasanya menganggap setiap kata sebagai entitas yang berbeda (mis. `di mana`) dan menghasilkan penyematan padat untuk kata tersebut. Namun hal ini menjadi batasan serius dengan bahasa yang memiliki kosakata besar dan banyak kata langka yang mungkin tidak banyak muncul di kumpulan yang berbeda. Model Word2Vec biasanya mengabaikan struktur morfologi setiap kata dan menganggap kata sebagai satu kesatuan. Model FastText menganggap setiap kata sebagai Bag of Character n-gram. Ini juga disebut sebagai model subword di koran.\n",
    "\n",
    "Kami menambahkan simbol batas khusus < dan > di awal dan akhir kata. Hal ini memungkinkan kita untuk membedakan prefiks dan sufiks dari rangkaian karakter lainnya. Kami juga menyertakan kata w itu sendiri dalam himpunan n-gramnya, untuk mempelajari representasi setiap kata (selain karakter n-gramnya). Mengambil kata `di mana` dan n=3 (tri-gram) sebagai contoh, itu akan diwakili oleh karakter n-gram: `<wh, whe, her, ere, re>` dan urutan khusus `<where >` mewakili seluruh kata. Perhatikan bahwa urutan , yang sesuai dengan kata `<her>` berbeda dengan tri-gram `her` dari kata `where`.\n",
    "\n",
    "Di sini kami memanfaatkan `gensim` untuk membuat embedding kami"
   ]
  },
  {
   "cell_type": "code",
   "execution_count": 19,
   "metadata": {
    "id": "V5_7kZA6V33t"
   },
   "outputs": [],
   "source": [
    "from gensim.models import FastText\n",
    "\n",
    "tokenized_docs = [doc.split() for doc in norm_corpus]\n",
    "ft_model = FastText(tokenized_docs, window=30, min_count=2, workers=4, sg=1)"
   ]
  },
  {
   "cell_type": "markdown",
   "metadata": {
    "id": "wwV4oV_cHfM2"
   },
   "source": [
    "# Hasilkan penyematan tingkat dokumen / Word Embedding\n",
    "\n",
    "Model penyematan kata (word embedding) memberi kita penyematan untuk setiap kata, bagaimana kita dapat menggunakannya untuk tugas ML\\DL hilirisasi? salah satu caranya adalah dengan meratakannya atau menggunakan model sekuensial. Pendekatan yang lebih sederhana adalah dengan rata-rata semua penyematan kata untuk kata-kata dalam dokumen dan menghasilkan penyematan tingkat dokumen dengan panjang tetap (fixed-length document level emebdding)"
   ]
  },
  {
   "cell_type": "code",
   "execution_count": 20,
   "metadata": {
    "id": "BhPCV1CtV9G5"
   },
   "outputs": [],
   "source": [
    "def averaged_word2vec_vectorizer(corpus, model, num_features):\n",
    "    vocabulary = set(model.wv.index_to_key)\n",
    "    \n",
    "    def average_word_vectors(words, model, vocabulary, num_features):\n",
    "        feature_vector = np.zeros((num_features,), dtype=\"float64\")\n",
    "        nwords = 0.\n",
    "        \n",
    "        for word in words:\n",
    "            if word in vocabulary: \n",
    "                nwords = nwords + 1.\n",
    "                feature_vector = np.add(feature_vector, model.wv[word])\n",
    "        if nwords:\n",
    "            feature_vector = np.divide(feature_vector, nwords)\n",
    "\n",
    "        return feature_vector\n",
    "\n",
    "    features = [average_word_vectors(tokenized_sentence, model, vocabulary, num_features)\n",
    "                    for tokenized_sentence in corpus]\n",
    "    return np.array(features)"
   ]
  },
  {
   "cell_type": "code",
   "execution_count": 22,
   "metadata": {
    "colab": {
     "base_uri": "https://localhost:8080/"
    },
    "executionInfo": {
     "elapsed": 782,
     "status": "ok",
     "timestamp": 1668752106985,
     "user": {
      "displayName": "farrikh alzami",
      "userId": "11964535993149439504"
     },
     "user_tz": -420
    },
    "id": "nFqOWpbdV-Ba",
    "outputId": "6f0da3ed-6d5f-4d18-9642-bd45215fa812"
   },
   "outputs": [
    {
     "data": {
      "text/plain": [
       "(4800, 100)"
      ]
     },
     "execution_count": 22,
     "metadata": {},
     "output_type": "execute_result"
    }
   ],
   "source": [
    "doc_vecs_ft = averaged_word2vec_vectorizer(tokenized_docs, ft_model, 100)\n",
    "doc_vecs_ft.shape"
   ]
  },
  {
   "cell_type": "markdown",
   "metadata": {
    "id": "vnJmgr6WHwH4"
   },
   "source": [
    "# Dapatkan Rekomendasi Film\n",
    "\n",
    "Kami akan memanfaatkan kesamaan kosinus lagi untuk menghasilkan rekomendasi"
   ]
  },
  {
   "cell_type": "code",
   "execution_count": 23,
   "metadata": {
    "colab": {
     "base_uri": "https://localhost:8080/",
     "height": 299
    },
    "executionInfo": {
     "elapsed": 1184,
     "status": "ok",
     "timestamp": 1668752108166,
     "user": {
      "displayName": "farrikh alzami",
      "userId": "11964535993149439504"
     },
     "user_tz": -420
    },
    "id": "FFGFgWX3V_HT",
    "outputId": "cf488ad3-b6e3-4f4e-f5de-4c34819f46da"
   },
   "outputs": [
    {
     "data": {
      "text/html": [
       "<div>\n",
       "<style scoped>\n",
       "    .dataframe tbody tr th:only-of-type {\n",
       "        vertical-align: middle;\n",
       "    }\n",
       "\n",
       "    .dataframe tbody tr th {\n",
       "        vertical-align: top;\n",
       "    }\n",
       "\n",
       "    .dataframe thead th {\n",
       "        text-align: right;\n",
       "    }\n",
       "</style>\n",
       "<table border=\"1\" class=\"dataframe\">\n",
       "  <thead>\n",
       "    <tr style=\"text-align: right;\">\n",
       "      <th></th>\n",
       "      <th>0</th>\n",
       "      <th>1</th>\n",
       "      <th>2</th>\n",
       "      <th>3</th>\n",
       "      <th>4</th>\n",
       "      <th>5</th>\n",
       "      <th>6</th>\n",
       "      <th>7</th>\n",
       "      <th>8</th>\n",
       "      <th>9</th>\n",
       "      <th>...</th>\n",
       "      <th>4790</th>\n",
       "      <th>4791</th>\n",
       "      <th>4792</th>\n",
       "      <th>4793</th>\n",
       "      <th>4794</th>\n",
       "      <th>4795</th>\n",
       "      <th>4796</th>\n",
       "      <th>4797</th>\n",
       "      <th>4798</th>\n",
       "      <th>4799</th>\n",
       "    </tr>\n",
       "  </thead>\n",
       "  <tbody>\n",
       "    <tr>\n",
       "      <th>0</th>\n",
       "      <td>1.000000</td>\n",
       "      <td>0.917333</td>\n",
       "      <td>0.966798</td>\n",
       "      <td>0.953310</td>\n",
       "      <td>0.968863</td>\n",
       "      <td>0.960498</td>\n",
       "      <td>0.985019</td>\n",
       "      <td>0.943407</td>\n",
       "      <td>0.975610</td>\n",
       "      <td>0.956164</td>\n",
       "      <td>...</td>\n",
       "      <td>0.972883</td>\n",
       "      <td>0.946414</td>\n",
       "      <td>0.980557</td>\n",
       "      <td>0.903328</td>\n",
       "      <td>0.913218</td>\n",
       "      <td>0.959904</td>\n",
       "      <td>0.978802</td>\n",
       "      <td>0.972175</td>\n",
       "      <td>0.958136</td>\n",
       "      <td>0.984506</td>\n",
       "    </tr>\n",
       "    <tr>\n",
       "      <th>1</th>\n",
       "      <td>0.917333</td>\n",
       "      <td>1.000000</td>\n",
       "      <td>0.964552</td>\n",
       "      <td>0.952154</td>\n",
       "      <td>0.961091</td>\n",
       "      <td>0.956524</td>\n",
       "      <td>0.937704</td>\n",
       "      <td>0.985718</td>\n",
       "      <td>0.950260</td>\n",
       "      <td>0.943529</td>\n",
       "      <td>...</td>\n",
       "      <td>0.884050</td>\n",
       "      <td>0.865557</td>\n",
       "      <td>0.928649</td>\n",
       "      <td>0.827223</td>\n",
       "      <td>0.831222</td>\n",
       "      <td>0.871049</td>\n",
       "      <td>0.878799</td>\n",
       "      <td>0.883397</td>\n",
       "      <td>0.879656</td>\n",
       "      <td>0.931124</td>\n",
       "    </tr>\n",
       "    <tr>\n",
       "      <th>2</th>\n",
       "      <td>0.966798</td>\n",
       "      <td>0.964552</td>\n",
       "      <td>1.000000</td>\n",
       "      <td>0.980371</td>\n",
       "      <td>0.985230</td>\n",
       "      <td>0.971023</td>\n",
       "      <td>0.973183</td>\n",
       "      <td>0.985009</td>\n",
       "      <td>0.987645</td>\n",
       "      <td>0.950462</td>\n",
       "      <td>...</td>\n",
       "      <td>0.941263</td>\n",
       "      <td>0.919878</td>\n",
       "      <td>0.946512</td>\n",
       "      <td>0.835966</td>\n",
       "      <td>0.891687</td>\n",
       "      <td>0.911880</td>\n",
       "      <td>0.955269</td>\n",
       "      <td>0.953219</td>\n",
       "      <td>0.936861</td>\n",
       "      <td>0.973045</td>\n",
       "    </tr>\n",
       "    <tr>\n",
       "      <th>3</th>\n",
       "      <td>0.953310</td>\n",
       "      <td>0.952154</td>\n",
       "      <td>0.980371</td>\n",
       "      <td>1.000000</td>\n",
       "      <td>0.978054</td>\n",
       "      <td>0.974357</td>\n",
       "      <td>0.968881</td>\n",
       "      <td>0.964382</td>\n",
       "      <td>0.969717</td>\n",
       "      <td>0.926073</td>\n",
       "      <td>...</td>\n",
       "      <td>0.949403</td>\n",
       "      <td>0.922916</td>\n",
       "      <td>0.940127</td>\n",
       "      <td>0.811674</td>\n",
       "      <td>0.899562</td>\n",
       "      <td>0.904700</td>\n",
       "      <td>0.953798</td>\n",
       "      <td>0.946454</td>\n",
       "      <td>0.938196</td>\n",
       "      <td>0.963441</td>\n",
       "    </tr>\n",
       "    <tr>\n",
       "      <th>4</th>\n",
       "      <td>0.968863</td>\n",
       "      <td>0.961091</td>\n",
       "      <td>0.985230</td>\n",
       "      <td>0.978054</td>\n",
       "      <td>1.000000</td>\n",
       "      <td>0.962625</td>\n",
       "      <td>0.979911</td>\n",
       "      <td>0.976923</td>\n",
       "      <td>0.979267</td>\n",
       "      <td>0.932979</td>\n",
       "      <td>...</td>\n",
       "      <td>0.959997</td>\n",
       "      <td>0.938400</td>\n",
       "      <td>0.959560</td>\n",
       "      <td>0.838514</td>\n",
       "      <td>0.918938</td>\n",
       "      <td>0.907202</td>\n",
       "      <td>0.965164</td>\n",
       "      <td>0.943339</td>\n",
       "      <td>0.959929</td>\n",
       "      <td>0.985702</td>\n",
       "    </tr>\n",
       "  </tbody>\n",
       "</table>\n",
       "<p>5 rows × 4800 columns</p>\n",
       "</div>"
      ],
      "text/plain": [
       "       0         1         2         3         4         5         6     \\\n",
       "0  1.000000  0.917333  0.966798  0.953310  0.968863  0.960498  0.985019   \n",
       "1  0.917333  1.000000  0.964552  0.952154  0.961091  0.956524  0.937704   \n",
       "2  0.966798  0.964552  1.000000  0.980371  0.985230  0.971023  0.973183   \n",
       "3  0.953310  0.952154  0.980371  1.000000  0.978054  0.974357  0.968881   \n",
       "4  0.968863  0.961091  0.985230  0.978054  1.000000  0.962625  0.979911   \n",
       "\n",
       "       7         8         9     ...      4790      4791      4792      4793  \\\n",
       "0  0.943407  0.975610  0.956164  ...  0.972883  0.946414  0.980557  0.903328   \n",
       "1  0.985718  0.950260  0.943529  ...  0.884050  0.865557  0.928649  0.827223   \n",
       "2  0.985009  0.987645  0.950462  ...  0.941263  0.919878  0.946512  0.835966   \n",
       "3  0.964382  0.969717  0.926073  ...  0.949403  0.922916  0.940127  0.811674   \n",
       "4  0.976923  0.979267  0.932979  ...  0.959997  0.938400  0.959560  0.838514   \n",
       "\n",
       "       4794      4795      4796      4797      4798      4799  \n",
       "0  0.913218  0.959904  0.978802  0.972175  0.958136  0.984506  \n",
       "1  0.831222  0.871049  0.878799  0.883397  0.879656  0.931124  \n",
       "2  0.891687  0.911880  0.955269  0.953219  0.936861  0.973045  \n",
       "3  0.899562  0.904700  0.953798  0.946454  0.938196  0.963441  \n",
       "4  0.918938  0.907202  0.965164  0.943339  0.959929  0.985702  \n",
       "\n",
       "[5 rows x 4800 columns]"
      ]
     },
     "execution_count": 23,
     "metadata": {},
     "output_type": "execute_result"
    }
   ],
   "source": [
    "doc_sim = cosine_similarity(doc_vecs_ft)\n",
    "doc_sim_df = pd.DataFrame(doc_sim)\n",
    "doc_sim_df.head()"
   ]
  },
  {
   "cell_type": "code",
   "execution_count": 24,
   "metadata": {
    "colab": {
     "base_uri": "https://localhost:8080/"
    },
    "executionInfo": {
     "elapsed": 10,
     "status": "ok",
     "timestamp": 1668752108167,
     "user": {
      "displayName": "farrikh alzami",
      "userId": "11964535993149439504"
     },
     "user_tz": -420
    },
    "id": "DgoeV1VQWAAx",
    "outputId": "165e8af8-da05-410f-ce83-1c67477ea922"
   },
   "outputs": [
    {
     "name": "stdout",
     "output_type": "stream",
     "text": [
      "Movie: Minions\n",
      "Top 5 recommended Movies: ['The Pursuit of D.B. Cooper' 'The Fan' 'Unleashed' 'Quigley Down Under'\n",
      " 'Heroes of Dirt']\n",
      "\n",
      "Movie: Interstellar\n",
      "Top 5 recommended Movies: ['The Inhabited Island' 'Sea Rex 3D: Journey to a Prehistoric World'\n",
      " 'Gattaca' 'Beneath the Planet of the Apes'\n",
      " 'The Hadza:  Last of the First']\n",
      "\n",
      "Movie: Deadpool\n",
      "Top 5 recommended Movies: ['Iron Man 3' 'Stake Land' 'Kingdom of Heaven' 'Signed, Sealed, Delivered'\n",
      " 'Maggie']\n",
      "\n",
      "Movie: Jurassic World\n",
      "Top 5 recommended Movies: ['Jurassic Park' '8: The Mormon Proposition'\n",
      " 'Short Cut to Nirvana: Kumbh Mela' 'Samsara' 'The Visitors']\n",
      "\n",
      "Movie: Pirates of the Caribbean: The Curse of the Black Pearl\n",
      "Top 5 recommended Movies: ['Tycoon' 'Dylan Dog: Dead of Night' 'The Collection'\n",
      " 'Extraordinary Measures' 'Shanghai Surprise']\n",
      "\n",
      "Movie: Dawn of the Planet of the Apes\n",
      "Top 5 recommended Movies: ['Mutant World' 'Beneath the Planet of the Apes' 'The Last Emperor'\n",
      " 'Pacific Rim' 'Super Mario Bros.']\n",
      "\n",
      "Movie: The Hunger Games: Mockingjay - Part 1\n",
      "Top 5 recommended Movies: ['Maggie' 'Equilibrium' 'Dances with Wolves' 'The Scorpion King'\n",
      " 'Inspector Gadget']\n",
      "\n",
      "Movie: Terminator Genisys\n",
      "Top 5 recommended Movies: ['Dawn of the Planet of the Apes' 'Pacific Rim'\n",
      " 'Transformers: Dark of the Moon' 'The Andromeda Strain'\n",
      " 'The Last Emperor']\n",
      "\n",
      "Movie: Captain America: Civil War\n",
      "Top 5 recommended Movies: ['The Bridge on the River Kwai' '55 Days at Peking' 'A Bridge Too Far'\n",
      " 'The Longest Day' 'Tank Girl']\n",
      "\n",
      "Movie: The Dark Knight\n",
      "Top 5 recommended Movies: ['The Raid' 'Die Hard 2' 'Broken City' 'Saw IV'\n",
      " 'The Marine 4: Moving Target']\n",
      "\n",
      "Movie: The Martian\n",
      "Top 5 recommended Movies: ['Star Trek IV: The Voyage Home' 'Serenity'\n",
      " 'Star Trek III: The Search for Spock' 'The Host'\n",
      " 'Anacondas: The Hunt for the Blood Orchid']\n",
      "\n",
      "Movie: Batman v Superman: Dawn of Justice\n",
      "Top 5 recommended Movies: ['The Manchurian Candidate' 'Atlas Shrugged Part II'\n",
      " 'Ultramarines: A Warhammer 40,000 Movie' 'Sgt. Bilko' 'Equilibrium']\n",
      "\n",
      "Movie: Pulp Fiction\n",
      "Top 5 recommended Movies: ['Get on the Bus' 'Free Birds' 'The Incredibles' 'Burnt'\n",
      " 'Harold & Kumar Escape from Guantanamo Bay']\n",
      "\n",
      "Movie: The Godfather\n",
      "Top 5 recommended Movies: ['Eastern Promises' 'The Last Godfather' 'Butterfly' 'Family Plot'\n",
      " 'Welcome to Mooseport']\n",
      "\n",
      "Movie: The Shawshank Redemption\n",
      "Top 5 recommended Movies: ['The Client' 'Welcome to Mooseport' 'Diamond Ruff' 'Wild Target'\n",
      " 'Sleepers']\n",
      "\n",
      "Movie: The Lord of the Rings: The Fellowship of the Ring\n",
      "Top 5 recommended Movies: ['The Legend of Drunken Master' 'Jurassic Park III' 'Godzilla 2000'\n",
      " 'Friday the 13th Part VII: The New Blood' 'Evil Dead II']\n",
      "\n",
      "Movie: Harry Potter and the Chamber of Secrets\n",
      "Top 5 recommended Movies: ['The Fourth Kind' 'The Last Days on Mars'\n",
      " 'Transformers: Revenge of the Fallen' 'Whiteout'\n",
      " 'The Ghost and the Darkness']\n",
      "\n",
      "Movie: Star Wars\n",
      "Top 5 recommended Movies: ['Gods of Egypt' 'Beowulf' 'Iron Man'\n",
      " 'Beastmaster 2: Through the Portal of Time'\n",
      " 'American Ninja 2: The Confrontation']\n",
      "\n",
      "Movie: The Hobbit: The Battle of the Five Armies\n",
      "Top 5 recommended Movies: ['Pacific Rim' 'Freedom' 'Highlander: The Final Dimension'\n",
      " 'Exodus: Gods and Kings' 'Red Cliff']\n",
      "\n",
      "Movie: Iron Man\n",
      "Top 5 recommended Movies: ['Return of the Jedi' 'Star Wars' 'Universal Soldier: The Return'\n",
      " 'Beastmaster 2: Through the Portal of Time'\n",
      " 'Highlander: The Final Dimension']\n",
      "\n"
     ]
    }
   ],
   "source": [
    "for movie in popular_movies:\n",
    "    print('Movie:', movie)\n",
    "    print('Top 5 recommended Movies:', movie_recommender(movie_title=movie, movies=movies_list, doc_sims=doc_sim_df))\n",
    "    print()"
   ]
  }
 ],
 "metadata": {
  "colab": {
   "authorship_tag": "ABX9TyNKsyeNETQ3CwZB7j+nhbFn",
   "provenance": []
  },
  "kernelspec": {
   "display_name": "Python 3 (ipykernel)",
   "language": "python",
   "name": "python3"
  },
  "language_info": {
   "codemirror_mode": {
    "name": "ipython",
    "version": 3
   },
   "file_extension": ".py",
   "mimetype": "text/x-python",
   "name": "python",
   "nbconvert_exporter": "python",
   "pygments_lexer": "ipython3",
   "version": "3.9.5"
  }
 },
 "nbformat": 4,
 "nbformat_minor": 1
}
