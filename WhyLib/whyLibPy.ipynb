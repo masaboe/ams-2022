{
 "cells": [
  {
   "cell_type": "markdown",
   "metadata": {},
   "source": [
    "## Memulai Python"
   ]
  },
  {
   "cell_type": "code",
   "execution_count": 1,
   "metadata": {},
   "outputs": [
    {
     "name": "stdout",
     "output_type": "stream",
     "text": [
      "Hello World!\n"
     ]
    }
   ],
   "source": [
    "print(\"Hello World!\")"
   ]
  },
  {
   "cell_type": "code",
   "execution_count": 2,
   "metadata": {},
   "outputs": [],
   "source": [
    "a=[1.84, 1.79, 1.82, 1.90, 1.80]"
   ]
  },
  {
   "cell_type": "code",
   "execution_count": 4,
   "metadata": {},
   "outputs": [
    {
     "data": {
      "text/plain": [
       "list"
      ]
     },
     "execution_count": 4,
     "metadata": {},
     "output_type": "execute_result"
    }
   ],
   "source": [
    "type(a)"
   ]
  },
  {
   "cell_type": "code",
   "execution_count": 5,
   "metadata": {},
   "outputs": [
    {
     "name": "stdout",
     "output_type": "stream",
     "text": [
      "[1.84, 1.79, 1.82, 1.9, 1.8]\n"
     ]
    }
   ],
   "source": [
    "print(a)"
   ]
  },
  {
   "cell_type": "code",
   "execution_count": 6,
   "metadata": {},
   "outputs": [],
   "source": [
    "height1 = 1.84\n",
    "height2 = 1.79"
   ]
  },
  {
   "cell_type": "markdown",
   "metadata": {},
   "source": [
    "solusi variabel dengan banyak nilai bisa menggunakan list"
   ]
  },
  {
   "cell_type": "code",
   "execution_count": 7,
   "metadata": {},
   "outputs": [],
   "source": [
    "height=[1.84, 1.79, 1.82, 1.90, 1.80]\n",
    "weight=[66.5, 60.3, 64.7, 88.9, 69.9]"
   ]
  },
  {
   "cell_type": "code",
   "execution_count": 17,
   "metadata": {},
   "outputs": [
    {
     "data": {
      "text/plain": [
       "list"
      ]
     },
     "execution_count": 17,
     "metadata": {},
     "output_type": "execute_result"
    }
   ],
   "source": [
    "type(height)"
   ]
  },
  {
   "cell_type": "code",
   "execution_count": 8,
   "metadata": {},
   "outputs": [
    {
     "name": "stdout",
     "output_type": "stream",
     "text": [
      "[1.84, 1.79, 1.82, 1.9, 1.8]\n",
      "[66.5, 60.3, 64.7, 88.9, 69.9]\n"
     ]
    }
   ],
   "source": [
    "print(height)\n",
    "print(weight)"
   ]
  },
  {
   "cell_type": "code",
   "execution_count": 11,
   "metadata": {},
   "outputs": [
    {
     "ename": "TypeError",
     "evalue": "unsupported operand type(s) for ** or pow(): 'list' and 'int'",
     "output_type": "error",
     "traceback": [
      "\u001b[0;31m---------------------------------------------------------------------------\u001b[0m",
      "\u001b[0;31mTypeError\u001b[0m                                 Traceback (most recent call last)",
      "Input \u001b[0;32mIn [11]\u001b[0m, in \u001b[0;36m<cell line: 1>\u001b[0;34m()\u001b[0m\n\u001b[0;32m----> 1\u001b[0m weight \u001b[38;5;241m/\u001b[39m \u001b[43mheight\u001b[49m\u001b[43m \u001b[49m\u001b[38;5;241;43m*\u001b[39;49m\u001b[38;5;241;43m*\u001b[39;49m\u001b[43m \u001b[49m\u001b[38;5;241;43m2\u001b[39;49m\n",
      "\u001b[0;31mTypeError\u001b[0m: unsupported operand type(s) for ** or pow(): 'list' and 'int'"
     ]
    }
   ],
   "source": [
    "weight / height ** 2"
   ]
  },
  {
   "cell_type": "markdown",
   "metadata": {},
   "source": [
    "Solusinya bisa menggunakan Library \n",
    "### NumPy\n",
    "\n",
    "https://numpy.org/doc/stable/"
   ]
  },
  {
   "cell_type": "code",
   "execution_count": 12,
   "metadata": {},
   "outputs": [],
   "source": [
    "import numpy as np"
   ]
  },
  {
   "cell_type": "code",
   "execution_count": 13,
   "metadata": {},
   "outputs": [],
   "source": [
    "np_height = np.array(height)\n",
    "np_weight = np.array(weight)"
   ]
  },
  {
   "cell_type": "code",
   "execution_count": 14,
   "metadata": {},
   "outputs": [
    {
     "data": {
      "text/plain": [
       "array([1.84, 1.79, 1.82, 1.9 , 1.8 ])"
      ]
     },
     "execution_count": 14,
     "metadata": {},
     "output_type": "execute_result"
    }
   ],
   "source": [
    "np_height"
   ]
  },
  {
   "cell_type": "code",
   "execution_count": 15,
   "metadata": {},
   "outputs": [
    {
     "data": {
      "text/plain": [
       "array([66.5, 60.3, 64.7, 88.9, 69.9])"
      ]
     },
     "execution_count": 15,
     "metadata": {},
     "output_type": "execute_result"
    }
   ],
   "source": [
    "np_weight"
   ]
  },
  {
   "cell_type": "code",
   "execution_count": 16,
   "metadata": {},
   "outputs": [
    {
     "data": {
      "text/plain": [
       "numpy.ndarray"
      ]
     },
     "execution_count": 16,
     "metadata": {},
     "output_type": "execute_result"
    }
   ],
   "source": [
    "type(np_weight)"
   ]
  },
  {
   "cell_type": "code",
   "execution_count": 18,
   "metadata": {},
   "outputs": [],
   "source": [
    "bmi = np_weight / np_height ** 2"
   ]
  },
  {
   "cell_type": "code",
   "execution_count": 19,
   "metadata": {},
   "outputs": [
    {
     "data": {
      "text/plain": [
       "array([19.64201323, 18.81963734, 19.53266514, 24.62603878, 21.57407407])"
      ]
     },
     "execution_count": 19,
     "metadata": {},
     "output_type": "execute_result"
    }
   ],
   "source": [
    "bmi"
   ]
  },
  {
   "cell_type": "code",
   "execution_count": 20,
   "metadata": {},
   "outputs": [
    {
     "name": "stdout",
     "output_type": "stream",
     "text": [
      "ALLOW_THREADS\tAxisError\tBUFSIZE\tCLIP\tComplexWarning\tDataSource\tERR_CALL\tERR_DEFAULT\tERR_IGNORE\tERR_LOG\tERR_PRINT\tERR_RAISE\tERR_WARN\tFLOATING_POINT_SUPPORT\tFPE_DIVIDEBYZERO\tFPE_INVALID\tFPE_OVERFLOW\tFPE_UNDERFLOW\tFalse_\tInf\tInfinity\tMAXDIMS\tMAY_SHARE_BOUNDS\tMAY_SHARE_EXACT\tMachAr\tModuleDeprecationWarning\tNAN\tNINF\tNZERO\tNaN\tPINF\tPZERO\tRAISE\tRankWarning\tSHIFT_DIVIDEBYZERO\tSHIFT_INVALID\tSHIFT_OVERFLOW\tSHIFT_UNDERFLOW\tScalarType\tTester\tTooHardError\tTrue_\tUFUNC_BUFSIZE_DEFAULT\tUFUNC_PYVALS_NAME\tVisibleDeprecationWarning\tWRAP\t_NoValue\t_UFUNC_API\t__NUMPY_SETUP__\t__all__\t__builtins__\t__cached__\t__config__\t__dir__\t__doc__\t__file__\t__getattr__\t__git_revision__\t__loader__\t__name__\t__package__\t__path__\t__spec__\t__version__\t_add_newdoc_ufunc\t_distributor_init\t_globals\t_mat\t_pytesttester\tabs\tabsolute\tadd\tadd_docstring\tadd_newdoc\tadd_newdoc_ufunc\talen\tall\tallclose\talltrue\tamax\tamin\tangle\tany\tappend\tapply_along_axis\tapply_over_axes\tarange\tarccos\tarccosh\tarcsin\tarcsinh\tarctan\tarctan2\tarctanh\targmax\targmin\targpartition\targsort\targwhere\taround\tarray\tarray2string\tarray_equal\tarray_equiv\tarray_repr\tarray_split\tarray_str\tasanyarray\tasarray\tasarray_chkfinite\tascontiguousarray\tasfarray\tasfortranarray\tasmatrix\tasscalar\tatleast_1d\tatleast_2d\tatleast_3d\taverage\tbartlett\tbase_repr\tbinary_repr\tbincount\tbitwise_and\tbitwise_not\tbitwise_or\tbitwise_xor\tblackman\tblock\tbmat\tbool\tbool8\tbool_\tbroadcast\tbroadcast_arrays\tbroadcast_to\tbusday_count\tbusday_offset\tbusdaycalendar\tbyte\tbyte_bounds\tbytes0\tbytes_\tc_\tcan_cast\tcast\tcbrt\tcdouble\tceil\tcfloat\tchar\tcharacter\tchararray\tchoose\tclip\tclongdouble\tclongfloat\tcolumn_stack\tcommon_type\tcompare_chararrays\tcompat\tcomplex\tcomplex128\tcomplex256\tcomplex64\tcomplex_\tcomplexfloating\tcompress\tconcatenate\tconj\tconjugate\tconvolve\tcopy\tcopysign\tcopyto\tcore\tcorrcoef\tcorrelate\tcos\tcosh\tcount_nonzero\tcov\tcross\tcsingle\tctypeslib\tcumprod\tcumproduct\tcumsum\tdatetime64\tdatetime_as_string\tdatetime_data\tdeg2rad\tdegrees\tdelete\tdeprecate\tdeprecate_with_doc\tdiag\tdiag_indices\tdiag_indices_from\tdiagflat\tdiagonal\tdiff\tdigitize\tdisp\tdivide\tdivmod\tdot\tdouble\tdsplit\tdstack\tdtype\te\tediff1d\teinsum\teinsum_path\temath\tempty\tempty_like\tequal\terror_message\terrstate\teuler_gamma\texp\texp2\texpand_dims\texpm1\textract\teye\tfabs\tfastCopyAndTranspose\tfft\tfill_diagonal\tfind_common_type\tfinfo\tfix\tflatiter\tflatnonzero\tflexible\tflip\tfliplr\tflipud\tfloat\tfloat128\tfloat16\tfloat32\tfloat64\tfloat_\tfloat_power\tfloating\tfloor\tfloor_divide\tfmax\tfmin\tfmod\tformat_float_positional\tformat_float_scientific\tformat_parser\tfrexp\tfrombuffer\tfromfile\tfromfunction\tfromiter\tfrompyfunc\tfromregex\tfromstring\tfull\tfull_like\tfv\tgcd\tgeneric\tgenfromtxt\tgeomspace\tget_array_wrap\tget_include\tget_printoptions\tgetbufsize\tgeterr\tgeterrcall\tgeterrobj\tgradient\tgreater\tgreater_equal\thalf\thamming\thanning\theaviside\thistogram\thistogram2d\thistogram_bin_edges\thistogramdd\thsplit\thstack\thypot\ti0\tidentity\tiinfo\timag\tin1d\tindex_exp\tindices\tinexact\tinf\tinfo\tinfty\tinner\tinsert\tint\tint0\tint16\tint32\tint64\tint8\tint_\tintc\tinteger\tinterp\tintersect1d\tintp\tinvert\tipmt\tirr\tis_busday\tisclose\tiscomplex\tiscomplexobj\tisfinite\tisfortran\tisin\tisinf\tisnan\tisnat\tisneginf\tisposinf\tisreal\tisrealobj\tisscalar\tissctype\tissubclass_\tissubdtype\tissubsctype\titerable\tix_\tkaiser\tkron\tlcm\tldexp\tleft_shift\tless\tless_equal\tlexsort\tlib\tlinalg\tlinspace\tlittle_endian\tload\tloads\tloadtxt\tlog\tlog10\tlog1p\tlog2\tlogaddexp\tlogaddexp2\tlogical_and\tlogical_not\tlogical_or\tlogical_xor\tlogspace\tlong\tlongcomplex\tlongdouble\tlongfloat\tlonglong\tlookfor\tma\tmafromtxt\tmask_indices\tmat\tmath\tmatmul\tmatrix\tmatrixlib\tmax\tmaximum\tmaximum_sctype\tmay_share_memory\tmean\tmedian\tmemmap\tmeshgrid\tmgrid\tmin\tmin_scalar_type\tminimum\tmintypecode\tmirr\tmod\tmodf\tmoveaxis\tmsort\tmultiply\tnan\tnan_to_num\tnanargmax\tnanargmin\tnancumprod\tnancumsum\tnanmax\tnanmean\tnanmedian\tnanmin\tnanpercentile\tnanprod\tnanquantile\tnanstd\tnansum\tnanvar\tnbytes\tndarray\tndenumerate\tndfromtxt\tndim\tndindex\tnditer\tnegative\tnested_iters\tnewaxis\tnextafter\tnonzero\tnot_equal\tnper\tnpv\tnumarray\tnumber\tobj2sctype\tobject\tobject0\tobject_\togrid\toldnumeric\tones\tones_like\tos\touter\tpackbits\tpad\tpartition\tpercentile\tpi\tpiecewise\tplace\tpmt\tpoly\tpoly1d\tpolyadd\tpolyder\tpolydiv\tpolyfit\tpolyint\tpolymul\tpolynomial\tpolysub\tpolyval\tpositive\tpower\tppmt\tprintoptions\tprod\tproduct\tpromote_types\tptp\tput\tput_along_axis\tputmask\tpv\tquantile\tr_\trad2deg\tradians\trandom\trate\travel\travel_multi_index\treal\treal_if_close\trec\trecarray\trecfromcsv\trecfromtxt\treciprocal\trecord\tremainder\trepeat\trequire\treshape\tresize\tresult_type\tright_shift\trint\troll\trollaxis\troots\trot90\tround\tround_\trow_stack\ts_\tsafe_eval\tsave\tsavetxt\tsavez\tsavez_compressed\tsctype2char\tsctypeDict\tsctypeNA\tsctypes\tsearchsorted\tselect\tset_numeric_ops\tset_printoptions\tset_string_function\tsetbufsize\tsetdiff1d\tseterr\tseterrcall\tseterrobj\tsetxor1d\tshape\tshares_memory\tshort\tshow_config\tsign\tsignbit\tsignedinteger\tsin\tsinc\tsingle\tsinglecomplex\tsinh\tsize\tsometrue\tsort\tsort_complex\tsource\tspacing\tsplit\tsqrt\tsquare\tsqueeze\tstack\tstd\tstr\tstr0\tstr_\tstring_\tsubtract\tsum\tswapaxes\tsys\ttake\ttake_along_axis\ttan\ttanh\ttensordot\ttest\ttesting\ttile\ttimedelta64\ttrace\ttracemalloc_domain\ttranspose\ttrapz\ttri\ttril\ttril_indices\ttril_indices_from\ttrim_zeros\ttriu\ttriu_indices\ttriu_indices_from\ttrue_divide\ttrunc\ttypeDict\ttypeNA\ttypecodes\ttypename\tubyte\tufunc\tuint\tuint0\tuint16\tuint32\tuint64\tuint8\tuintc\tuintp\tulonglong\tunicode\tunicode_\tunion1d\tunique\tunpackbits\tunravel_index\tunsignedinteger\tunwrap\tuse_hugepage\tushort\tvander\tvar\tvdot\tvectorize\tversion\tvoid\tvoid0\tvsplit\tvstack\tw\twarnings\twhere\twho\tzeros\tzeros_like\t"
     ]
    }
   ],
   "source": [
    "for name in dir(np):\n",
    "    print(name, end=\"\\t\")"
   ]
  },
  {
   "cell_type": "markdown",
   "metadata": {},
   "source": [
    "## Pandas"
   ]
  },
  {
   "cell_type": "code",
   "execution_count": 25,
   "metadata": {},
   "outputs": [
    {
     "data": {
      "text/plain": [
       "array([1, 2, 3, 4, 5])"
      ]
     },
     "execution_count": 25,
     "metadata": {},
     "output_type": "execute_result"
    }
   ],
   "source": [
    "np.array([1, 2, 3, 4, 5])"
   ]
  },
  {
   "cell_type": "code",
   "execution_count": 26,
   "metadata": {},
   "outputs": [
    {
     "data": {
      "text/plain": [
       "array([[1, 2],\n",
       "       [3, 4]])"
      ]
     },
     "execution_count": 26,
     "metadata": {},
     "output_type": "execute_result"
    }
   ],
   "source": [
    "np.array([[1, 2],[3, 4]])"
   ]
  },
  {
   "cell_type": "code",
   "execution_count": 27,
   "metadata": {},
   "outputs": [],
   "source": [
    "import pandas as pd"
   ]
  },
  {
   "cell_type": "code",
   "execution_count": 28,
   "metadata": {},
   "outputs": [
    {
     "name": "stdout",
     "output_type": "stream",
     "text": [
      "BooleanDtype\tCategorical\tCategoricalDtype\tCategoricalIndex\tDataFrame\tDateOffset\tDatetimeIndex\tDatetimeTZDtype\tExcelFile\tExcelWriter\tFlags\tFloat32Dtype\tFloat64Dtype\tFloat64Index\tGrouper\tHDFStore\tIndex\tIndexSlice\tInt16Dtype\tInt32Dtype\tInt64Dtype\tInt64Index\tInt8Dtype\tInterval\tIntervalDtype\tIntervalIndex\tMultiIndex\tNA\tNaT\tNamedAgg\tPeriod\tPeriodDtype\tPeriodIndex\tRangeIndex\tSeries\tSparseDtype\tStringDtype\tTimedelta\tTimedeltaIndex\tTimestamp\tUInt16Dtype\tUInt32Dtype\tUInt64Dtype\tUInt64Index\tUInt8Dtype\t__builtins__\t__cached__\t__doc__\t__docformat__\t__file__\t__getattr__\t__git_version__\t__loader__\t__name__\t__package__\t__path__\t__spec__\t__version__\t_config\t_hashtable\t_is_numpy_dev\t_lib\t_libs\t_np_version_under1p18\t_testing\t_tslib\t_typing\t_version\tapi\tarray\tarrays\tbdate_range\tcompat\tconcat\tcore\tcrosstab\tcut\tdate_range\tdescribe_option\terrors\teval\tfactorize\tget_dummies\tget_option\tinfer_freq\tinterval_range\tio\tisna\tisnull\tjson_normalize\tlreshape\tmelt\tmerge\tmerge_asof\tmerge_ordered\tnotna\tnotnull\toffsets\toption_context\toptions\tpandas\tperiod_range\tpivot\tpivot_table\tplotting\tqcut\tread_clipboard\tread_csv\tread_excel\tread_feather\tread_fwf\tread_gbq\tread_hdf\tread_html\tread_json\tread_orc\tread_parquet\tread_pickle\tread_sas\tread_spss\tread_sql\tread_sql_query\tread_sql_table\tread_stata\tread_table\tread_xml\treset_option\tset_eng_float_format\tset_option\tshow_versions\ttest\ttesting\ttimedelta_range\tto_datetime\tto_numeric\tto_pickle\tto_timedelta\ttseries\tunique\tutil\tvalue_counts\twide_to_long\t"
     ]
    }
   ],
   "source": [
    "for name in dir(pd):\n",
    "    print(name, end=\"\\t\")"
   ]
  },
  {
   "cell_type": "code",
   "execution_count": 29,
   "metadata": {},
   "outputs": [],
   "source": [
    "tab = pd.read_csv(\"Tab.csv\")"
   ]
  },
  {
   "cell_type": "code",
   "execution_count": 30,
   "metadata": {},
   "outputs": [
    {
     "name": "stdout",
     "output_type": "stream",
     "text": [
      "  Unnamed: 0     Negara  Populasi    Area    Ibukota\n",
      "0         IN  Indonesia       250  123456    Jakarta\n",
      "1         MA   Malaysia        25    3456         KL\n",
      "2         SI  Singapura        15     456  Singapura\n",
      "3         JP     Jepang        60    5678      Tokyo\n",
      "4         TH   Thailand        45     678    Bangkok\n"
     ]
    }
   ],
   "source": [
    "print(tab)"
   ]
  },
  {
   "cell_type": "code",
   "execution_count": 31,
   "metadata": {},
   "outputs": [
    {
     "data": {
      "text/plain": [
       "pandas.core.frame.DataFrame"
      ]
     },
     "execution_count": 31,
     "metadata": {},
     "output_type": "execute_result"
    }
   ],
   "source": [
    "type(tab)"
   ]
  },
  {
   "cell_type": "code",
   "execution_count": 32,
   "metadata": {},
   "outputs": [
    {
     "data": {
      "text/plain": [
       "0    Indonesia\n",
       "1     Malaysia\n",
       "2    Singapura\n",
       "3       Jepang\n",
       "4     Thailand\n",
       "Name: Negara, dtype: object"
      ]
     },
     "execution_count": 32,
     "metadata": {},
     "output_type": "execute_result"
    }
   ],
   "source": [
    "tab[\"Negara\"]"
   ]
  },
  {
   "cell_type": "markdown",
   "metadata": {},
   "source": [
    "## Matplotlib\n",
    "\n",
    "https://matplotlib.org/"
   ]
  },
  {
   "cell_type": "code",
   "execution_count": 33,
   "metadata": {},
   "outputs": [],
   "source": [
    "import matplotlib.pyplot as plt"
   ]
  },
  {
   "cell_type": "code",
   "execution_count": 34,
   "metadata": {},
   "outputs": [],
   "source": [
    "year = [1990, 1995, 2000, 2005, 2015]\n",
    "price = [2.5, 7.6, 9.7, 15.8, 22.9]"
   ]
  },
  {
   "cell_type": "code",
   "execution_count": 36,
   "metadata": {},
   "outputs": [
    {
     "data": {
      "image/png": "[encoded data removed]",
      "text/plain": [
       "<Figure size 432x288 with 1 Axes>"
      ]
     },
     "metadata": {
      "needs_background": "light"
     },
     "output_type": "display_data"
    }
   ],
   "source": [
    "plt.plot(year, price)\n",
    "plt.show()"
   ]
  },
  {
   "cell_type": "code",
   "execution_count": 37,
   "metadata": {},
   "outputs": [
    {
     "data": {
      "text/plain": [
       "<matplotlib.collections.PathCollection at 0x1128d0460>"
      ]
     },
     "execution_count": 37,
     "metadata": {},
     "output_type": "execute_result"
    },
    {
     "data": {
      "image/png": "[encoded data removed]",
      "text/plain": [
       "<Figure size 432x288 with 1 Axes>"
      ]
     },
     "metadata": {
      "needs_background": "light"
     },
     "output_type": "display_data"
    }
   ],
   "source": [
    "plt.scatter(year, price)"
   ]
  },
  {
   "cell_type": "code",
   "execution_count": 38,
   "metadata": {},
   "outputs": [
    {
     "data": {
      "text/plain": [
       "<BarContainer object of 5 artists>"
      ]
     },
     "execution_count": 38,
     "metadata": {},
     "output_type": "execute_result"
    },
    {
     "data": {
      "image/png": "[encoded data removed]",
      "text/plain": [
       "<Figure size 432x288 with 1 Axes>"
      ]
     },
     "metadata": {
      "needs_background": "light"
     },
     "output_type": "display_data"
    }
   ],
   "source": [
    "plt.bar(year, price)"
   ]
  }
 ],
 "metadata": {
  "kernelspec": {
   "display_name": "Python 3 (ipykernel)",
   "language": "python",
   "name": "python3"
  },
  "language_info": {
   "codemirror_mode": {
    "name": "ipython",
    "version": 3
   },
   "file_extension": ".py",
   "mimetype": "text/x-python",
   "name": "python",
   "nbconvert_exporter": "python",
   "pygments_lexer": "ipython3",
   "version": "3.9.5"
  }
 },
 "nbformat": 4,
 "nbformat_minor": 2
}
