{
 "cells": [
  {
   "cell_type": "markdown",
   "id": "c46c9eb2",
   "metadata": {},
   "source": [
    "Latent Dirichlet Allocation (LDA) adalah sebuah metode untuk mendeteksi topik-topik yang ada pada koleksi dokumen beserta proporsi kemunculan topik tersebut, baik di koleksi maupun di dokumen tertentu. LDA juga mampu mengasosiasikan kata-kata yang ada pada dokumen dan koleksi ke topik tertentu. Kasus disini menggunakan LDA untuk mendeteksi topik-topik yang ada pada kumpulan tweet. Tentunya, mengetahui distribusi topik (yang tersembunyi) pada kumpulan tweet tersebut akan sangat berguna untuk mengorganisasikan, memahami, bahkan membuat summary dari apa-apa yang \"diperbincangkan\" pada kumpulan tweet tersebut."
   ]
  },
  {
   "cell_type": "markdown",
   "id": "04ceabe3",
   "metadata": {},
   "source": [
    "Library yang akan berguna pada kasus ini. \n",
    "\n",
    "- matplotlib digunakan untuk visualisasi.\n",
    "- gensim untuk implementasi LDA, gensim memberikan fungsionalitas yang baik dalam hal API dan efisiensi komputasi. \n",
    "- nltk digunakan untuk preprocessing seperti proses stopword removal, tokenization, dan stemming.\n",
    "- scikit-learn digunakan untuk proses clustering dokumen tweet, serta reduksi dimensi dari vektor tweet agar bisa di-plot ke bidang 2-dimensi."
   ]
  },
  {
   "cell_type": "code",
   "execution_count": 1,
   "id": "39ee2096",
   "metadata": {},
   "outputs": [],
   "source": [
    "import warnings\n",
    "warnings.filterwarnings('ignore')\n",
    "\n",
    "import matplotlib.pyplot as plt\n",
    "import re\n",
    "import numpy as np\n",
    "import pandas as pd\n",
    "import gensim\n",
    "import nltk\n",
    "\n",
    "from nltk.stem.snowball import SnowballStemmer\n",
    "\n",
    "from gensim.corpora import Dictionary, MmCorpus\n",
    "from gensim.models import ldamodel\n",
    "\n",
    "from sklearn.cluster import KMeans\n",
    "from sklearn.manifold import MDS\n",
    "from sklearn.decomposition import PCA"
   ]
  },
  {
   "cell_type": "markdown",
   "id": "d81bd829",
   "metadata": {},
   "source": [
    "Pembuatan Fungsi untuk memuat/load dataset yang berupa kumpulan twitter account name beserta tweet yang di-post."
   ]
  },
  {
   "cell_type": "code",
   "execution_count": 2,
   "id": "5c418581",
   "metadata": {},
   "outputs": [],
   "source": [
    "def load_dataset(filename):\n",
    "    file = open(filename, 'r')\n",
    "\n",
    "    acc_names = []\n",
    "    tweets = []\n",
    "\n",
    "    for line in file:\n",
    "        line = line.strip()\n",
    "        parts = line.split('###')\n",
    "        acc_names.append(parts[0])\n",
    "        tweets.append(parts[1])\n",
    "\n",
    "    return acc_names, tweets"
   ]
  },
  {
   "cell_type": "markdown",
   "id": "d0fdaca0",
   "metadata": {},
   "source": [
    "Hyper-parameter yang perlu ditentukan pertama kali adalah \"banyaknya topik\" yang akan ditemukan oleh LDA. Di satu sisi, ini sepertinya adalah kelemahan vanilla LDA karena tidak bisa menentukan banyaknya topik secara otomatis. Namun, saat ini, sudah ada banyak varian dari LDA yang mampu menentukan topik secara otomatis, termasuk salah satunya adalah Hierachical Dirichlet Process (HDP)"
   ]
  },
  {
   "cell_type": "code",
   "execution_count": 3,
   "id": "9dfb046a",
   "metadata": {},
   "outputs": [],
   "source": [
    "# config variables\n",
    "num_topics=4"
   ]
  },
  {
   "cell_type": "markdown",
   "id": "08baff38",
   "metadata": {},
   "source": [
    "Berikutnya pra-pemrosesan seperti lowercasing, stopword removal, dan stemming. Perlu dilakukan stopword removal, Kata-kata topik biasanya adalah content word yang mayoritas merupakan kata benda dan kata kerja."
   ]
  },
  {
   "cell_type": "code",
   "execution_count": 4,
   "id": "035482cd",
   "metadata": {},
   "outputs": [],
   "source": [
    "# definisikan beberapa fungsi untuk kebutuhkan pre-processing, pre-processing yang dilakukan adalah\n",
    "# 1. lowercasing\n",
    "# 2. stopword removal\n",
    "# 3. stemming\n",
    "\n",
    "stemmer = SnowballStemmer(\"english\")\n",
    "stopwords = nltk.corpus.stopwords.words('english')\n",
    "\n",
    "def preprocess(text):\n",
    "\n",
    "    # tokenizing and lowercasing\n",
    "    tokens = [word.lower() for word in text.split()]\n",
    "    filtered_tokens = []\n",
    "\n",
    "    # buat yang bukan terdiri dari alfabet, dan merupakan stopword\n",
    "    for token in tokens:\n",
    "        if re.search('[a-zA-Z]', token) and (token not in stopwords):\n",
    "            filtered_tokens.append(token)\n",
    "\n",
    "    # lakukan stemming dengan snowball stemmer\n",
    "    stems = [stemmer.stem(t) for t in filtered_tokens]\n",
    "    return stems"
   ]
  },
  {
   "cell_type": "markdown",
   "id": "560c8c12",
   "metadata": {},
   "source": [
    "Muat/load dataset dengan fungsi yang sudah dibangun sebelumnya, dan kenakan pre-processing terhadap dataset yang sudah dimuat tersebut."
   ]
  },
  {
   "cell_type": "code",
   "execution_count": 5,
   "id": "a37ebc00",
   "metadata": {},
   "outputs": [
    {
     "name": "stdout",
     "output_type": "stream",
     "text": [
      "['@carissalanders', '@neilcybart', '@OmarSnsd', '@lisagae', '@MilkyBillz', '@namivil', '@Cortney_Annie', '@beebomco', '@geekyranjit', '@Precy_Q', '@xenia_is_mine', '@Drew_1981', '@AnimenzzzThe', '@EliMagers', '@DMMachineBroke', '@brianhurley', '@precious23445', '@AJ170_iOS_King', '@fcbgm', '@ManLikeMerino', '@SafcGB', '@dltsikira', '@McKennaJoel', '@Daniel_ND_', '@Footy_Obsession', '@la_OK3', '@HotspurLane', '@samuelluckhurst', '@Chelsea_HQ', '@FOXSoccer', '@EnekemGreg', '@MirrorDarren', '@kevinoils_kevin', '@ketoman9697', '@sci3ncefiction', '@CaolanMc1798', '@Becca_March', '@HadleyStudio', '@mikebrewer1', '@CorsicanSociety', '@TheFCBdaily', '@Jeggit', '@Zen432', '@bcqer', '@wikileaks', '@The_DeepState', '@Antonietta_Na', '@tonistrubellt', '@USagarra', '@MMartinsobi']\n",
      "[['kardashian', 'yr', 'anniversary,', 'iphon', 'yr', 'anniversary,', 'so,', 'kardashian', 'made', 'iphon'], ['iphon', 'year', 'old.', 'appl', 'watch', 'year', 'old.', 'feel', 'peopl', 'forget', 'small', 'fact.'], [\"can't\", 'save', 'make,', 'live', 'beyond', 'means.', 'ditch', 'starbucks,', 'eat', 'less,', 'need', 'new', 'iphone,', 'save', 'money!'], ['time', 'year!', 'iphon', 'vs.', 'samsung', 'galaxi', 's8', 'smackdown:'], ['sell', 'yeezi', 'samsung', 'galaxi', 's8', 'anyon', 'interest', 'show', 'proof', 'trust', '@devilishrt', '@alienrt', '@bear_retweet', '@flyrt'], ['iphon', '16gb', 'spacegray', 'peso', 'only!', 'complet', 'full', 'packag', 'guys!', 'dm'], ['swear', 'even', 'iphon', 'dress', 'clown,', 'reach', 'pillow', '&choke', 'slept,', 'still', 'buy', 'samsung'], ['iphon', '8', 'a11', 'bionic', 'chip', 'lost', 'samsung', 'galaxi', 'note', 'app', 'launch', 'time', 'multitask', 'speeds.'], ['confus', 'post', 'dedic', 'camera', 'review', 'samsung', 'galaxi', 'note', 'includ', 'camera', 'section', 'main', 'full', 'review?'], ['guy', 'use', 'iphone6&', 'samsung', 'galaxi', 'sale..', 'plz', 'dm'], ['mom', 'say', 'devil', 'give', 'samsung,', 'take', 'iphon', 'return?'], ['cassi', 'iphon', 'could', 'open', 'lie', 'face!', '#60min'], ['infam', 'samsung', 'galaxi', 'note', 'still', 'ban', 'aircraft', 'even', 'got', 'prohibit', 'symbol'], ['so,', 'realli', 'dumb', 'phone.', 'samsung', 'galaxi', 'note', 'phone', 'great', 'mayb', 'year', 'ago,'], ['\"bro', 'window', 'delux', 'brick', 'trashcan', 'everyth', 'iphon', 'sheep', 'bro\"'], ['samsung', 'galaxi', 'note', 'camera:', 'blur', 'line', 'samsung', 'attempt', 'redempt', 'note', 'line', 'is,', 'part,'], ['iphon', 'x', 'look', 'lot', 'like', 'samsung', 'galaxi', 's10', 'plus'], ['congratulations.', 'news', 'iphon', 'jailbreak', 'bought', 'new', 'iphone.'], ['messi', 'arguabl', 'greatest', 'perform', 'major', 'final', 'champion', 'leagu', 'final)', 'ever.'], ['im', 'gonna', 'boo', 'gini', 'tomorrow,', 'alway', 'gonna', 'leav', 'man,', 'good', 'championship', 'champion', 'leagu', 'tabl', 'ffs...'], ['grayson', 'backtracking,', 'lost', 'me,', 'bruce', 'same.', 'mcgeadi', 'wrongun', 'celebration,', 'thought', \"we'd\", 'champion', 'league,p!ss', 'poor', '#safc'], ['chelsea', 'found', 'citi', 'atletico', 'madrid'], ['delph', 'idiot', 'leav', 'villa.', 'releg', 'battl', 'first', 'choic', 'player', 'champion', 'leagu', 'prem'], ['chelsea', 'taken', 'point', 'possibl', 'champion', 'leagu', 'fixtur'], ['zinedin', 'zidane:', '\"give', 'lord', 'fellaini', 'piec', 'wood', \"i'll\", 'win', 'champion', 'league,', 'world', 'cup', 'uefa', 'euro'], ['dj', 'play', 'champion', 'leagu', 'anthem', 'chic', 'caught', 'bouquet'], ['harri', 'kane', 'current', 'joint', 'top', 'scorer', 'premier', 'leagu', 'outright', 'top', 'scorer', 'champion', 'league.', 'elite.'], ['harri', 'kane', 'one', 'deserv', 'world-class', 'tag', 'despit', 'cut', 'intern', 'tournament', 'champion', 'leagu', '(yet).'], ['christensen:', 'face', 'striker', 'bundesliga', 'two', 'year', 'champion', 'leagu', 'well,', 'got', 'much', 'experience.', '[telegraph]'], ['sinc', 'premier', 'leagu', 'club', 'domin', 'champion', 'leagu', 'like', 'this.'], ['good', 'luck', 'arsenal', 'europa', 'leagu', 'game,', 'hope', 'next', 'season', 'get', 'play', 'champion', 'league.'], ['chelsea', 'display', 'best', 'english', 'club', 'champion', 'leagu', 'season.', 'win', 'away', 'atletico', 'mean', 'feat.', 'full', 'valu', 'too.'], ['brilliant', 'scottish', 'crew', 'support', 'catalan', 'referendum,', 'viva', 'catalunya'], ['brexit', 'support', 'support', 'catalunya', 'referendum', 'sovereignti', 'self', 'determin', 'nations.', 'si'], ['offici', 'referendum', 'day', 'babi', 'awooooo', '(wolf', 'howl)', 'catalunya', 'ride'], ['derri', 'wall', 'turn', 'yellow', 'red', 'solidar', 'catalonia', 'eve', 'independ', 'referendum.', 'viva', 'catalunya!'], ['watch', 'madrid', 'forc', 'polic', 'catalunya', 'prevent', 'referendum', 'unedifi', 'spectacle.', 'whimper', 'liber', 'protest'], ['catalan', 'referendum', 'full', 'flow', 'barcelona', 'ever', 'happens,', 'peac', 'love,', 'right?'], ['patriot', 'fervour', 'barcelona', 'ahead', 'referendum', 'catalunya', 'tomorrow'], ['tomorrow', '#indyref', 'referendum', '#catalunya.', 'whole', 'europ', 'watch', 'close'], ['controversi', 'referendum', 'due', 'stage', 'sunday,', 'catalunya', 'seek', 'becom', 'recognis', 'nation'], ['last', 'poll', 'catalan', 'independ', 'referendum.83%', 'yes!', 'inform', 'ban', 'catalunya.'], ['catalan', 'judg', 'sue', 'spanish', 'govt.', 'block', 'referendum'], ['thought', 'tri', 'get', '@thenat', 'articl', 'catalunya', 'referendum'], ['wikileak', 'mirror', 'censor', 'catalan', 'govern', 'referendum', 'site', 'includ', 'poll', 'station'], ['chao', 'catalonia:', 'spanish', 'offici', 'scrambl', 'stop', 'secess', 'referendum'], ['tast', 'atmosfer', 'referendum', 'catalunya'], ['polic', 'chief', 'sent', 'stop', 'catalan', 'referendum,', 'fascist', 'support', 'tejero', 'coup'], ['@jaromil', 'ipf', 'block', 'catalunya', 'due', 'referendum,', 'necessari', 'collabor', 'main', 'providers.', 'mani', 'block', 'websites.'], ['this', 'manipul', 'spanish', 'knew', 'problem', 'catalunya', 'pp', 'el', 'care', 'referendum', 'valid', 'let', 'vote.ignor', 'el', 'pai']]\n"
     ]
    }
   ],
   "source": [
    "# Kita load dokumen twitter, dan lakukan preprocessing terhadap tweet yang sudah di-load\n",
    "acc_names, tweets = load_dataset(\"twitter.txt\")\n",
    "\n",
    "# Lakukan pre-process untuk setiap tweet pada koleksi \"tweets\" kita\n",
    "# Gunakan List Comprehension untuk mempermudah hidup kita\n",
    "tweets = [preprocess(tweet) for tweet in tweets]\n",
    "print(acc_names)\n",
    "print(tweets)"
   ]
  },
  {
   "cell_type": "markdown",
   "id": "51791326",
   "metadata": {},
   "source": [
    "Setelah itu, buat dictionary dari semua kata-kata dalam koleksi dokumen. Intinya adalah melakukan indexing untuk semua kata-kata yang ada pada koleksi dokumen (yang ingin dicari distribusi topik-nya). \n",
    "\n",
    "Perlu diingat bahwa LDA menganggap sebuah dokumen sebagai bag-of-words (BoW) karena informasi urutan antar kata dalam dokumen tidak diperlukan."
   ]
  },
  {
   "cell_type": "code",
   "execution_count": 6,
   "id": "34be0f44",
   "metadata": {},
   "outputs": [],
   "source": [
    "# membuat term dictionary dari korpus kita, dimana setiap kata unik akan diberikan sebuah index\n",
    "dictionary = Dictionary(tweets)\n",
    "\n",
    "# buang term yang:\n",
    "# 1. muncul di kurang dari 2 dokumen\n",
    "# 2. muncul di lebih dari 0.9*(total_dok) dokumen\n",
    "dictionary.filter_extremes(no_below=2, no_above=0.9)\n",
    "\n",
    "# ubah dictionary menjadi object bag-of-words reference\n",
    "# ingat bahwa dalama LDA, dokumen diasumsikan dengan bag-of-words model\n",
    "corpus = [dictionary.doc2bow(tweet) for tweet in tweets]"
   ]
  },
  {
   "cell_type": "markdown",
   "id": "d0f1036e",
   "metadata": {},
   "source": [
    "Saatnya menjalankan LDA untuk infer distribusi topik secara otomatis!\n",
    "\n",
    "Untuk melakukan estimasi, contoh disini gensim LDA menggunakan metode Variational Bayes (bukan dengan Gibbs Sampling). \n",
    "\n",
    "Proses yang dijalankan mendukung online learning, dimana bisa update parameter secara langsung ketika ada dokumen baru. Perhatikan bahwa bagian ini dapat memakan waktu lama tergantung iterasi yang di-set."
   ]
  },
  {
   "cell_type": "code",
   "execution_count": 7,
   "id": "b33915da",
   "metadata": {},
   "outputs": [],
   "source": [
    "# Run the LDA !\n",
    "lda = ldamodel.LdaModel(corpus, num_topics=num_topics, id2word=dictionary, random_state=1, iterations=5000)"
   ]
  },
  {
   "cell_type": "markdown",
   "id": "f653b3a9",
   "metadata": {},
   "source": [
    "Setelah itu, kita bisa coba lihat-lihat topik-topik yang berhasil di-infer oleh LDA beserta kata-kata wakil dan distribusinya."
   ]
  },
  {
   "cell_type": "code",
   "execution_count": 8,
   "id": "5f070ed7",
   "metadata": {},
   "outputs": [
    {
     "name": "stdout",
     "output_type": "stream",
     "text": [
      "topic number: 0\n",
      "referendum 0.12604266\n",
      "catalunya 0.09850918\n",
      "iphon 0.09738426\n",
      "catalan 0.07174972\n",
      "spanish 0.04418777\n",
      "referendum, 0.030801537\n",
      "support 0.030709567\n",
      "stop 0.030667704\n",
      "polic 0.030652242\n",
      "poll 0.030531254\n",
      "topic number: 1\n",
      "samsung 0.123161204\n",
      "galaxi 0.07659603\n",
      "note 0.07596556\n",
      "iphon 0.054410517\n",
      "champion 0.052634075\n",
      "leagu 0.030970046\n",
      "referendum 0.030142874\n",
      "year 0.029580044\n",
      "get 0.029486915\n",
      "play 0.02942858\n",
      "topic number: 2\n",
      "champion 0.11865913\n",
      "leagu 0.11773976\n",
      "samsung 0.047095202\n",
      "galaxi 0.046883218\n",
      "iphon 0.033681083\n",
      "catalunya 0.03317142\n",
      "block 0.03251659\n",
      "support 0.032458156\n",
      "premier 0.032383252\n",
      "lost 0.032329824\n",
      "topic number: 3\n",
      "full 0.073688045\n",
      "champion 0.05741249\n",
      "leagu 0.056969095\n",
      "referendum 0.04028616\n",
      "samsung 0.03970258\n",
      "galaxi 0.03953577\n",
      "note 0.03928005\n",
      "got 0.039073676\n",
      "atletico 0.038903702\n",
      "chelsea 0.03888777\n"
     ]
    }
   ],
   "source": [
    "# tampilkan topic matrix\n",
    "topics_matrix = lda.show_topics(formatted=False)\n",
    "\n",
    "for topic_no, topic_words in topics_matrix:\n",
    "\n",
    "    print ('topic number: {}'.format(topic_no))\n",
    "\n",
    "    # default: top-10 kata yang paling tinggi probabilitasnya\n",
    "    for word, prob in topic_words:\n",
    "        print (word, prob)"
   ]
  },
  {
   "cell_type": "markdown",
   "id": "3f8df1ce",
   "metadata": {},
   "source": [
    "### Pengelompokan Dokumen (Clustering Tweets)\n",
    "\n",
    "Setelah berhasil infer distribusi topik untuk koleksi dan juga masing-masing dokumen tweet, berikutnya dicoba cluster tweet berdasarkan kedekatan topik. Sebuah dokumen/tweet direpresentasikan sebagai vektor yang setiap cell-nya merupakan probabilitas topik tertentu terkait dokumen tersebut."
   ]
  },
  {
   "cell_type": "code",
   "execution_count": 9,
   "id": "38dde60b",
   "metadata": {},
   "outputs": [
    {
     "data": {
      "text/plain": [
       "[1,\n",
       " 2,\n",
       " 1,\n",
       " 0,\n",
       " 0,\n",
       " 3,\n",
       " 2,\n",
       " 0,\n",
       " 3,\n",
       " 3,\n",
       " 1,\n",
       " 1,\n",
       " 3,\n",
       " 2,\n",
       " 1,\n",
       " 2,\n",
       " 2,\n",
       " 1,\n",
       " 0,\n",
       " 0,\n",
       " 0,\n",
       " 3,\n",
       " 0,\n",
       " 0,\n",
       " 2,\n",
       " 0,\n",
       " 0,\n",
       " 0,\n",
       " 0,\n",
       " 0,\n",
       " 2,\n",
       " 3,\n",
       " 1,\n",
       " 1,\n",
       " 1,\n",
       " 3,\n",
       " 1,\n",
       " 3,\n",
       " 1,\n",
       " 1,\n",
       " 1,\n",
       " 1,\n",
       " 1,\n",
       " 3,\n",
       " 1,\n",
       " 1,\n",
       " 1,\n",
       " 1,\n",
       " 0,\n",
       " 1]"
      ]
     },
     "execution_count": 9,
     "metadata": {},
     "output_type": "execute_result"
    }
   ],
   "source": [
    "# bentuk terlebih dahulu vektor dokumen/tweet\n",
    "# vektor tweet/dokumen = vektor probabilitas terhadap masing-masing topik\n",
    "tweet_vectors = []\n",
    "for tweet in tweets:\n",
    "    probs = [prob for (_,prob) in lda.get_document_topics(dictionary.doc2bow(tweet))]\n",
    "    tweet_vectors.append(probs)\n",
    "tweet_vectors = np.array(tweet_vectors)\n",
    "\n",
    "# kita set banyaknya cluster = banyaknya topik\n",
    "num_clusters = num_topics\n",
    "\n",
    "# gunakan algoritma K-Means, dan lakukan clustering !\n",
    "km = KMeans(n_clusters=num_clusters)\n",
    "km.fit(tweet_vectors)\n",
    "\n",
    "# jika kita ingin melihat indeks cluster untuk setiap tweet/dokumen\n",
    "clusters = km.labels_.tolist()\n",
    "\n",
    "clusters"
   ]
  },
  {
   "cell_type": "markdown",
   "id": "10ba789f",
   "metadata": {},
   "source": [
    "### Penentuan Wakil Kata untuk Topik Utama di Setiap Cluster\n",
    "\n",
    "Sebelumnya, diasumsikan bahwa dokumen-dokumen atau kumpulan tweet yang berada dalam satu cluster adalah yang kira-kira membicarakan topik-topik yang sama karena distribusi topik-nya dekat. \n",
    "\n",
    "Sekarang, akan memberikan label untuk setiap cluster agar kira-kira topik-topik utama apa yang dibicarakan di setiap cluster. Cara yang paling mudah untuk memberi nama topik yang major adalah dengan melihat vektor centroid dari masing-masing cluster. \n",
    "\n",
    "Lalu, untuk setiap centroid, dilihat siapa topik yang probabilitas-nya atau proporsi-nya paling tinggi. Kata-kata dari topik yang probabilitas paling tinggi itulah yang menjadi wakil dari cluster yang bersesuaian."
   ]
  },
  {
   "cell_type": "code",
   "execution_count": 10,
   "id": "5a4d1d00",
   "metadata": {},
   "outputs": [
    {
     "name": "stdout",
     "output_type": "stream",
     "text": [
      "cluster 0 words:\n",
      "champion,leagu\n",
      "cluster 1 words:\n",
      "referendum,catalunya\n",
      "cluster 2 words:\n",
      "samsung,galaxi\n",
      "cluster 3 words:\n",
      "full,champion\n"
     ]
    }
   ],
   "source": [
    "# untuk setiap cluster center, kita sort argumen/index berdasarkan nilai probabilitasnya\n",
    "# karena index/argumen adalah id topik.\n",
    "#\n",
    "# jadi, secara intuisi, ini adalah cara untuk mencari topik major yang dibicarakan di sebuah cluster\n",
    "# nantinya, wakil kata cluster akan diambil dari 2 topik major di setiap cluster\n",
    "#\n",
    "# ::-1 artinya reverse list\n",
    "\n",
    "order_centroids = km.cluster_centers_.argsort()[:, ::-1]\n",
    "\n",
    "cluster_names = {}\n",
    "for i in range(num_clusters):\n",
    "    print (\"cluster %d words:\" % i)\n",
    "    \n",
    "    # ambil 2 topik major untuk setiap cluster\n",
    "    topic_words = []\n",
    "    for ind in order_centroids[i, :1]:\n",
    "        topic_words += [dictionary.get(word_id) for (word_id, prob) in lda.get_topic_terms(ind, topn=2)]\n",
    "    \n",
    "    cluster_names[i] = ','.join(topic_words)\n",
    "\n",
    "    print (cluster_names[i])"
   ]
  },
  {
   "cell_type": "markdown",
   "id": "c199abe7",
   "metadata": {},
   "source": [
    "### Visualisasi Cluster dengan Matplotlib\n",
    "\n",
    "Agar bisa di-plot ke bidang 2-dimensi, kita perlu reduksi dimensi vektor dokumen yang awalnya sebanyak #topik menjadi 2-dimensi. Dapat menggunakan berbagai macam teknik seperti Multidimensional Scaling (MDS) atau Princiap Component Analysis (PCA)."
   ]
  },
  {
   "cell_type": "code",
   "execution_count": 11,
   "id": "28442b62",
   "metadata": {},
   "outputs": [],
   "source": [
    "### plot ke 2D ###\n",
    "\n",
    "#reduksi dimensi dengan multidimensional scaling\n",
    "mds = MDS(n_components=2)\n",
    "pos = mds.fit_transform(tweet_vectors)  # shape (n_components, n_samples)\n",
    "\n",
    "#pca = PCA(n_components=2)\n",
    "#pos = pca.fit_transform(tweet_vectors)  # shape (n_components, n_samples)\n",
    "\n",
    "# ambil hasil reduksi ke 2D untuk posisi x dan y --> agar bisa di-plot di bidang kartesius\n",
    "xs, ys = pos[:, 0], pos[:, 1]"
   ]
  },
  {
   "cell_type": "markdown",
   "id": "0bc6f767",
   "metadata": {},
   "source": [
    "Setelah itu, dibuat beberapa fungsi untuk plotting beberapa informasi yang dibutuhkan ke bidang kartesius."
   ]
  },
  {
   "cell_type": "code",
   "execution_count": 12,
   "id": "0ea26f84",
   "metadata": {},
   "outputs": [],
   "source": [
    "# fungsi yang digunakan untuk plot cluster dokumen berdsarkan distribusi topik yang dimilikinya\n",
    "# xs adalah posisi axis dari semua dokumen (numpy list of real number)\n",
    "# ys adalah posisi ordinat dari semua dokumen (numpy list of real number)\n",
    "# clusters adalah list dari cluster index untuk masing-masing dokumen\n",
    "# acc_names adalah list dari nama-nama dokumen (dalam hal ini, nama-nama akun tweet)\n",
    "def plot_doc_cluster(xs, ys, clusters, acc_names):\n",
    "    # warna cluster - maksimal 5 cluster\n",
    "    cluster_colors = {0: '#1b9e77', 1: '#d95f02', 2: '#7570b3', 3: '#e7298a', 4: '#66a61e'}\n",
    "\n",
    "    # gunakan Pandas untuk kemudahan proses data, terutama untuk grouping\n",
    "    df = pd.DataFrame(dict(x=xs, y=ys, label=clusters, acc_names=acc_names))\n",
    "    groups = df.groupby('label') #group by cluster!!!\n",
    "\n",
    "    fig, ax = plt.subplots(figsize=(17, 9)) # set size\n",
    "    ax.margins(0.05)\n",
    "\n",
    "    for name, group in groups:\n",
    "        ax.plot(group.x, group.y, marker='o', linestyle='', ms=12, label=cluster_names[name], color=cluster_colors[name], mec='none')\n",
    "        ax.set_aspect('auto')\n",
    "        ax.tick_params(axis= 'x', which='both', bottom='off', top='off', labelbottom='off')\n",
    "        ax.tick_params(axis= 'y', which='both', left='off', top='off', labelleft='off')\n",
    "\n",
    "    ax.legend(numpoints=1)  #show legend with only 1 point\n",
    "    print(df)\n",
    "    for i in range(len(df)):\n",
    "        ax.text(df.loc[i]['x'], df.loc[i]['y'], df.loc[i]['acc_names'], size=8)\n",
    "\n",
    "    plt.show()\n",
    "\n",
    "# fungsi yang digunakan untuk plot distribusi kata per-topik yang ditemukan\n",
    "def plot_word_dist_per_topic(topic_no, topics_matrix, width=0.5):\n",
    "    _, topic_words = topics_matrix[topic_no]\n",
    "\n",
    "    # hanya top-10 yang paling tinggi probabilitasnya\n",
    "    words = []\n",
    "    probs = []\n",
    "    for word, prob in topic_words:\n",
    "        words.append(word)\n",
    "        probs.append(prob)\n",
    "\n",
    "    ind = np.arange(len(words))\n",
    "\n",
    "    plt.bar(ind, probs, width=width)\n",
    "    plt.xticks(ind + width/2, words, rotation='vertical')\n",
    "    plt.title('Word Distribution of Topic {}'.format(topic_no))\n",
    "    plt.show()"
   ]
  },
  {
   "cell_type": "code",
   "execution_count": 13,
   "id": "35c10308",
   "metadata": {},
   "outputs": [
    {
     "name": "stdout",
     "output_type": "stream",
     "text": [
      "           x         y  label         acc_names\n",
      "0  -0.481042 -0.203799      1   @carissalanders\n",
      "1   0.511186  0.546601      2       @neilcybart\n",
      "2  -0.294699 -0.109226      1         @OmarSnsd\n",
      "3   0.562720 -0.432509      0          @lisagae\n",
      "4   0.418896 -0.102696      0       @MilkyBillz\n",
      "5  -0.198084  0.589548      3          @namivil\n",
      "6   0.515031  0.549359      2    @Cortney_Annie\n",
      "7   0.466266 -0.001664      0         @beebomco\n",
      "8  -0.222433  0.791118      3      @geekyranjit\n",
      "9   0.117607  0.434682      3          @Precy_Q\n",
      "10 -0.284580 -0.104683      1    @xenia_is_mine\n",
      "11 -0.284512 -0.104827      1        @Drew_1981\n",
      "12  0.061518  0.541265      3     @AnimenzzzThe\n",
      "13  0.538690  0.571853      2        @EliMagers\n",
      "14 -0.284642 -0.104711      1   @DMMachineBroke\n",
      "15  0.538626  0.573265      2      @brianhurley\n",
      "16  0.510351  0.552947      2    @precious23445\n",
      "17 -0.419909 -0.174115      1   @AJ170_iOS_King\n",
      "18  0.460203 -0.344638      0            @fcbgm\n",
      "19  0.546745 -0.422000      0    @ManLikeMerino\n",
      "20  0.512196 -0.396076      0           @SafcGB\n",
      "21 -0.200072  0.702774      3        @dltsikira\n",
      "22  0.512216 -0.398102      0      @McKennaJoel\n",
      "23  0.507522 -0.392540      0       @Daniel_ND_\n",
      "24  0.417964  0.444931      2  @Footy_Obsession\n",
      "25  0.512367 -0.392734      0           @la_OK3\n",
      "26  0.583946 -0.454861      0      @HotspurLane\n",
      "27  0.540706 -0.428012      0  @samuelluckhurst\n",
      "28  0.288343 -0.005378      0       @Chelsea_HQ\n",
      "29  0.579549 -0.460764      0        @FOXSoccer\n",
      "30  0.473088  0.280475      2       @EnekemGreg\n",
      "31 -0.232407  0.809756      3     @MirrorDarren\n",
      "32 -0.550792 -0.236330      1  @kevinoils_kevin\n",
      "33 -0.522597 -0.226241      1      @ketoman9697\n",
      "34 -0.485744 -0.207467      1   @sci3ncefiction\n",
      "35 -0.172320  0.624783      3     @CaolanMc1798\n",
      "36 -0.549709 -0.236405      1      @Becca_March\n",
      "37 -0.289605  0.185541      3     @HadleyStudio\n",
      "38 -0.522556 -0.224486      1      @mikebrewer1\n",
      "39 -0.476668 -0.202744      1  @CorsicanSociety\n",
      "40 -0.483192 -0.207893      1      @TheFCBdaily\n",
      "41 -0.523953 -0.223870      1           @Jeggit\n",
      "42 -0.522886 -0.225569      1           @Zen432\n",
      "43 -0.245021  0.346609      3            @bcqer\n",
      "44 -0.524808 -0.224525      1        @wikileaks\n",
      "45 -0.526020 -0.225662      1    @The_DeepState\n",
      "46 -0.420159 -0.173714      1    @Antonietta_Na\n",
      "47 -0.551849 -0.236737      1    @tonistrubellt\n",
      "48  0.580416 -0.453342      0         @USagarra\n",
      "49 -0.485890 -0.207189      1      @MMartinsobi\n"
     ]
    },
    {
     "data": {
      "image/png": "[encoded data removed]",
      "text/plain": [
       "<Figure size 1224x648 with 1 Axes>"
      ]
     },
     "metadata": {
      "needs_background": "light"
     },
     "output_type": "display_data"
    }
   ],
   "source": [
    "# plot cluster dokumen/tweet\n",
    "plot_doc_cluster(xs, ys, clusters, acc_names)"
   ]
  },
  {
   "cell_type": "markdown",
   "id": "5ecf735e",
   "metadata": {},
   "source": [
    "Kemudian, fungsi plotting yang kedua digunakan untuk melihat Top-10 Kata paling probable atau yang paling besar proporsinya untuk topik tertentu."
   ]
  },
  {
   "cell_type": "code",
   "execution_count": 14,
   "id": "76b202a5",
   "metadata": {},
   "outputs": [
    {
     "data": {
      "image/png": "[encoded data removed]",
      "text/plain": [
       "<Figure size 432x288 with 1 Axes>"
      ]
     },
     "metadata": {
      "needs_background": "light"
     },
     "output_type": "display_data"
    }
   ],
   "source": [
    "# plot word distribution untuk topic 0\n",
    "plot_word_dist_per_topic(0, topics_matrix)"
   ]
  },
  {
   "cell_type": "code",
   "execution_count": 15,
   "id": "0fef1b64",
   "metadata": {},
   "outputs": [
    {
     "data": {
      "image/png": "[encoded data removed]",
      "text/plain": [
       "<Figure size 432x288 with 1 Axes>"
      ]
     },
     "metadata": {
      "needs_background": "light"
     },
     "output_type": "display_data"
    }
   ],
   "source": [
    "# plot word distribution untuk topic 1\n",
    "plot_word_dist_per_topic(1, topics_matrix)"
   ]
  },
  {
   "cell_type": "code",
   "execution_count": 16,
   "id": "d182e219",
   "metadata": {},
   "outputs": [
    {
     "data": {
      "image/png": "[encoded data removed]",
      "text/plain": [
       "<Figure size 432x288 with 1 Axes>"
      ]
     },
     "metadata": {
      "needs_background": "light"
     },
     "output_type": "display_data"
    }
   ],
   "source": [
    "# plot word distribution untuk topic 2\n",
    "plot_word_dist_per_topic(2, topics_matrix)"
   ]
  },
  {
   "cell_type": "code",
   "execution_count": 17,
   "id": "80cfad7d",
   "metadata": {},
   "outputs": [
    {
     "data": {
      "image/png": "[encoded data removed]",
      "text/plain": [
       "<Figure size 432x288 with 1 Axes>"
      ]
     },
     "metadata": {
      "needs_background": "light"
     },
     "output_type": "display_data"
    }
   ],
   "source": [
    "# plot word distribution untuk topic 3\n",
    "plot_word_dist_per_topic(3, topics_matrix)"
   ]
  }
 ],
 "metadata": {
  "kernelspec": {
   "display_name": "Python 3 (ipykernel)",
   "language": "python",
   "name": "python3"
  },
  "language_info": {
   "codemirror_mode": {
    "name": "ipython",
    "version": 3
   },
   "file_extension": ".py",
   "mimetype": "text/x-python",
   "name": "python",
   "nbconvert_exporter": "python",
   "pygments_lexer": "ipython3",
   "version": "3.9.5"
  }
 },
 "nbformat": 4,
 "nbformat_minor": 5
}
