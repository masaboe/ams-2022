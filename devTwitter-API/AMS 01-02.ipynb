{
 "cells": [
  {
   "cell_type": "markdown",
   "metadata": {},
   "source": [
    "Analitika Media Sosial Buku Praktek 01-02\n",
    "==============\n",
    "\n",
    "***Petunjuk Mengambil data dari Twitter: Advanced***\n",
    "\n",
    "**Author:** *Dr. Eng. Farrikh Alzami, M.Kom*\n",
    "\n",
    "Program Studi Sistem Informasi S1\n",
    "\n",
    "***Universitas Dian Nuswantoro 2021***\n",
    "\n",
    "---\n",
    "\n",
    "MATERI: **MENGAMBIL DATA DENGAN BERBAGAI PARAMETER**\n",
    "\n",
    "---"
   ]
  },
  {
   "cell_type": "markdown",
   "metadata": {},
   "source": [
    "# Table of Contents\n",
    "- [load libraries](#load-libraries)\n",
    "- [buat akun](#Buat-akun-di-Twitter)\n",
    "- [login credentials](#Login-Credentials-twitter)\n",
    "- [materi]"
   ]
  },
  {
   "cell_type": "markdown",
   "metadata": {},
   "source": [
    "# load libraries"
   ]
  },
  {
   "cell_type": "code",
   "execution_count": 1,
   "metadata": {},
   "outputs": [],
   "source": [
    "import pandas as pd\n",
    "import time\n",
    "import tweepy\n",
    "import numpy as np"
   ]
  },
  {
   "cell_type": "markdown",
   "metadata": {},
   "source": [
    "# Buat akun di Twitter\n",
    "- masuk ke https://developer.twitter.com/en/portal/dashboard\n",
    "\n",
    "![homepage](img/01.png)"
   ]
  },
  {
   "cell_type": "markdown",
   "metadata": {},
   "source": [
    "- buat Project 01: **CREATE PROJECT** > \n",
    "\n",
    "![create project](img/02.png)\n",
    "\n",
    "- silakan pilih: **student** atau **doing research** >  \n",
    "\n",
    "![create project](img/03.png)\n",
    "\n",
    "- describe **silakan tulis sendiri**\n",
    "\n",
    "![create project](img/04.png)\n",
    "\n",
    "- Buat Project App > nama phase\n",
    "\n",
    "![create project](img/05.png)"
   ]
  },
  {
   "cell_type": "markdown",
   "metadata": {},
   "source": [
    "- **LANGSUNG MASUK KE GO TO DASHBOARD SAJA**\n",
    "\n",
    "![create project](img/06.png)"
   ]
  },
  {
   "cell_type": "markdown",
   "metadata": {},
   "source": [
    "- aplikasi sudah siap\n",
    "\n",
    "![create project](img/07.png)\n",
    "\n",
    "- jangan lupa untuk mengeset **read and write** jika anda menghendaki untuk bisa menulis >> **App Permissions**\n",
    "\n",
    "![set read write](img/09.png)\n",
    "\n",
    "![create project](img/10.png)"
   ]
  },
  {
   "cell_type": "markdown",
   "metadata": {},
   "source": [
    "# Login Credentials twitter"
   ]
  },
  {
   "cell_type": "markdown",
   "metadata": {},
   "source": [
    "## cek login\n",
    "\n",
    "BUKA TOMBOL KUNCI\n",
    "\n",
    "![create project](img/08.png)\n",
    "\n",
    "masuk ke **keys and tokens** > Consumer Keys > API Key and Secret, lalu masukkan\n",
    "\n",
    "`auth = tweepy.OAuthHandler(\"API KEY\", \"API KEY SECRET\")`\n",
    "\n",
    "masuk ke **keys and tokens** > Authentication Tokens > Access token & secret, lalu masukkan\n",
    "\n",
    "`auth.set_access_token(\"ACCESS TOKEN\", \n",
    "    \"ACCESS TOKEN SECRET\")`"
   ]
  },
  {
   "cell_type": "markdown",
   "metadata": {},
   "source": [
    "![Developer Twitter](img/dev_twitter.png)"
   ]
  },
  {
   "cell_type": "code",
   "execution_count": 2,
   "metadata": {},
   "outputs": [],
   "source": [
    "def twitter_config():\n",
    "    \"\"\"\n",
    "    Fungsi utilitas untuk mengkonfigurasi konsumsi file API Twitter dengan␣\n",
    "    ,!kunci yang disediakan.\n",
    "    \"\"\"\n",
    "    # Otentikasi dan akses menggunakan kunci:\n",
    "    auth = tweepy.OAuthHandler(\"6VBNexMOH2tClDFMLxPtEF4BC\",\n",
    "    \"dGebFuLhVhZNxwXz4nACb0L4WNhTdjYqDJU4wfkwTPgCfovjVL\")\n",
    "    auth.set_access_token(\"153745937-RopdwO7IoWsT0LNnwzCafAdLvXMPiswCY8brbsua\",\n",
    "    \"kZ5U8WJmSLL2EtoskMxWgFOWuGnXf9IL8ZGPZ8MiBoUlm\")\n",
    "    # Kembalikan akses ke API:\n",
    "    api = tweepy.API(auth)\n",
    "    try:\n",
    "        api.verify_credentials()\n",
    "        print(\"Authentication OK\")\n",
    "    except:\n",
    "        print(\"Error during authentication\")\n",
    "    return api"
   ]
  },
  {
   "cell_type": "code",
   "execution_count": 3,
   "metadata": {},
   "outputs": [
    {
     "name": "stdout",
     "output_type": "stream",
     "text": [
      "Authentication OK\n"
     ]
    }
   ],
   "source": [
    "# buat extractor object\n",
    "extractor = twitter_config()"
   ]
  },
  {
   "cell_type": "markdown",
   "metadata": {},
   "source": [
    "# tweet ke twitter"
   ]
  },
  {
   "cell_type": "code",
   "execution_count": 4,
   "metadata": {},
   "outputs": [
    {
     "ename": "TweepError",
     "evalue": "Read-only application cannot POST.",
     "output_type": "error",
     "traceback": [
      "\u001b[0;31m\u001b[0m",
      "\u001b[0;31mTweepError\u001b[0mTraceback (most recent call last)",
      "\u001b[0;32m<ipython-input-4-483726cca57c>\u001b[0m in \u001b[0;36m<module>\u001b[0;34m\u001b[0m\n\u001b[0;32m----> 1\u001b[0;31m \u001b[0mextractor\u001b[0m\u001b[0;34m.\u001b[0m\u001b[0mupdate_status\u001b[0m\u001b[0;34m(\u001b[0m\u001b[0;34m\"Latihan analitika media sosial dua\"\u001b[0m\u001b[0;34m)\u001b[0m\u001b[0;34m\u001b[0m\u001b[0;34m\u001b[0m\u001b[0m\n\u001b[0m",
      "\u001b[0;32m/opt/conda/lib/python3.8/site-packages/tweepy/api.py\u001b[0m in \u001b[0;36mupdate_status\u001b[0;34m(self, *args, **kwargs)\u001b[0m\n\u001b[1;32m    203\u001b[0m             \u001b[0mkwargs\u001b[0m\u001b[0;34m[\u001b[0m\u001b[0;34m'media_ids'\u001b[0m\u001b[0;34m]\u001b[0m \u001b[0;34m=\u001b[0m \u001b[0mlist_to_csv\u001b[0m\u001b[0;34m(\u001b[0m\u001b[0mkwargs\u001b[0m\u001b[0;34m[\u001b[0m\u001b[0;34m'media_ids'\u001b[0m\u001b[0;34m]\u001b[0m\u001b[0;34m)\u001b[0m\u001b[0;34m\u001b[0m\u001b[0;34m\u001b[0m\u001b[0m\n\u001b[1;32m    204\u001b[0m \u001b[0;34m\u001b[0m\u001b[0m\n\u001b[0;32m--> 205\u001b[0;31m         return bind_api(\n\u001b[0m\u001b[1;32m    206\u001b[0m             \u001b[0mapi\u001b[0m\u001b[0;34m=\u001b[0m\u001b[0mself\u001b[0m\u001b[0;34m,\u001b[0m\u001b[0;34m\u001b[0m\u001b[0;34m\u001b[0m\u001b[0m\n\u001b[1;32m    207\u001b[0m             \u001b[0mpath\u001b[0m\u001b[0;34m=\u001b[0m\u001b[0;34m'/statuses/update.json'\u001b[0m\u001b[0;34m,\u001b[0m\u001b[0;34m\u001b[0m\u001b[0;34m\u001b[0m\u001b[0m\n",
      "\u001b[0;32m/opt/conda/lib/python3.8/site-packages/tweepy/binder.py\u001b[0m in \u001b[0;36m_call\u001b[0;34m(*args, **kwargs)\u001b[0m\n\u001b[1;32m    251\u001b[0m                 \u001b[0;32mreturn\u001b[0m \u001b[0mmethod\u001b[0m\u001b[0;34m\u001b[0m\u001b[0;34m\u001b[0m\u001b[0m\n\u001b[1;32m    252\u001b[0m             \u001b[0;32melse\u001b[0m\u001b[0;34m:\u001b[0m\u001b[0;34m\u001b[0m\u001b[0;34m\u001b[0m\u001b[0m\n\u001b[0;32m--> 253\u001b[0;31m                 \u001b[0;32mreturn\u001b[0m \u001b[0mmethod\u001b[0m\u001b[0;34m.\u001b[0m\u001b[0mexecute\u001b[0m\u001b[0;34m(\u001b[0m\u001b[0;34m)\u001b[0m\u001b[0;34m\u001b[0m\u001b[0;34m\u001b[0m\u001b[0m\n\u001b[0m\u001b[1;32m    254\u001b[0m         \u001b[0;32mfinally\u001b[0m\u001b[0;34m:\u001b[0m\u001b[0;34m\u001b[0m\u001b[0;34m\u001b[0m\u001b[0m\n\u001b[1;32m    255\u001b[0m             \u001b[0mmethod\u001b[0m\u001b[0;34m.\u001b[0m\u001b[0msession\u001b[0m\u001b[0;34m.\u001b[0m\u001b[0mclose\u001b[0m\u001b[0;34m(\u001b[0m\u001b[0;34m)\u001b[0m\u001b[0;34m\u001b[0m\u001b[0;34m\u001b[0m\u001b[0m\n",
      "\u001b[0;32m/opt/conda/lib/python3.8/site-packages/tweepy/binder.py\u001b[0m in \u001b[0;36mexecute\u001b[0;34m(self)\u001b[0m\n\u001b[1;32m    232\u001b[0m                     \u001b[0;32mraise\u001b[0m \u001b[0mRateLimitError\u001b[0m\u001b[0;34m(\u001b[0m\u001b[0merror_msg\u001b[0m\u001b[0;34m,\u001b[0m \u001b[0mresp\u001b[0m\u001b[0;34m)\u001b[0m\u001b[0;34m\u001b[0m\u001b[0;34m\u001b[0m\u001b[0m\n\u001b[1;32m    233\u001b[0m                 \u001b[0;32melse\u001b[0m\u001b[0;34m:\u001b[0m\u001b[0;34m\u001b[0m\u001b[0;34m\u001b[0m\u001b[0m\n\u001b[0;32m--> 234\u001b[0;31m                     \u001b[0;32mraise\u001b[0m \u001b[0mTweepError\u001b[0m\u001b[0;34m(\u001b[0m\u001b[0merror_msg\u001b[0m\u001b[0;34m,\u001b[0m \u001b[0mresp\u001b[0m\u001b[0;34m,\u001b[0m \u001b[0mapi_code\u001b[0m\u001b[0;34m=\u001b[0m\u001b[0mapi_error_code\u001b[0m\u001b[0;34m)\u001b[0m\u001b[0;34m\u001b[0m\u001b[0;34m\u001b[0m\u001b[0m\n\u001b[0m\u001b[1;32m    235\u001b[0m \u001b[0;34m\u001b[0m\u001b[0m\n\u001b[1;32m    236\u001b[0m             \u001b[0;31m# Parse the response payload\u001b[0m\u001b[0;34m\u001b[0m\u001b[0;34m\u001b[0m\u001b[0;34m\u001b[0m\u001b[0m\n",
      "\u001b[0;31mTweepError\u001b[0m: Read-only application cannot POST."
     ]
    }
   ],
   "source": [
    "extractor.update_status(\"Latihan analitika media sosial dua\")"
   ]
  },
  {
   "cell_type": "markdown",
   "metadata": {},
   "source": [
    "Login in your app: http://dev.twitter.com/apps\n",
    "- In the Settings tab, change the Application type to Read, Write and Access direct messages\n",
    "- In the Reset keys tab, press the Reset button, update the consumer key and secret in your application accordingly.\n",
    "It looks like that resetting the keys force the change to your application type to take effect."
   ]
  },
  {
   "cell_type": "markdown",
   "metadata": {},
   "source": [
    "# ambil tweets dari username"
   ]
  },
  {
   "cell_type": "code",
   "execution_count": 5,
   "metadata": {},
   "outputs": [
    {
     "name": "stdout",
     "output_type": "stream",
     "text": [
      "Tweets terambil: 199.\n",
      "\n"
     ]
    }
   ],
   "source": [
    "tweets = extractor.user_timeline(screen_name=\"pandji\", count=200)\n",
    "print(\"Tweets terambil: {}.\\n\".format(len(tweets)))"
   ]
  },
  {
   "cell_type": "code",
   "execution_count": 6,
   "metadata": {},
   "outputs": [
    {
     "data": {
      "text/html": [
       "<div>\n",
       "<style scoped>\n",
       "    .dataframe tbody tr th:only-of-type {\n",
       "        vertical-align: middle;\n",
       "    }\n",
       "\n",
       "    .dataframe tbody tr th {\n",
       "        vertical-align: top;\n",
       "    }\n",
       "\n",
       "    .dataframe thead th {\n",
       "        text-align: right;\n",
       "    }\n",
       "</style>\n",
       "<table border=\"1\" class=\"dataframe\">\n",
       "  <thead>\n",
       "    <tr style=\"text-align: right;\">\n",
       "      <th></th>\n",
       "      <th>Tweets</th>\n",
       "    </tr>\n",
       "  </thead>\n",
       "  <tbody>\n",
       "    <tr>\n",
       "      <th>0</th>\n",
       "      <td>Kali ini @musdalifahbasri mampir ke podcast @p...</td>\n",
       "    </tr>\n",
       "    <tr>\n",
       "      <th>1</th>\n",
       "      <td>RT @aldridge_12: https://t.co/q69S0VhdFf</td>\n",
       "    </tr>\n",
       "    <tr>\n",
       "      <th>2</th>\n",
       "      <td>Stand.\\nMic.\\nLaugh.\\n\\nSikat kaosnya dgn klik...</td>\n",
       "    </tr>\n",
       "    <tr>\n",
       "      <th>3</th>\n",
       "      <td>Sedih https://t.co/zGm5cygYKQ</td>\n",
       "    </tr>\n",
       "    <tr>\n",
       "      <th>4</th>\n",
       "      <td>@anangegaz19 Itu foto gue baru2 ini kok</td>\n",
       "    </tr>\n",
       "    <tr>\n",
       "      <th>5</th>\n",
       "      <td>Myself https://t.co/hy6RwUELzR https://t.co/lO...</td>\n",
       "    </tr>\n",
       "    <tr>\n",
       "      <th>6</th>\n",
       "      <td>Happy Bday @Arie_Kriting . Ingatlah selalu aku...</td>\n",
       "    </tr>\n",
       "    <tr>\n",
       "      <th>7</th>\n",
       "      <td>RT @barstoolsports: Australian Comedian Lewis ...</td>\n",
       "    </tr>\n",
       "    <tr>\n",
       "      <th>8</th>\n",
       "      <td>Becandaan anda sudah tertebak -&amp;gt; https://t....</td>\n",
       "    </tr>\n",
       "    <tr>\n",
       "      <th>9</th>\n",
       "      <td>Ramadhan hari pertama.... LETS GOOOOO! https:/...</td>\n",
       "    </tr>\n",
       "  </tbody>\n",
       "</table>\n",
       "</div>"
      ],
      "text/plain": [
       "                                              Tweets\n",
       "0  Kali ini @musdalifahbasri mampir ke podcast @p...\n",
       "1           RT @aldridge_12: https://t.co/q69S0VhdFf\n",
       "2  Stand.\\nMic.\\nLaugh.\\n\\nSikat kaosnya dgn klik...\n",
       "3                      Sedih https://t.co/zGm5cygYKQ\n",
       "4            @anangegaz19 Itu foto gue baru2 ini kok\n",
       "5  Myself https://t.co/hy6RwUELzR https://t.co/lO...\n",
       "6  Happy Bday @Arie_Kriting . Ingatlah selalu aku...\n",
       "7  RT @barstoolsports: Australian Comedian Lewis ...\n",
       "8  Becandaan anda sudah tertebak -&gt; https://t....\n",
       "9  Ramadhan hari pertama.... LETS GOOOOO! https:/..."
      ]
     },
     "metadata": {},
     "output_type": "display_data"
    }
   ],
   "source": [
    "# Kita dapat membuat kerangka data sebagai berikut:\n",
    "dataset_user = pd.DataFrame(data=[tweet.text for tweet in tweets], columns=['Tweets'])\n",
    "\n",
    "# Kami membuat tampilan kerangka data:\n",
    "display(dataset_user.head(10))"
   ]
  },
  {
   "cell_type": "markdown",
   "metadata": {},
   "source": [
    "# ambil tweets dari username dengan modul komplet"
   ]
  },
  {
   "cell_type": "code",
   "execution_count": 7,
   "metadata": {},
   "outputs": [],
   "source": [
    "tweets = []\n",
    "\n",
    "def username_tweets_to_csv(username,count):\n",
    "    try:      \n",
    "        # Creation of query method using parameters\n",
    "        tweets = tweepy.Cursor(extractor.user_timeline,id=username).items(count)\n",
    "\n",
    "        # Pulling information from tweets iterable object\n",
    "        tweets_list = [[tweet.created_at, tweet.id, tweet.text, tweet.source, tweet.favorite_count, tweet.retweet_count] for tweet in tweets]\n",
    "\n",
    "        # Creation of dataframe from tweets list\n",
    "        # Add or remove columns as you remove tweet information\n",
    "        tweets_df = pd.DataFrame(tweets_list,columns=['Datetime', 'Tweet Id', 'Text','Source','Likes', 'RT'])\n",
    "\n",
    "        # Converting dataframe to CSV \n",
    "        tweets_df.to_csv('{}-tweets.csv'.format(username), sep=',', index = False)\n",
    "\n",
    "    except BaseException as e:\n",
    "          print('failed on_status,',str(e))\n",
    "          time.sleep(3)"
   ]
  },
  {
   "cell_type": "code",
   "execution_count": 8,
   "metadata": {},
   "outputs": [],
   "source": [
    "# Input username to scrape tweets and name csv file\n",
    "# Max recent tweets pulls x amount of most recent tweets from that user\n",
    "username = 'KemenkesRI'\n",
    "count = 200\n",
    "\n",
    "# Calling function to turn username's past X amount of tweets into a CSV file\n",
    "username_tweets_to_csv(username, count)"
   ]
  },
  {
   "cell_type": "markdown",
   "metadata": {},
   "source": [
    "# ambil berdasarkan search"
   ]
  },
  {
   "cell_type": "code",
   "execution_count": 12,
   "metadata": {},
   "outputs": [
    {
     "name": "stdout",
     "output_type": "stream",
     "text": [
      "Tweets terambil: 15.\n",
      "\n"
     ]
    }
   ],
   "source": [
    "tweets = extractor.search(q=\"vaksin\", lang=\"id\", rpp=200)\n",
    "print(\"Tweets terambil: {}.\\n\".format(len(tweets)))"
   ]
  },
  {
   "cell_type": "code",
   "execution_count": 14,
   "metadata": {},
   "outputs": [
    {
     "data": {
      "text/html": [
       "<div>\n",
       "<style scoped>\n",
       "    .dataframe tbody tr th:only-of-type {\n",
       "        vertical-align: middle;\n",
       "    }\n",
       "\n",
       "    .dataframe tbody tr th {\n",
       "        vertical-align: top;\n",
       "    }\n",
       "\n",
       "    .dataframe thead th {\n",
       "        text-align: right;\n",
       "    }\n",
       "</style>\n",
       "<table border=\"1\" class=\"dataframe\">\n",
       "  <thead>\n",
       "    <tr style=\"text-align: right;\">\n",
       "      <th></th>\n",
       "      <th>Tweets</th>\n",
       "    </tr>\n",
       "  </thead>\n",
       "  <tbody>\n",
       "    <tr>\n",
       "      <th>0</th>\n",
       "      <td>RT @ans47: Kesian Malaysia\\n\\nDah lebih setahu...</td>\n",
       "    </tr>\n",
       "    <tr>\n",
       "      <th>1</th>\n",
       "      <td>Saksikan Vaksin Untuk Indonesia episode \"Tak L...</td>\n",
       "    </tr>\n",
       "    <tr>\n",
       "      <th>2</th>\n",
       "      <td>RT @ans47: Kesian Malaysia\\n\\nDah lebih setahu...</td>\n",
       "    </tr>\n",
       "    <tr>\n",
       "      <th>3</th>\n",
       "      <td>RT @ans47: Kesian Malaysia\\n\\nDah lebih setahu...</td>\n",
       "    </tr>\n",
       "    <tr>\n",
       "      <th>4</th>\n",
       "      <td>@e100ss Yg sdh sembuh dari covid-19 apa masih ...</td>\n",
       "    </tr>\n",
       "    <tr>\n",
       "      <th>5</th>\n",
       "      <td>RT @DGHisham: Perkembangan terkini setakat 15h...</td>\n",
       "    </tr>\n",
       "    <tr>\n",
       "      <th>6</th>\n",
       "      <td>RT @ans47: Kesian Malaysia\\n\\nDah lebih setahu...</td>\n",
       "    </tr>\n",
       "    <tr>\n",
       "      <th>7</th>\n",
       "      <td>RT @ans47: Kesian Malaysia\\n\\nDah lebih setahu...</td>\n",
       "    </tr>\n",
       "    <tr>\n",
       "      <th>8</th>\n",
       "      <td>RT @ans47: Kesian Malaysia\\n\\nDah lebih setahu...</td>\n",
       "    </tr>\n",
       "    <tr>\n",
       "      <th>9</th>\n",
       "      <td>RT @__earth: Masalah Malaysia ialah kita tak l...</td>\n",
       "    </tr>\n",
       "    <tr>\n",
       "      <th>10</th>\n",
       "      <td>RT @tolakbigotnkri: Di luar pembahasan vaksin ...</td>\n",
       "    </tr>\n",
       "    <tr>\n",
       "      <th>11</th>\n",
       "      <td>RT @SyedAkramin: - Kes meningkat\\n- Bekalan va...</td>\n",
       "    </tr>\n",
       "    <tr>\n",
       "      <th>12</th>\n",
       "      <td>RT @sociotalker: Dusta Vaksin Nusantara sebaga...</td>\n",
       "    </tr>\n",
       "    <tr>\n",
       "      <th>13</th>\n",
       "      <td>RT @ans47: Kesian Malaysia\\n\\nDah lebih setahu...</td>\n",
       "    </tr>\n",
       "    <tr>\n",
       "      <th>14</th>\n",
       "      <td>RT @Beritasatu: Studi: Risiko Pembekuan Darah ...</td>\n",
       "    </tr>\n",
       "  </tbody>\n",
       "</table>\n",
       "</div>"
      ],
      "text/plain": [
       "                                               Tweets\n",
       "0   RT @ans47: Kesian Malaysia\\n\\nDah lebih setahu...\n",
       "1   Saksikan Vaksin Untuk Indonesia episode \"Tak L...\n",
       "2   RT @ans47: Kesian Malaysia\\n\\nDah lebih setahu...\n",
       "3   RT @ans47: Kesian Malaysia\\n\\nDah lebih setahu...\n",
       "4   @e100ss Yg sdh sembuh dari covid-19 apa masih ...\n",
       "5   RT @DGHisham: Perkembangan terkini setakat 15h...\n",
       "6   RT @ans47: Kesian Malaysia\\n\\nDah lebih setahu...\n",
       "7   RT @ans47: Kesian Malaysia\\n\\nDah lebih setahu...\n",
       "8   RT @ans47: Kesian Malaysia\\n\\nDah lebih setahu...\n",
       "9   RT @__earth: Masalah Malaysia ialah kita tak l...\n",
       "10  RT @tolakbigotnkri: Di luar pembahasan vaksin ...\n",
       "11  RT @SyedAkramin: - Kes meningkat\\n- Bekalan va...\n",
       "12  RT @sociotalker: Dusta Vaksin Nusantara sebaga...\n",
       "13  RT @ans47: Kesian Malaysia\\n\\nDah lebih setahu...\n",
       "14  RT @Beritasatu: Studi: Risiko Pembekuan Darah ..."
      ]
     },
     "metadata": {},
     "output_type": "display_data"
    }
   ],
   "source": [
    "dataset_search = pd.DataFrame(data=[tweet.text for tweet in tweets], columns=['Tweets'])\n",
    "\n",
    "# Kami membuat tampilan kerangka data:\n",
    "display(dataset_search.head(16))"
   ]
  },
  {
   "cell_type": "markdown",
   "metadata": {},
   "source": [
    "# ambil berdasarkan search dengan modul komplet"
   ]
  },
  {
   "cell_type": "code",
   "execution_count": 15,
   "metadata": {},
   "outputs": [],
   "source": [
    "tweets = []\n",
    "\n",
    "def text_query_to_csv(text_query,count):\n",
    "    try:\n",
    "        # Creation of query method using parameters\n",
    "        tweets = tweepy.Cursor(extractor.search,q=text_query).items(count)\n",
    "\n",
    "        # Pulling information from tweets iterable object\n",
    "        tweets_list = [[tweet.created_at, tweet.id, tweet.text, tweet.source, tweet.favorite_count, tweet.retweet_count] for tweet in tweets]\n",
    "\n",
    "        # Creation of dataframe from tweets list\n",
    "        # Add or remove columns as you remove tweet information\n",
    "        tweets_df = pd.DataFrame(tweets_list,columns=['Datetime', 'Tweet Id', 'Text','Source','Likes', 'RT'])\n",
    "\n",
    "        # Converting dataframe to CSV \n",
    "        tweets_df.to_csv('{}-tweets.csv'.format(text_query), sep=',', index = False)\n",
    "\n",
    "    except BaseException as e:\n",
    "        print('failed on_status,',str(e))\n",
    "        time.sleep(3)"
   ]
  },
  {
   "cell_type": "code",
   "execution_count": 16,
   "metadata": {},
   "outputs": [],
   "source": [
    "# Input search query to scrape tweets and name csv file\n",
    "# Max recent tweets pulls x amount of most recent tweets from that user\n",
    "text_query = 'vaksin'\n",
    "count = 1000\n",
    "\n",
    "# Calling function to query X amount of relevant tweets and create a CSV file\n",
    "text_query_to_csv(text_query, count)"
   ]
  },
  {
   "cell_type": "markdown",
   "metadata": {},
   "source": [
    "# dengan cara yang sama bisa kita lakukan pencarian hastags"
   ]
  },
  {
   "cell_type": "code",
   "execution_count": null,
   "metadata": {},
   "outputs": [],
   "source": [
    "# Input search query to scrape tweets and name csv file\n",
    "# Max recent tweets pulls x amount of most recent tweets from that user\n",
    "text_query = '#ariefmuhammadthechampion'\n",
    "count = 150\n",
    "\n",
    "# Calling function to query X amount of relevant tweets and create a CSV file\n",
    "text_query_to_csv(text_query, count)"
   ]
  },
  {
   "cell_type": "markdown",
   "metadata": {},
   "source": [
    "# pencarian trends"
   ]
  },
  {
   "cell_type": "code",
   "execution_count": null,
   "metadata": {},
   "outputs": [],
   "source": [
    "# woeid indonesia\n",
    "woeid = 23424846"
   ]
  },
  {
   "cell_type": "code",
   "execution_count": null,
   "metadata": {},
   "outputs": [],
   "source": [
    "trends_result = extractor.trends_place(woeid)"
   ]
  },
  {
   "cell_type": "code",
   "execution_count": null,
   "metadata": {},
   "outputs": [],
   "source": [
    "dataset_trends = pd.DataFrame(data=[trend[\"name\"] for trend in trends_result[0][\"trends\"]], columns=['trends'])\n",
    "\n",
    "# Kami membuat tampilan kerangka data:\n",
    "display(dataset_trends.head(10))"
   ]
  },
  {
   "cell_type": "markdown",
   "metadata": {},
   "source": [
    "# ambil berdasarkan search dengan modul komplet dan berdasar lokasi indonesia"
   ]
  },
  {
   "cell_type": "code",
   "execution_count": null,
   "metadata": {},
   "outputs": [],
   "source": [
    "tweets = []\n",
    "\n",
    "def text_query_location_to_csv(text_query,searchCountry, count):\n",
    "    try:\n",
    "        # Creation of query method using parameters\n",
    "        \n",
    "        places = extractor.geo_search(query=searchCountry, granularity=\"country\")\n",
    "        place_id = places[0].id\n",
    "        \n",
    "        \n",
    "        tweets = tweepy.Cursor(extractor.search,q='{} place:{}'.format(text_query, place_id)).items(count)\n",
    "\n",
    "        # Pulling information from tweets iterable object\n",
    "        tweets_list = [[tweet.created_at, tweet.id, tweet.place.name, tweet.text, tweet.source, tweet.favorite_count, tweet.retweet_count] for tweet in tweets]\n",
    "\n",
    "        # Creation of dataframe from tweets list\n",
    "        # Add or remove columns as you remove tweet information\n",
    "        tweets_df = pd.DataFrame(tweets_list,columns=['Datetime', 'Tweet Id', 'Lokasi', 'Text','Source','Likes', 'RT'])\n",
    "\n",
    "        # Converting dataframe to CSV \n",
    "        tweets_df.to_csv('{}-{}-tweets.csv'.format(text_query,searchCountry), sep=',', index = False)\n",
    "\n",
    "    except BaseException as e:\n",
    "        print('failed on_status,',str(e))\n",
    "        time.sleep(3)"
   ]
  },
  {
   "cell_type": "code",
   "execution_count": null,
   "metadata": {},
   "outputs": [],
   "source": [
    "# Input search query to scrape tweets and name csv file\n",
    "# Max recent tweets pulls x amount of most recent tweets from that user\n",
    "text_query = 'toyota'\n",
    "count = 150\n",
    "country= 'Indonesia'\n",
    "\n",
    "# Calling function to query X amount of relevant tweets and create a CSV file\n",
    "text_query_location_to_csv(text_query, country, count)"
   ]
  },
  {
   "cell_type": "markdown",
   "metadata": {},
   "source": [
    "# ambil berdasarkan search dengan modul komplet dan berdasar lokasi Kota\n",
    "\n",
    "- karena orang indonesia jarang menghidupkan lokasi untuk twitter, maka luaran tidak stabil (**no results**)"
   ]
  },
  {
   "cell_type": "code",
   "execution_count": null,
   "metadata": {},
   "outputs": [],
   "source": [
    "tweets = []\n",
    "\n",
    "def text_query_city_to_csv(text_query,searchCity, count):\n",
    "    try:\n",
    "        # Creation of query method using parameters\n",
    "        \n",
    "        places = extractor.geo_search(query=searchCity, granularity=\"city\")\n",
    "        place_id = places[0].id\n",
    "        \n",
    "        \n",
    "        tweets = tweepy.Cursor(extractor.search,q='{} place:{}'.format(text_query, place_id)).items(count)\n",
    "\n",
    "        # Pulling information from tweets iterable object\n",
    "        tweets_list = [[tweet.created_at, tweet.id, tweet.place.name, tweet.text, tweet.source, tweet.favorite_count, tweet.retweet_count] for tweet in tweets]\n",
    "\n",
    "        # Creation of dataframe from tweets list\n",
    "        # Add or remove columns as you remove tweet information\n",
    "        tweets_df = pd.DataFrame(tweets_list,columns=['Datetime', 'Tweet Id', 'Lokasi', 'Text','Source','Likes', 'RT'])\n",
    "\n",
    "        # Converting dataframe to CSV \n",
    "        tweets_df.to_csv('{}-{}-tweets.csv'.format(text_query,searchCity), sep=',', index = False)\n",
    "\n",
    "    except BaseException as e:\n",
    "        print('failed on_status,',str(e))\n",
    "        time.sleep(3)"
   ]
  },
  {
   "cell_type": "code",
   "execution_count": null,
   "metadata": {},
   "outputs": [],
   "source": [
    "# Input search query to scrape tweets and name csv file\n",
    "# Max recent tweets pulls x amount of most recent tweets from that user\n",
    "text_query = 'toyota'\n",
    "count = 150\n",
    "city= 'Jakarta'\n",
    "\n",
    "# Calling function to query X amount of relevant tweets and create a CSV file\n",
    "text_query_city_to_csv(text_query, city, count)"
   ]
  },
  {
   "cell_type": "code",
   "execution_count": null,
   "metadata": {},
   "outputs": [],
   "source": []
  }
 ],
 "metadata": {
  "kernelspec": {
   "display_name": "Python 3 (ipykernel)",
   "language": "python",
   "name": "python3"
  },
  "language_info": {
   "codemirror_mode": {
    "name": "ipython",
    "version": 3
   },
   "file_extension": ".py",
   "mimetype": "text/x-python",
   "name": "python",
   "nbconvert_exporter": "python",
   "pygments_lexer": "ipython3",
   "version": "3.9.5"
  }
 },
 "nbformat": 4,
 "nbformat_minor": 4
}
