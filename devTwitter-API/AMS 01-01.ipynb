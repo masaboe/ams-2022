{
 "cells": [
  {
   "cell_type": "markdown",
   "metadata": {},
   "source": [
    "Analitika Media Sosial Buku Praktek 01-01\n",
    "==============\n",
    "\n",
    "***Petunjuk Mengambil data dari Twitter: USER***\n",
    "\n",
    "**Author:** *Dr. Eng. Farrikh Alzami, M.Kom*\n",
    "\n",
    "Program Studi Sistem Informasi S1\n",
    "\n",
    "***Universitas Dian Nuswantoro 2021***\n",
    "\n",
    "---\n",
    "\n",
    "MATERI: **MENGAMBIL DATA DARI USER ID**\n",
    "\n",
    "---"
   ]
  },
  {
   "cell_type": "markdown",
   "metadata": {},
   "source": [
    "# Table of Contents\n",
    "- [load libraries](#load-libraries)\n",
    "- [buat akun](#Buat-akun-di-Twitter)\n",
    "- [login credentials](#Login-Credentials-twitter)\n",
    "- [ambil tweets dari username](#ambil-tweets-dari-username)\n",
    "- [memasukkan ke dataframe pandas](#memasukkan-ke-dataframe-pandas)\n",
    "- [cek internal tweet](#cek-internal-tweets)\n",
    "- [tambah informasi relevan](#tambahkan-informasi-relevan)\n",
    "- [visualisasi dan statistik](#Visualisasi-dan-statistik-dasar)\n",
    "- [simpan csv](#simpan-csv)"
   ]
  },
  {
   "cell_type": "markdown",
   "metadata": {},
   "source": [
    "# load libraries"
   ]
  },
  {
   "cell_type": "code",
   "execution_count": 1,
   "metadata": {},
   "outputs": [],
   "source": [
    "import pandas as pd\n",
    "import time\n",
    "import tweepy\n",
    "import numpy as np"
   ]
  },
  {
   "cell_type": "markdown",
   "metadata": {},
   "source": [
    "# Buat akun di Twitter\n",
    "- masuk ke https://developer.twitter.com/en/portal/dashboard\n",
    "\n",
    "![homepage](img/01.png)"
   ]
  },
  {
   "cell_type": "markdown",
   "metadata": {},
   "source": [
    "- buat Project 01: **CREATE PROJECT** > \n",
    "\n",
    "![create project](img/02.png)\n",
    "\n",
    "- silakan pilih: **student** atau **doing research** >  \n",
    "\n",
    "![create project](img/03.png)\n",
    "\n",
    "- describe **silakan tulis sendiri**\n",
    "\n",
    "![create project](img/04.png)\n",
    "\n",
    "- Buat Project App > nama phase\n",
    "\n",
    "![create project](img/05.png)"
   ]
  },
  {
   "cell_type": "markdown",
   "metadata": {},
   "source": [
    "- **LANGSUNG MASUK KE GO TO DASHBOARD SAJA**\n",
    "\n",
    "![create project](img/06.png)"
   ]
  },
  {
   "cell_type": "markdown",
   "metadata": {},
   "source": [
    "- aplikasi sudah siap\n",
    "\n",
    "![create project](img/07.png)"
   ]
  },
  {
   "cell_type": "markdown",
   "metadata": {},
   "source": [
    "# Login Credentials twitter"
   ]
  },
  {
   "cell_type": "markdown",
   "metadata": {},
   "source": [
    "## cek login\n",
    "\n",
    "BUKA TOMBOL KUNCI\n",
    "\n",
    "![create project](img/08.png)\n",
    "\n",
    "masuk ke **keys and tokens** > Consumer Keys > API Key and Secret, lalu masukkan\n",
    "\n",
    "`auth = tweepy.OAuthHandler(\"API KEY\", \"API KEY SECRET\")`\n",
    "\n",
    "masuk ke **keys and tokens** > Authentication Tokens > Access token & secret, lalu masukkan\n",
    "\n",
    "`auth.set_access_token(\"ACCESS TOKEN\", \n",
    "    \"ACCESS TOKEN SECRET\")`"
   ]
  },
  {
   "cell_type": "markdown",
   "metadata": {},
   "source": [
    "![Developer Twitter](img/dev_twitter.png)"
   ]
  },
  {
   "cell_type": "code",
   "execution_count": 2,
   "metadata": {},
   "outputs": [],
   "source": [
    "def twitter_config():\n",
    "    \"\"\"\n",
    "    Fungsi utilitas untuk mengkonfigurasi konsumsi file API Twitter dengan␣\n",
    "    ,!kunci yang disediakan.\n",
    "    \"\"\"\n",
    "    # Otentikasi dan akses menggunakan kunci:\n",
    "    auth = tweepy.OAuthHandler(\"6VBNexMOH2tClDFMLxPtEF4BC\",\n",
    "    \"dGebFuLhVhZNxwXz4nACb0L4WNhTdjYqDJU4wfkwTPgCfovjVL\")\n",
    "    auth.set_access_token(\"153745937-RopdwO7IoWsT0LNnwzCafAdLvXMPiswCY8brbsua\",\n",
    "    \"kZ5U8WJmSLL2EtoskMxWgFOWuGnXf9IL8ZGPZ8MiBoUlm\")\n",
    "    # Kembalikan akses ke API:\n",
    "    api = tweepy.API(auth)\n",
    "    try:\n",
    "        api.verify_credentials()\n",
    "        print(\"Authentication OK\")\n",
    "    except:\n",
    "        print(\"Error during authentication\")\n",
    "    return api"
   ]
  },
  {
   "cell_type": "code",
   "execution_count": 3,
   "metadata": {},
   "outputs": [
    {
     "name": "stdout",
     "output_type": "stream",
     "text": [
      "Authentication OK\n"
     ]
    }
   ],
   "source": [
    "# buat extractor object\n",
    "extractor = twitter_config()"
   ]
  },
  {
   "cell_type": "markdown",
   "metadata": {},
   "source": [
    "# ambil tweets dari username"
   ]
  },
  {
   "cell_type": "code",
   "execution_count": 6,
   "metadata": {},
   "outputs": [
    {
     "name": "stdout",
     "output_type": "stream",
     "text": [
      "Tweets terambil: 200.\n",
      "\n",
      "5 tweet teratas:\n",
      "\n",
      "Update perkembangan vaksinasi COVID-19 di Indonesia, per tanggal 16 April 2021 pukul 09.00 WIB.\n",
      "\n",
      "#VaksinasiNasional https://t.co/bWcnJVUov9\n",
      "\n",
      "Meski udah disuntik vaksin, selalu ingat untuk tetap disiplin menerapkan protokol kesehatan di mana pun &amp; kapan pun… https://t.co/Vjyw7Nl8ZX\n",
      "\n",
      "Jadi kamu masih bisa mengajak orang tua (lansia) ke sentra vaksinasi terdekat di kotamu untuk mendapatkan divaksina… https://t.co/A1eZS9Yka8\n",
      "\n",
      "Tahukah kamu❓\n",
      "\n",
      "Vaksinasi selama bulan puasa tetap berjalan seperti biasanya lho.\n",
      "Ini sesuai Fatwa MUI bahwa vaksina… https://t.co/120VDdJqwB\n",
      "\n",
      "Pagi #Healthies!\n",
      "\n",
      "Puasa bukan berarti absen olahraga lho. Simak yuk #SehatWicara “Latihan Fisik Selama Berpuasa\" be… https://t.co/rKuVoonWGy\n",
      "\n"
     ]
    }
   ],
   "source": [
    "\n",
    "tweets = extractor.user_timeline(screen_name=\"KemenkesRI\", count=1000)\n",
    "print(\"Tweets terambil: {}.\\n\".format(len(tweets)))\n",
    "\n",
    "\n",
    "print(\"5 tweet teratas:\\n\")\n",
    "for tweet in tweets[:5]:\n",
    "    print(tweet.text)\n",
    "    print()"
   ]
  },
  {
   "cell_type": "markdown",
   "metadata": {},
   "source": [
    "# memasukkan ke dataframe pandas"
   ]
  },
  {
   "cell_type": "code",
   "execution_count": 7,
   "metadata": {},
   "outputs": [
    {
     "data": {
      "text/html": [
       "<div>\n",
       "<style scoped>\n",
       "    .dataframe tbody tr th:only-of-type {\n",
       "        vertical-align: middle;\n",
       "    }\n",
       "\n",
       "    .dataframe tbody tr th {\n",
       "        vertical-align: top;\n",
       "    }\n",
       "\n",
       "    .dataframe thead th {\n",
       "        text-align: right;\n",
       "    }\n",
       "</style>\n",
       "<table border=\"1\" class=\"dataframe\">\n",
       "  <thead>\n",
       "    <tr style=\"text-align: right;\">\n",
       "      <th></th>\n",
       "      <th>Tweets</th>\n",
       "    </tr>\n",
       "  </thead>\n",
       "  <tbody>\n",
       "    <tr>\n",
       "      <th>0</th>\n",
       "      <td>Update perkembangan vaksinasi COVID-19 di Indo...</td>\n",
       "    </tr>\n",
       "    <tr>\n",
       "      <th>1</th>\n",
       "      <td>Meski udah disuntik vaksin, selalu ingat untuk...</td>\n",
       "    </tr>\n",
       "    <tr>\n",
       "      <th>2</th>\n",
       "      <td>Jadi kamu masih bisa mengajak orang tua (lansi...</td>\n",
       "    </tr>\n",
       "    <tr>\n",
       "      <th>3</th>\n",
       "      <td>Tahukah kamu❓\\n\\nVaksinasi selama bulan puasa ...</td>\n",
       "    </tr>\n",
       "    <tr>\n",
       "      <th>4</th>\n",
       "      <td>Pagi #Healthies!\\n\\nPuasa bukan berarti absen ...</td>\n",
       "    </tr>\n",
       "    <tr>\n",
       "      <th>5</th>\n",
       "      <td>3. Menggunakan 3 metode pemeriksaan yakni RT-P...</td>\n",
       "    </tr>\n",
       "    <tr>\n",
       "      <th>6</th>\n",
       "      <td>2. Dengan demikian, terjadi penambahan kasus p...</td>\n",
       "    </tr>\n",
       "    <tr>\n",
       "      <th>7</th>\n",
       "      <td>1. Akumulasi kasus terkonfirmasi positif #COVI...</td>\n",
       "    </tr>\n",
       "    <tr>\n",
       "      <th>8</th>\n",
       "      <td>Update situasi terkini perkembangan #COVID19 d...</td>\n",
       "    </tr>\n",
       "    <tr>\n",
       "      <th>9</th>\n",
       "      <td>Update perkembangan vaksinasi COVID-19 di Indo...</td>\n",
       "    </tr>\n",
       "  </tbody>\n",
       "</table>\n",
       "</div>"
      ],
      "text/plain": [
       "                                              Tweets\n",
       "0  Update perkembangan vaksinasi COVID-19 di Indo...\n",
       "1  Meski udah disuntik vaksin, selalu ingat untuk...\n",
       "2  Jadi kamu masih bisa mengajak orang tua (lansi...\n",
       "3  Tahukah kamu❓\\n\\nVaksinasi selama bulan puasa ...\n",
       "4  Pagi #Healthies!\\n\\nPuasa bukan berarti absen ...\n",
       "5  3. Menggunakan 3 metode pemeriksaan yakni RT-P...\n",
       "6  2. Dengan demikian, terjadi penambahan kasus p...\n",
       "7  1. Akumulasi kasus terkonfirmasi positif #COVI...\n",
       "8  Update situasi terkini perkembangan #COVID19 d...\n",
       "9  Update perkembangan vaksinasi COVID-19 di Indo..."
      ]
     },
     "metadata": {},
     "output_type": "display_data"
    }
   ],
   "source": [
    "# Kita dapat membuat kerangka data sebagai berikut:\n",
    "dataset = pd.DataFrame(data=[tweet.text for tweet in tweets], columns=['Tweets'])\n",
    "\n",
    "# Kami membuat tampilan kerangka data:\n",
    "display(dataset.head(10))"
   ]
  },
  {
   "cell_type": "markdown",
   "metadata": {},
   "source": [
    "# cek internal tweets"
   ]
  },
  {
   "cell_type": "markdown",
   "metadata": {},
   "source": [
    "Sesuatu yang menarik adalah jumlah metode internal yang dimiliki struktur tweet di Tweepy:"
   ]
  },
  {
   "cell_type": "code",
   "execution_count": 8,
   "metadata": {},
   "outputs": [
    {
     "name": "stdout",
     "output_type": "stream",
     "text": [
      "['__class__', '__delattr__', '__dict__', '__dir__', '__doc__', '__eq__', '__format__', '__ge__', '__getattribute__', '__getstate__', '__gt__', '__hash__', '__init__', '__init_subclass__', '__le__', '__lt__', '__module__', '__ne__', '__new__', '__reduce__', '__reduce_ex__', '__repr__', '__setattr__', '__sizeof__', '__str__', '__subclasshook__', '__weakref__', '_api', '_json', 'author', 'contributors', 'coordinates', 'created_at', 'destroy', 'entities', 'extended_entities', 'favorite', 'favorite_count', 'favorited', 'geo', 'id', 'id_str', 'in_reply_to_screen_name', 'in_reply_to_status_id', 'in_reply_to_status_id_str', 'in_reply_to_user_id', 'in_reply_to_user_id_str', 'is_quote_status', 'lang', 'parse', 'parse_list', 'place', 'possibly_sensitive', 'retweet', 'retweet_count', 'retweeted', 'retweets', 'source', 'source_url', 'text', 'truncated', 'user']\n"
     ]
    }
   ],
   "source": [
    "print(dir(tweets[0]))"
   ]
  },
  {
   "cell_type": "markdown",
   "metadata": {},
   "source": [
    "Dari sini menarik bahwa, jika kita ingin mendapatkan data seperti tanggal pembuatan tweet atau perangkat yang membuatnya, kita dapat mengakses informasi ini dengan metode yang muncul di daftar ini. Contohnya adalah sebagai berikut:"
   ]
  },
  {
   "cell_type": "code",
   "execution_count": 9,
   "metadata": {},
   "outputs": [
    {
     "name": "stdout",
     "output_type": "stream",
     "text": [
      "1382899793786142722\n",
      "2021-04-16 03:32:58\n",
      "Twitter for iPhone\n",
      "13\n",
      "5\n",
      "None\n",
      "None\n",
      "{'hashtags': [{'text': 'VaksinasiNasional', 'indices': [97, 115]}], 'symbols': [], 'user_mentions': [], 'urls': [], 'media': [{'id': 1382899784487342087, 'id_str': '1382899784487342087', 'indices': [116, 139], 'media_url': 'http://pbs.twimg.com/media/EzEMBu5VEAc54df.jpg', 'media_url_https': 'https://pbs.twimg.com/media/EzEMBu5VEAc54df.jpg', 'url': 'https://t.co/bWcnJVUov9', 'display_url': 'pic.twitter.com/bWcnJVUov9', 'expanded_url': 'https://twitter.com/KemenkesRI/status/1382899793786142722/photo/1', 'type': 'photo', 'sizes': {'thumb': {'w': 150, 'h': 150, 'resize': 'crop'}, 'medium': {'w': 675, 'h': 1200, 'resize': 'fit'}, 'small': {'w': 383, 'h': 680, 'resize': 'fit'}, 'large': {'w': 720, 'h': 1280, 'resize': 'fit'}}}]}\n"
     ]
    }
   ],
   "source": [
    "print(tweets[0].id)\n",
    "print(tweets[0].created_at)\n",
    "print(tweets[0].source)\n",
    "print(tweets[0].favorite_count)\n",
    "print(tweets[0].retweet_count)\n",
    "print(tweets[0].geo)\n",
    "print(tweets[0].coordinates)\n",
    "print(tweets[0].entities)"
   ]
  },
  {
   "cell_type": "markdown",
   "metadata": {},
   "source": [
    "# tambahkan informasi relevan"
   ]
  },
  {
   "cell_type": "markdown",
   "metadata": {},
   "source": [
    "Kami menambahkan informasi yang relevan"
   ]
  },
  {
   "cell_type": "code",
   "execution_count": 10,
   "metadata": {},
   "outputs": [],
   "source": [
    "dataset['len'] = np.array([len(tweet.text) for tweet in tweets])\n",
    "dataset['ID']  = np.array([tweet.id for tweet in tweets])\n",
    "dataset['Created'] = np.array([tweet.created_at for tweet in tweets])\n",
    "dataset['Source'] = np.array([tweet.source for tweet in tweets])\n",
    "dataset['Likes']  = np.array([tweet.favorite_count for tweet in tweets])\n",
    "dataset['RTs']    = np.array([tweet.retweet_count for tweet in tweets])"
   ]
  },
  {
   "cell_type": "code",
   "execution_count": 11,
   "metadata": {},
   "outputs": [
    {
     "data": {
      "text/html": [
       "<div>\n",
       "<style scoped>\n",
       "    .dataframe tbody tr th:only-of-type {\n",
       "        vertical-align: middle;\n",
       "    }\n",
       "\n",
       "    .dataframe tbody tr th {\n",
       "        vertical-align: top;\n",
       "    }\n",
       "\n",
       "    .dataframe thead th {\n",
       "        text-align: right;\n",
       "    }\n",
       "</style>\n",
       "<table border=\"1\" class=\"dataframe\">\n",
       "  <thead>\n",
       "    <tr style=\"text-align: right;\">\n",
       "      <th></th>\n",
       "      <th>Tweets</th>\n",
       "      <th>len</th>\n",
       "      <th>ID</th>\n",
       "      <th>Created</th>\n",
       "      <th>Source</th>\n",
       "      <th>Likes</th>\n",
       "      <th>RTs</th>\n",
       "    </tr>\n",
       "  </thead>\n",
       "  <tbody>\n",
       "    <tr>\n",
       "      <th>0</th>\n",
       "      <td>Update perkembangan vaksinasi COVID-19 di Indo...</td>\n",
       "      <td>139</td>\n",
       "      <td>1382899793786142722</td>\n",
       "      <td>2021-04-16 03:32:58</td>\n",
       "      <td>Twitter for iPhone</td>\n",
       "      <td>13</td>\n",
       "      <td>5</td>\n",
       "    </tr>\n",
       "    <tr>\n",
       "      <th>1</th>\n",
       "      <td>Meski udah disuntik vaksin, selalu ingat untuk...</td>\n",
       "      <td>144</td>\n",
       "      <td>1382888474710188033</td>\n",
       "      <td>2021-04-16 02:47:59</td>\n",
       "      <td>Twitter for iPhone</td>\n",
       "      <td>2</td>\n",
       "      <td>0</td>\n",
       "    </tr>\n",
       "    <tr>\n",
       "      <th>2</th>\n",
       "      <td>Jadi kamu masih bisa mengajak orang tua (lansi...</td>\n",
       "      <td>140</td>\n",
       "      <td>1382887876023619586</td>\n",
       "      <td>2021-04-16 02:45:37</td>\n",
       "      <td>Twitter for iPhone</td>\n",
       "      <td>4</td>\n",
       "      <td>0</td>\n",
       "    </tr>\n",
       "    <tr>\n",
       "      <th>3</th>\n",
       "      <td>Tahukah kamu❓\\n\\nVaksinasi selama bulan puasa ...</td>\n",
       "      <td>140</td>\n",
       "      <td>1382887530274516997</td>\n",
       "      <td>2021-04-16 02:44:14</td>\n",
       "      <td>Twitter for iPhone</td>\n",
       "      <td>23</td>\n",
       "      <td>3</td>\n",
       "    </tr>\n",
       "    <tr>\n",
       "      <th>4</th>\n",
       "      <td>Pagi #Healthies!\\n\\nPuasa bukan berarti absen ...</td>\n",
       "      <td>140</td>\n",
       "      <td>1382862356854689795</td>\n",
       "      <td>2021-04-16 01:04:12</td>\n",
       "      <td>Twitter for iPhone</td>\n",
       "      <td>9</td>\n",
       "      <td>2</td>\n",
       "    </tr>\n",
       "  </tbody>\n",
       "</table>\n",
       "</div>"
      ],
      "text/plain": [
       "                                              Tweets  len  \\\n",
       "0  Update perkembangan vaksinasi COVID-19 di Indo...  139   \n",
       "1  Meski udah disuntik vaksin, selalu ingat untuk...  144   \n",
       "2  Jadi kamu masih bisa mengajak orang tua (lansi...  140   \n",
       "3  Tahukah kamu❓\\n\\nVaksinasi selama bulan puasa ...  140   \n",
       "4  Pagi #Healthies!\\n\\nPuasa bukan berarti absen ...  140   \n",
       "\n",
       "                    ID             Created              Source  Likes  RTs  \n",
       "0  1382899793786142722 2021-04-16 03:32:58  Twitter for iPhone     13    5  \n",
       "1  1382888474710188033 2021-04-16 02:47:59  Twitter for iPhone      2    0  \n",
       "2  1382887876023619586 2021-04-16 02:45:37  Twitter for iPhone      4    0  \n",
       "3  1382887530274516997 2021-04-16 02:44:14  Twitter for iPhone     23    3  \n",
       "4  1382862356854689795 2021-04-16 01:04:12  Twitter for iPhone      9    2  "
      ]
     },
     "execution_count": 11,
     "metadata": {},
     "output_type": "execute_result"
    }
   ],
   "source": [
    "dataset.head()"
   ]
  },
  {
   "cell_type": "markdown",
   "metadata": {},
   "source": [
    "# Visualisasi dan statistik dasar\n",
    "## Rata-rata dan popularitas\n",
    "Pertama, kami tertarik untuk mengetahui statistik dasar tentang informasi yang kami ekstrak, seperti rata-rata panjang setiap tweet, yang merupakan tweet dengan paling favorit, mana yang paling banyak di-retweet tweet, dll."
   ]
  },
  {
   "cell_type": "code",
   "execution_count": 12,
   "metadata": {},
   "outputs": [
    {
     "name": "stdout",
     "output_type": "stream",
     "text": [
      "Jumlah rata-rata karakter di tweet: 137.37\n"
     ]
    }
   ],
   "source": [
    "# extract rata-rata:\n",
    "media = np.mean(dataset['len'])\n",
    "\n",
    "print(\"Jumlah rata-rata karakter di tweet: {}\".format(media))"
   ]
  },
  {
   "cell_type": "code",
   "execution_count": 13,
   "metadata": {},
   "outputs": [
    {
     "name": "stdout",
     "output_type": "stream",
     "text": [
      "Tweet yang paling banyak disukai adalah: \n",
      "Selama bulan Ramadhan, @KemenkesRI tetap akan menjalankan vaksinasi COVID-19. Ini sejalan dengan Fatwa MUI bahwa va… https://t.co/olJC14oODx\n",
      "Jumlah suka: 156\n",
      "140 Characters.\n",
      "\n"
     ]
    }
   ],
   "source": [
    "# Kami mengekstrak tweet dengan FAV paling banyak dan dengan RT terbanyak:\n",
    "\n",
    "fav_max = np.max(dataset['Likes'])\n",
    "rt_max  = np.max(dataset['RTs'])\n",
    "\n",
    "fav = dataset[dataset.Likes == fav_max].index[0]\n",
    "rt  = dataset[dataset.RTs == rt_max].index[0]\n",
    "\n",
    "# Max FAVs:\n",
    "print(\"Tweet yang paling banyak disukai adalah: \\n{}\".format(dataset['Tweets'][fav]))\n",
    "print(\"Jumlah suka: {}\".format(fav_max))\n",
    "print(\"{} Characters.\\n\".format(dataset['len'][fav]))\n"
   ]
  },
  {
   "cell_type": "code",
   "execution_count": 14,
   "metadata": {},
   "outputs": [
    {
     "name": "stdout",
     "output_type": "stream",
     "text": [
      "Tweet dengan retweet terbanyak adalah: \n",
      "RT @BudiGSadikin: @AikHoki @prastow @BPKPgoid @bpkri @pramonoanung @TarunaIkrar @PBIDI @jokowi Insya Allah insentif nakes akan mulai dibaya…\n",
      "Jumlah retweet: 196\n",
      "140 Characters.\n",
      "\n"
     ]
    }
   ],
   "source": [
    "# Max RTs:\n",
    "print(\"Tweet dengan retweet terbanyak adalah: \\n{}\".format(dataset['Tweets'][rt]))\n",
    "print(\"Jumlah retweet: {}\".format(rt_max))\n",
    "print(\"{} Characters.\\n\".format(dataset['len'][rt]))"
   ]
  },
  {
   "cell_type": "markdown",
   "metadata": {},
   "source": [
    "# Deret waktu\n",
    "\n",
    "Karena kita memiliki seluruh vektor tanggal pembuatan, kita dapat membuat deret waktu sehubungan dengan panjang tweet, favorit, dan retweet."
   ]
  },
  {
   "cell_type": "code",
   "execution_count": 15,
   "metadata": {},
   "outputs": [],
   "source": [
    "tlen = pd.Series(data=dataset['len'].values, index=dataset['Created'])\n",
    "tfav = pd.Series(data=dataset['Likes'].values, index=dataset['Created'])\n",
    "tret = pd.Series(data=dataset['RTs'].values, index=dataset['Created'])"
   ]
  },
  {
   "cell_type": "code",
   "execution_count": 16,
   "metadata": {},
   "outputs": [
    {
     "data": {
      "image/png": "[encoded data removed]",
      "text/plain": [
       "<Figure size 1152x288 with 1 Axes>"
      ]
     },
     "metadata": {
      "needs_background": "light"
     },
     "output_type": "display_data"
    }
   ],
   "source": [
    "tlen.plot(figsize=(16,4), color='r');"
   ]
  },
  {
   "cell_type": "code",
   "execution_count": 17,
   "metadata": {},
   "outputs": [
    {
     "data": {
      "image/png": "[encoded data removed]",
      "text/plain": [
       "<Figure size 1152x288 with 1 Axes>"
      ]
     },
     "metadata": {
      "needs_background": "light"
     },
     "output_type": "display_data"
    }
   ],
   "source": [
    "tfav.plot(figsize=(16,4), label=\"Likes\", legend=True)\n",
    "tret.plot(figsize=(16,4), label=\"Retweets\", legend=True);"
   ]
  },
  {
   "cell_type": "markdown",
   "metadata": {},
   "source": [
    "# Bagan pai perangkat\n",
    "Kami membersihkan sumber pembuatan tweet untuk membuat diagram lingkaran:"
   ]
  },
  {
   "cell_type": "code",
   "execution_count": 18,
   "metadata": {},
   "outputs": [
    {
     "name": "stdout",
     "output_type": "stream",
     "text": [
      "Sumber pembuatan konten:\n",
      "* Twitter for iPhone\n",
      "* Twitter Web App\n"
     ]
    }
   ],
   "source": [
    "sources = []\n",
    "for source in dataset['Source']:\n",
    "    if source not in sources:\n",
    "        sources.append(source)\n",
    "\n",
    "# pembuatan:\n",
    "print(\"Sumber pembuatan konten:\")\n",
    "for source in sources:\n",
    "    print(\"* {}\".format(source))"
   ]
  },
  {
   "cell_type": "markdown",
   "metadata": {},
   "source": [
    "## Kami menghitung perangkat dan membuat diagram lingkaran:"
   ]
  },
  {
   "cell_type": "code",
   "execution_count": 19,
   "metadata": {},
   "outputs": [
    {
     "data": {
      "image/png": "[encoded data removed]",
      "text/plain": [
       "<Figure size 432x432 with 1 Axes>"
      ]
     },
     "metadata": {},
     "output_type": "display_data"
    }
   ],
   "source": [
    "percent = np.zeros(len(sources))\n",
    "\n",
    "for source in dataset['Source']:\n",
    "    for index in range(len(sources)):\n",
    "        if source == sources[index]:\n",
    "            percent[index] += 1\n",
    "            pass\n",
    "\n",
    "percent /= 100\n",
    "\n",
    "# Pie chart:\n",
    "pie_chart = pd.Series(percent, index=sources, name='Sources')\n",
    "pie_chart.plot.pie(fontsize=11, autopct='%.2f', figsize=(6, 6));"
   ]
  },
  {
   "cell_type": "markdown",
   "metadata": {},
   "source": [
    "# simpan csv"
   ]
  },
  {
   "cell_type": "code",
   "execution_count": 20,
   "metadata": {},
   "outputs": [],
   "source": [
    "dataset.to_csv('dataset_user.csv',sep=';')"
   ]
  }
 ],
 "metadata": {
  "kernelspec": {
   "display_name": "Python 3 (ipykernel)",
   "language": "python",
   "name": "python3"
  },
  "language_info": {
   "codemirror_mode": {
    "name": "ipython",
    "version": 3
   },
   "file_extension": ".py",
   "mimetype": "text/x-python",
   "name": "python",
   "nbconvert_exporter": "python",
   "pygments_lexer": "ipython3",
   "version": "3.9.5"
  }
 },
 "nbformat": 4,
 "nbformat_minor": 4
}
