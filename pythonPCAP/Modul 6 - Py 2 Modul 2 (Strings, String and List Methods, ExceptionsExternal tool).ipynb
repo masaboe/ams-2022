{
 "cells": [
  {
   "cell_type": "markdown",
   "metadata": {},
   "source": [
    "# Python Module 6\n",
    "Strings, String and List Methods, ExceptionsExternal tool\n",
    "\n",
    "### In this module, you will learn about:\n",
    "\n",
    "- Characters, strings and coding standards;\n",
    "- Strings vs. lists – similarities and differences;\n",
    "- Lists methods;\n",
    "- String methods;\n",
    "- Python's way of handling runtime errors;\n",
    "- Controlling the flow of errors using try and except;\n",
    "- Hierarchy of exceptions."
   ]
  },
  {
   "cell_type": "markdown",
   "metadata": {},
   "source": [
    "# 6.1 Strings"
   ]
  },
  {
   "cell_type": "markdown",
   "metadata": {},
   "source": [
    "### How computers understand single characters\n",
    "Computers store characters as numbers\n",
    "\n",
    "Every character used by a computer corresponds to a unique number, and vice versa\n",
    "\n",
    "Some of these characters are called whitespaces, while others are named control characters, because their purpose is to control input/output devices.\n",
    "\n",
    "ASCII (short for American Standard Code for Information Interchange) is the most widely used, and you can assume that nearly all modern devices (like computers, printers, mobile phones, tablets, etc.) use that code. `The code provides space for 256 different characters`"
   ]
  },
  {
   "cell_type": "markdown",
   "metadata": {},
   "source": [
    "## I18N\n",
    "\n",
    "The software I18N is a standard in present times. Each program has to be written in a way that enables it to be used all around the world, among different cultures, languages and alphabets.\n",
    "\n",
    "### `Code points and code pages`\n",
    "\n",
    "A code point is a number which makes a character. For example, 32 is a code point which makes a space in ASCII encoding. We can say that standard ASCII code consists of 128 code points.\n",
    "\n",
    "A code page is a standard for using the upper 128 code points to store specific national characters. \n",
    "\n",
    "For example, the code point 200 makes Č (a letter used by some Slavic languages) when utilized by the ISO/IEC 8859-2 code page, and makes Ш (a Cyrillic letter) when used by the ISO/IEC 8859-5 code page."
   ]
  },
  {
   "cell_type": "markdown",
   "metadata": {},
   "source": [
    "## Unicode\n"
   ]
  },
  {
   "cell_type": "markdown",
   "metadata": {},
   "source": [
    "Code pages helped the computer industry to solve I18N issues for some time, but it soon turned out that they would not be a permanent solution.\n",
    "\n",
    "Unicode assigns unique (unambiguous) characters (letters, hyphens, ideograms, etc.) to more than a million code points. The first 128 Unicode code points are identical to ASCII, and the first 256 Unicode code points are identical to the ISO/IEC 8859-1 code page (a code page designed for western European languages)."
   ]
  },
  {
   "cell_type": "markdown",
   "metadata": {},
   "source": [
    "## UCS-4"
   ]
  },
  {
   "cell_type": "markdown",
   "metadata": {},
   "source": [
    "The Unicode standard says nothing about how to code and store the characters in the memory and files. It only names all available characters and assigns them to planes (a group of characters of similar origin, application, or nature).\n",
    "\n"
   ]
  },
  {
   "cell_type": "markdown",
   "metadata": {},
   "source": [
    "## UTF-8"
   ]
  },
  {
   "cell_type": "markdown",
   "metadata": {},
   "source": [
    "- One of the most commonly used is UTF-8.\n",
    "- The name is derived from Unicode Transformation Format.\n",
    "- The concept is very smart. UTF-8 uses as many bits for each of the code points as it really needs to represent them.\n",
    "\n",
    "#### Exercise 1\n",
    "`What is BOM?` : BOM (Byte Order Mark) is a special combination of bits announcing encoding used by a file's content (eg. UCS-4 or UTF-B).\n",
    "\n",
    "#### Exercise 2\n",
    "`Is Python 3 I18Ned?` : Yes, it's completely internationalized - we can use UNICODE characters inside our code, read them from input and send to output."
   ]
  },
  {
   "cell_type": "markdown",
   "metadata": {},
   "source": [
    "## The Nature of Strings in Python"
   ]
  },
  {
   "cell_type": "markdown",
   "metadata": {},
   "source": [
    "Python's strings are immutable sequences.\n",
    "\n",
    "The `len()` function used for strings returns a number of characters contained by the arguments."
   ]
  },
  {
   "cell_type": "code",
   "execution_count": 76,
   "metadata": {},
   "outputs": [
    {
     "name": "stdout",
     "output_type": "stream",
     "text": [
      "2\n",
      "0\n",
      "I'm\n",
      "3\n"
     ]
    }
   ],
   "source": [
    "# Example 1\n",
    "word = 'by'\n",
    "print(len(word))\n",
    "\n",
    "# Example 2\n",
    "empty = ''\n",
    "print(len(empty))\n",
    "\n",
    "# Example 3\n",
    "i_am = 'I\\'m'\n",
    "print(i_am)\n",
    "print(len(i_am))"
   ]
  },
  {
   "cell_type": "markdown",
   "metadata": {},
   "source": [
    "### `Multiline strings`\n",
    "\n",
    "The string starts with three apostrophes, not one. The same tripled apostrophe is used to terminate it."
   ]
  },
  {
   "cell_type": "code",
   "execution_count": 77,
   "metadata": {},
   "outputs": [
    {
     "name": "stdout",
     "output_type": "stream",
     "text": [
      "36\n"
     ]
    }
   ],
   "source": [
    "multiLine = '''Line #1  \n",
    "disini string\n",
    "lagi\n",
    "Line #2'''\n",
    "\n",
    "print(len(multiLine))\n",
    "\n",
    "# The missing character is simply invisible - it's a whitespace."
   ]
  },
  {
   "cell_type": "code",
   "execution_count": null,
   "metadata": {},
   "outputs": [],
   "source": [
    "multiLine = \"\"\"Line #1\n",
    "Line #2\"\"\"\n",
    "\n",
    "print(len(multiLine))"
   ]
  },
  {
   "cell_type": "code",
   "execution_count": null,
   "metadata": {},
   "outputs": [],
   "source": [
    "multiLine = 'Line #1\n",
    "Line #2'\n",
    "\n",
    "print(len(multiLine))"
   ]
  },
  {
   "cell_type": "markdown",
   "metadata": {},
   "source": [
    "### `Operations on strings`\n",
    "\n",
    "In general, strings can be:\n",
    "\n",
    "- concatenated (joined) (`+`)\n",
    "    The + operator used against two or more strings produces a new string containing all the characters from its arguments\n",
    "- replicated. (`*`)\n",
    "    The * operator needs a string and a number as arguments; in this case, the order doesn't matter - you can put the number before the string, or vice versa, the result will be the same\n",
    "\n"
   ]
  },
  {
   "cell_type": "code",
   "execution_count": 79,
   "metadata": {},
   "outputs": [
    {
     "name": "stdout",
     "output_type": "stream",
     "text": [
      "ab\n",
      "ba\n",
      "halo halo halo halo halo \n",
      "bbbb\n"
     ]
    }
   ],
   "source": [
    "str1 = 'a'\n",
    "str2 = 'b'\n",
    "\n",
    "print(str1 + str2)\n",
    "print(str2 + str1)\n",
    "print(5 * 'halo ')\n",
    "print('b' * 4)"
   ]
  },
  {
   "cell_type": "markdown",
   "metadata": {},
   "source": [
    "### `Operations on strings: ord()`"
   ]
  },
  {
   "cell_type": "markdown",
   "metadata": {},
   "source": [
    "If you want to know a specific character's ASCII/UNICODE code point value, you can use a function named ord() (as in ordinal)."
   ]
  },
  {
   "cell_type": "code",
   "execution_count": 4,
   "metadata": {},
   "outputs": [
    {
     "name": "stdout",
     "output_type": "stream",
     "text": [
      "97\n",
      "32\n"
     ]
    }
   ],
   "source": [
    "# Demonstrating the ord() function\n",
    "\n",
    "ch1 = 'a' \n",
    "ch2 = ' ' # space\n",
    "\n",
    "print(ord(ch1))\n",
    "print(ord(ch2))\n"
   ]
  },
  {
   "cell_type": "markdown",
   "metadata": {},
   "source": [
    "### `Operations on strings: chr()`"
   ]
  },
  {
   "cell_type": "markdown",
   "metadata": {},
   "source": [
    "The function takes a code point and returns its character."
   ]
  },
  {
   "cell_type": "code",
   "execution_count": 83,
   "metadata": {},
   "outputs": [
    {
     "name": "stdout",
     "output_type": "stream",
     "text": [
      "a\n",
      "α\n"
     ]
    }
   ],
   "source": [
    "# Demonstrating the chr() function\n",
    "\n",
    "print(chr(97))\n",
    "print(chr(945))"
   ]
  },
  {
   "cell_type": "code",
   "execution_count": 87,
   "metadata": {},
   "outputs": [
    {
     "data": {
      "text/plain": [
       "True"
      ]
     },
     "execution_count": 87,
     "metadata": {},
     "output_type": "execute_result"
    }
   ],
   "source": [
    "x = 'a'\n",
    "chr(ord(x)) == x\n",
    "x = 90\n",
    "ord(chr(x)) == x"
   ]
  },
  {
   "cell_type": "markdown",
   "metadata": {},
   "source": [
    "### `Strings as sequences: indexing`"
   ]
  },
  {
   "cell_type": "markdown",
   "metadata": {},
   "source": [
    "__Python's strings are sequences.__\n",
    "\n",
    "Strings aren't lists, but __you can treat them like lists in many particular cases__."
   ]
  },
  {
   "cell_type": "code",
   "execution_count": 68,
   "metadata": {},
   "outputs": [
    {
     "name": "stdout",
     "output_type": "stream",
     "text": [
      "CKRNG"
     ]
    }
   ],
   "source": [
    "# If you want to access any of a string's characters, you can do it using indexing,\n",
    "# Indexing strings\n",
    "\n",
    "exampleString = 'CIKARANG'\n",
    "vokal = ['a','i','u','e','o']\n",
    "for i in range(len(exampleString)):\n",
    "    if exampleString[i].lower() in vokal:\n",
    "        continue\n",
    "    print(exampleString[i], end=\"\")"
   ]
  },
  {
   "cell_type": "markdown",
   "metadata": {},
   "source": [
    "### `Strings as sequences: iterating`\n",
    "\n",
    "__Iterating through the strings works__, too."
   ]
  },
  {
   "cell_type": "code",
   "execution_count": 70,
   "metadata": {},
   "outputs": [
    {
     "name": "stdout",
     "output_type": "stream",
     "text": [
      "s*i*l*l*y* *w*a*l*k*s*\n"
     ]
    }
   ],
   "source": [
    "# Iterating through a string\n",
    "\n",
    "exampleString = 'silly walks'\n",
    "\n",
    "for ch in exampleString:\n",
    "    print(ch, end='*')\n",
    "\n",
    "print()"
   ]
  },
  {
   "cell_type": "markdown",
   "metadata": {},
   "source": [
    "### `Slices`"
   ]
  },
  {
   "cell_type": "code",
   "execution_count": 72,
   "metadata": {},
   "outputs": [
    {
     "name": "stdout",
     "output_type": "stream",
     "text": [
      "PTKCKRN\n",
      "TIK CIKARA\n"
     ]
    }
   ],
   "source": [
    "# Slices\n",
    "\n",
    "alpha = \"BPPTIK CIKARANG\"\n",
    "\n",
    "print(alpha[1::2])\n",
    "\n",
    "# print(alpha[1:3])\n",
    "# print(alpha[3:])\n",
    "# print(alpha[:3])\n",
    "print(alpha[3:-2])\n",
    "# print(alpha[-3:4])\n",
    "# print(alpha[::2])\n",
    "# print(alpha[1::2])"
   ]
  },
  {
   "cell_type": "markdown",
   "metadata": {},
   "source": [
    "### The `in` and `not in` operators\n",
    "\n",
    "The `in` operator checks if its left argument (a string) can be found anywhere within the right argument (another string).\n",
    "\n",
    "The result of the check is simply `True` or `False`"
   ]
  },
  {
   "cell_type": "code",
   "execution_count": 73,
   "metadata": {},
   "outputs": [
    {
     "name": "stdout",
     "output_type": "stream",
     "text": [
      "True\n",
      "False\n",
      "False\n",
      "True\n",
      "True\n"
     ]
    }
   ],
   "source": [
    "alphabet = 'abcdefghijklmnopqrstuvwxyz'\n",
    "\n",
    "print(\"f\" in alphabet)\n",
    "print(\"F\" in alphabet)\n",
    "print(\"1\" in alphabet)\n",
    "print(\"ghi\" in alphabet)\n",
    "print(\"Xyz\" in alphabet)"
   ]
  },
  {
   "cell_type": "code",
   "execution_count": 95,
   "metadata": {},
   "outputs": [
    {
     "name": "stdout",
     "output_type": "stream",
     "text": [
      "False\n",
      "True\n",
      "True\n",
      "False\n",
      "True\n"
     ]
    }
   ],
   "source": [
    "alphabet = \"abcdefghijklmnopqrstuvwxyz\"\n",
    "\n",
    "print(\"f\" not in alphabet)\n",
    "print(\"F\" not in alphabet)\n",
    "print(\"1\" not in alphabet)\n",
    "print(\"ghi\" not in alphabet)\n",
    "print(\"Xyz\" not in alphabet)"
   ]
  },
  {
   "cell_type": "markdown",
   "metadata": {},
   "source": [
    "### `Python strings are immutable`"
   ]
  },
  {
   "cell_type": "markdown",
   "metadata": {},
   "source": [
    "- It doesn't allow you to use the `del` instruction to remove anything from a string.\n",
    "- You can do with del and a string is to remove the string as a whole.\n",
    "- Python strings don't have the `append()` method\n",
    "- The `insert()` method is __illegal__, too"
   ]
  },
  {
   "cell_type": "code",
   "execution_count": 6,
   "metadata": {},
   "outputs": [
    {
     "ename": "TypeError",
     "evalue": "'str' object doesn't support item deletion",
     "output_type": "error",
     "traceback": [
      "\u001b[0;31m---------------------------------------------------------------------------\u001b[0m",
      "\u001b[0;31mTypeError\u001b[0m                                 Traceback (most recent call last)",
      "\u001b[0;32m<ipython-input-6-26eff29ae018>\u001b[0m in \u001b[0;36m<module>\u001b[0;34m\u001b[0m\n\u001b[1;32m      1\u001b[0m \u001b[0malphabet\u001b[0m \u001b[0;34m=\u001b[0m \u001b[0;34m\"abcdefghijklmnopqrstuvwxyz\"\u001b[0m\u001b[0;34m\u001b[0m\u001b[0;34m\u001b[0m\u001b[0m\n\u001b[1;32m      2\u001b[0m \u001b[0;34m\u001b[0m\u001b[0m\n\u001b[0;32m----> 3\u001b[0;31m \u001b[0;32mdel\u001b[0m \u001b[0malphabet\u001b[0m\u001b[0;34m[\u001b[0m\u001b[0;36m0\u001b[0m\u001b[0;34m]\u001b[0m\u001b[0;34m\u001b[0m\u001b[0;34m\u001b[0m\u001b[0m\n\u001b[0m",
      "\u001b[0;31mTypeError\u001b[0m: 'str' object doesn't support item deletion"
     ]
    }
   ],
   "source": [
    "alphabet = \"abcdefghijklmnopqrstuvwxyz\"\n",
    "\n",
    "del alphabet[0]"
   ]
  },
  {
   "cell_type": "code",
   "execution_count": 97,
   "metadata": {},
   "outputs": [
    {
     "ename": "AttributeError",
     "evalue": "'str' object has no attribute 'append'",
     "output_type": "error",
     "traceback": [
      "\u001b[1;31m---------------------------------------------------------------------------\u001b[0m",
      "\u001b[1;31mAttributeError\u001b[0m                            Traceback (most recent call last)",
      "\u001b[1;32m<ipython-input-97-469a28851c89>\u001b[0m in \u001b[0;36m<module>\u001b[1;34m\u001b[0m\n\u001b[0;32m      1\u001b[0m \u001b[0malphabet\u001b[0m \u001b[1;33m=\u001b[0m \u001b[1;34m\"abcdefghijklmnopqrstuvwxyz\"\u001b[0m\u001b[1;33m\u001b[0m\u001b[1;33m\u001b[0m\u001b[0m\n\u001b[0;32m      2\u001b[0m \u001b[1;33m\u001b[0m\u001b[0m\n\u001b[1;32m----> 3\u001b[1;33m \u001b[0malphabet\u001b[0m\u001b[1;33m.\u001b[0m\u001b[0mappend\u001b[0m\u001b[1;33m(\u001b[0m\u001b[1;34m\"A\"\u001b[0m\u001b[1;33m)\u001b[0m\u001b[1;33m\u001b[0m\u001b[1;33m\u001b[0m\u001b[0m\n\u001b[0m",
      "\u001b[1;31mAttributeError\u001b[0m: 'str' object has no attribute 'append'"
     ]
    }
   ],
   "source": [
    "alphabet = \"abcdefghijklmnopqrstuvwxyz\"\n",
    "\n",
    "alphabet.append(\"A\")"
   ]
  },
  {
   "cell_type": "code",
   "execution_count": 101,
   "metadata": {},
   "outputs": [
    {
     "ename": "AttributeError",
     "evalue": "'str' object has no attribute 'insert'",
     "output_type": "error",
     "traceback": [
      "\u001b[1;31m---------------------------------------------------------------------------\u001b[0m",
      "\u001b[1;31mAttributeError\u001b[0m                            Traceback (most recent call last)",
      "\u001b[1;32m<ipython-input-101-a1b3809f55f6>\u001b[0m in \u001b[0;36m<module>\u001b[1;34m\u001b[0m\n\u001b[0;32m      1\u001b[0m \u001b[0malphabet\u001b[0m \u001b[1;33m=\u001b[0m \u001b[1;34m\"abcdefghijklmnopqrstuvwxyz\"\u001b[0m\u001b[1;33m\u001b[0m\u001b[1;33m\u001b[0m\u001b[0m\n\u001b[0;32m      2\u001b[0m \u001b[1;33m\u001b[0m\u001b[0m\n\u001b[1;32m----> 3\u001b[1;33m \u001b[0malphabet\u001b[0m\u001b[1;33m.\u001b[0m\u001b[0minsert\u001b[0m\u001b[1;33m(\u001b[0m\u001b[1;36m0\u001b[0m\u001b[1;33m,\u001b[0m \u001b[1;34m\"A\"\u001b[0m\u001b[1;33m)\u001b[0m\u001b[1;33m\u001b[0m\u001b[1;33m\u001b[0m\u001b[0m\n\u001b[0m",
      "\u001b[1;31mAttributeError\u001b[0m: 'str' object has no attribute 'insert'"
     ]
    }
   ],
   "source": [
    "alphabet = \"abcdefghijklmnopqrstuvwxyz\"\n",
    "\n",
    "alphabet.insert(0, \"A\")"
   ]
  },
  {
   "cell_type": "markdown",
   "metadata": {},
   "source": [
    "### Operations on strings: `min()`\n",
    "\n",
    "The function finds the __minimum element__ of the sequence passed as an argument.\n",
    "\n",
    "There is one condition - the sequence (string, list, it doesn't matter) cannot be empty"
   ]
  },
  {
   "cell_type": "code",
   "execution_count": 102,
   "metadata": {},
   "outputs": [
    {
     "name": "stdout",
     "output_type": "stream",
     "text": [
      "A\n",
      "[ ]\n",
      "0\n"
     ]
    }
   ],
   "source": [
    "# Demonstrating min() - Example 1\n",
    "print(min(\"aAbByYzZ\"))\n",
    "\n",
    "\n",
    "# Demonstrating min() - Examples 2 & 3\n",
    "t = 'The Knights Who Say \"Ni!\"'\n",
    "print('[' + min(t) + ']')\n",
    "\n",
    "t = [0, 1, 2]\n",
    "print(min(t))"
   ]
  },
  {
   "cell_type": "markdown",
   "metadata": {},
   "source": [
    "### Operations on strings: `max()`"
   ]
  },
  {
   "cell_type": "markdown",
   "metadata": {},
   "source": [
    "A function named `max()` finds the maximum element of the sequence."
   ]
  },
  {
   "cell_type": "code",
   "execution_count": 103,
   "metadata": {},
   "outputs": [
    {
     "name": "stdout",
     "output_type": "stream",
     "text": [
      "z\n",
      "[y]\n",
      "2\n"
     ]
    }
   ],
   "source": [
    "# Demonstrating max() - Example 1\n",
    "print(max(\"aAbByYzZ\"))\n",
    "\n",
    "\n",
    "# Demonstrating max() - Examples 2 & 3\n",
    "t = 'The Knights Who Say \"Ni!\"'\n",
    "print('[' + max(t) + ']')\n",
    "\n",
    "t = [0, 1, 2]\n",
    "print(max(t))"
   ]
  },
  {
   "cell_type": "markdown",
   "metadata": {},
   "source": [
    "### Operations on strings: the `index()` method"
   ]
  },
  {
   "cell_type": "markdown",
   "metadata": {},
   "source": [
    "The `index()` method (it's a method, not a function) searches the sequence from the beginning, in order to find the first element of the value specified in its argument.\n",
    "\n",
    "The element searched for must occur in the sequence - its absence will cause a ValueError exception.\n",
    "\n",
    "The method returns the index of the first occurrence of the argument which means that the lowest possible result is 0, while the highest is the length of argument decremented by 1."
   ]
  },
  {
   "cell_type": "code",
   "execution_count": 106,
   "metadata": {},
   "outputs": [
    {
     "name": "stdout",
     "output_type": "stream",
     "text": [
      "2\n",
      "7\n",
      "1\n"
     ]
    }
   ],
   "source": [
    "# Demonstrating the index() method\n",
    "print(\"aAbByYzZaA\".index(\"b\"))\n",
    "print(\"aAbByYzZaA\".index(\"Z\"))\n",
    "print(\"aAbByYzZaA\".index(\"A\"))"
   ]
  },
  {
   "cell_type": "markdown",
   "metadata": {},
   "source": [
    "### Operations on strings: the `list()` function"
   ]
  },
  {
   "cell_type": "markdown",
   "metadata": {},
   "source": [
    "The list() function takes its argument (a string) and creates a new list containing all the string's characters, one per list element.\n",
    "\n",
    "`list()` is able to create a new list from many other entities (e.g., from tuples and dictionaries)."
   ]
  },
  {
   "cell_type": "markdown",
   "metadata": {},
   "source": [
    "### Operations on strings: the `count()` method"
   ]
  },
  {
   "cell_type": "markdown",
   "metadata": {},
   "source": [
    "The count() method counts all occurrences of the element inside the sequence. \n",
    "\n",
    "The absence of such elements doesn't cause any problems."
   ]
  },
  {
   "cell_type": "code",
   "execution_count": 107,
   "metadata": {},
   "outputs": [
    {
     "name": "stdout",
     "output_type": "stream",
     "text": [
      "['a', 'b', 'c', 'a', 'b', 'c']\n",
      "2\n",
      "0\n"
     ]
    }
   ],
   "source": [
    "# Demonstrating the list() function\n",
    "print(list(\"abcabc\"))\n",
    "\n",
    "# Demonstrating the count() method\n",
    "print(\"abcabc\".count(\"b\"))\n",
    "print('abcabc'.count(\"d\"))"
   ]
  },
  {
   "cell_type": "markdown",
   "metadata": {},
   "source": [
    "# 6.2 String Method"
   ]
  },
  {
   "cell_type": "markdown",
   "metadata": {},
   "source": [
    "### The `capitalize()` method \n",
    "\n",
    "The capitalize() method creates a new string filled with characters taken from the source string, but it tries to modify them in the following way:\n",
    "\n",
    "- if the first character inside the string is a letter,  it will be converted to upper-case\n",
    "- all remaining letters from the string will be converted to lower-case."
   ]
  },
  {
   "cell_type": "code",
   "execution_count": 114,
   "metadata": {},
   "outputs": [
    {
     "name": "stdout",
     "output_type": "stream",
     "text": [
      "Terima kasih selamat malam\n",
      "Alpha\n",
      " alpha\n",
      "123\n",
      "Αβγδ\n"
     ]
    }
   ],
   "source": [
    "print(\"terima kasih selamat malam\".capitalize())\n",
    "print('ALPHA'.capitalize())\n",
    "print(' Alpha'.capitalize())\n",
    "print('123'.capitalize())\n",
    "print(\"αβγδ\".capitalize())"
   ]
  },
  {
   "cell_type": "markdown",
   "metadata": {},
   "source": [
    "### The `center()` method\n",
    "\n",
    "The `center()` method makes a copy of the original string, trying to center it inside a field of a specified width\n",
    "\n",
    "The centering is actually done by adding some spaces before and after the string."
   ]
  },
  {
   "cell_type": "code",
   "execution_count": 75,
   "metadata": {},
   "outputs": [
    {
     "name": "stdout",
     "output_type": "stream",
     "text": [
      "[Beta]\n",
      "[  Beta  ]\n",
      "[        Beta        ]\n"
     ]
    }
   ],
   "source": [
    "print('[' + 'Beta'.center(2) + ']')\n",
    "print('[' + 'Beta'.center(8) + ']')\n",
    "print('[' + 'Beta'.center(20) + ']')"
   ]
  },
  {
   "cell_type": "markdown",
   "metadata": {},
   "source": [
    "The two-parameter variant of center() makes use of the character from the second argument, instead of a space."
   ]
  },
  {
   "cell_type": "code",
   "execution_count": 118,
   "metadata": {},
   "outputs": [
    {
     "name": "stdout",
     "output_type": "stream",
     "text": [
      "[*******gamma********]\n"
     ]
    }
   ],
   "source": [
    "print('[' + 'gamma'.center(20, '*') + ']')"
   ]
  },
  {
   "cell_type": "markdown",
   "metadata": {},
   "source": [
    "### The `endswith()` method"
   ]
  },
  {
   "cell_type": "markdown",
   "metadata": {},
   "source": [
    "The `endswith()` method checks if the given string ends with the specified argument and returns `True` or `False`, depending on the check result."
   ]
  },
  {
   "cell_type": "code",
   "execution_count": 119,
   "metadata": {},
   "outputs": [
    {
     "name": "stdout",
     "output_type": "stream",
     "text": [
      "True\n",
      "False\n",
      "False\n",
      "True\n"
     ]
    }
   ],
   "source": [
    "t = \"zeta\"\n",
    "print(t.endswith(\"a\"))\n",
    "print(t.endswith(\"A\"))\n",
    "print(t.endswith(\"et\"))\n",
    "print(t.endswith(\"eta\"))"
   ]
  },
  {
   "cell_type": "code",
   "execution_count": null,
   "metadata": {},
   "outputs": [],
   "source": [
    "# Demonstrating the endswith() method\n",
    "if \"epsilon\".endswith(\"on\"):\n",
    "    print(\"yes\")\n",
    "else:\n",
    "    print(\"no\")"
   ]
  },
  {
   "cell_type": "markdown",
   "metadata": {},
   "source": [
    "### The `find()` method\n",
    "\n",
    "The find() method is similar to index(), it looks for a substring and returns the index of first occurrence of this substring, but:\n",
    "\n",
    " it doesn't generate an error for an argument containing a non-existent substring\n",
    " \n",
    " it works with strings only\n",
    "\n"
   ]
  },
  {
   "cell_type": "code",
   "execution_count": 76,
   "metadata": {},
   "outputs": [
    {
     "name": "stdout",
     "output_type": "stream",
     "text": [
      "2\n",
      "2\n",
      "0\n",
      "-1\n"
     ]
    }
   ],
   "source": [
    "t = 'theta'\n",
    "print(t.find('eta'))\n",
    "print(t.find('et'))\n",
    "print(t.find('the'))\n",
    "print(t.find('ha'))"
   ]
  },
  {
   "cell_type": "code",
   "execution_count": null,
   "metadata": {},
   "outputs": [],
   "source": [
    "print('kappa'.find('a', 2))\n",
    "\n",
    "# proses pencarian dimulai dari indeks ke dua, proses pencarian akan berhenti jika sudah ditemukan huruf 'a'"
   ]
  },
  {
   "cell_type": "code",
   "execution_count": 77,
   "metadata": {},
   "outputs": [
    {
     "name": "stdout",
     "output_type": "stream",
     "text": [
      "15\n",
      "80\n",
      "198\n",
      "221\n",
      "238\n"
     ]
    }
   ],
   "source": [
    "txt = \"\"\"A variation of the ordinary lorem ipsum\n",
    "text has been used in typesetting since the 1960s \n",
    "or earlier, when it was popularized by advertisements \n",
    "for Letraset transfer sheets. It was introduced to \n",
    "the Information Age in the mid-1980s by the Aldus Corporation, \n",
    "which employed it in graphics and word-processing templates\n",
    "for its desktop publishing program PageMaker (from Wikipedia)\"\"\"\n",
    "\n",
    "fnd = txt.find('the')\n",
    "while fnd != -1:\n",
    "    print(fnd)\n",
    "    fnd = txt.find('the', fnd + 1)"
   ]
  },
  {
   "cell_type": "code",
   "execution_count": 78,
   "metadata": {},
   "outputs": [
    {
     "name": "stdout",
     "output_type": "stream",
     "text": [
      "1\n",
      "-1\n"
     ]
    }
   ],
   "source": [
    "print('kappa'.find('a', 1, 4))\n",
    "print('kappa'.find('a', 2, 4))\n",
    "\n",
    "# argumen ketiga menunjuk ke indeks pertama yang tidak akan dipertimbangkan selama pencarian"
   ]
  },
  {
   "cell_type": "code",
   "execution_count": null,
   "metadata": {},
   "outputs": [],
   "source": [
    "# Demonstrating the find() method\n",
    "print(\"Eta\".find(\"ta\"))\n",
    "print(\"Eta\".find(\"mma\"))"
   ]
  },
  {
   "cell_type": "markdown",
   "metadata": {},
   "source": [
    "### The `isalnum()` method\n",
    "\n",
    "The parameterless method named isalnum() checks if the string contains only digits or alphabetical characters (letters), and returns True or False according to the result."
   ]
  },
  {
   "cell_type": "code",
   "execution_count": 79,
   "metadata": {},
   "outputs": [
    {
     "name": "stdout",
     "output_type": "stream",
     "text": [
      "True\n",
      "True\n",
      "True\n",
      "False\n",
      "False\n",
      "False\n"
     ]
    }
   ],
   "source": [
    "# Demonstrating the isalnum() method\n",
    "print('lambda30'.isalnum())\n",
    "print('lambda'.isalnum())\n",
    "print('30'.isalnum())\n",
    "print('@'.isalnum())\n",
    "print('lambda_30'.isalnum())\n",
    "print(''.isalnum())"
   ]
  },
  {
   "cell_type": "markdown",
   "metadata": {},
   "source": [
    "### The `isalpha()` method\n",
    "\n",
    "The isalpha() method is more specialized - it's interested in letters only.\n",
    "\n",
    "### The `isdigit()` method\n",
    "\n",
    "In turn, the isdigit() method looks at digits only"
   ]
  },
  {
   "cell_type": "code",
   "execution_count": 80,
   "metadata": {},
   "outputs": [
    {
     "name": "stdout",
     "output_type": "stream",
     "text": [
      "True\n",
      "False\n",
      "True\n",
      "False\n"
     ]
    }
   ],
   "source": [
    "# Example 1: Demonstrating the isapha() method\n",
    "print(\"Moooo\".isalpha())\n",
    "print('Mu40'.isalpha())\n",
    "\n",
    "# Example 2: Demonstrating the isdigit() method\n",
    "print('2018'.isdigit())\n",
    "print(\"Year2019\".isdigit())"
   ]
  },
  {
   "cell_type": "markdown",
   "metadata": {},
   "source": [
    "### The `islower()` method\n",
    "\n",
    "The islower() method is a fussy variant of isalpha()\n",
    "\n",
    "It accepts lower-case letters only.\n",
    "\n",
    "### The `isspace()` method\n",
    "\n",
    "The isspace() method identifies whitespaces only\n",
    "\n",
    "### The `isupper()` method\n",
    "The isupper() method is the upper-case version of islower()\n",
    "\n",
    "It concentrates on upper-case letters only."
   ]
  },
  {
   "cell_type": "code",
   "execution_count": null,
   "metadata": {},
   "outputs": [],
   "source": [
    "# Example 1: Demonstrating the islower() method\n",
    "print(\"Moooo\".islower())\n",
    "print('moooo'.islower())\n",
    "\n",
    "# Example 2: Demonstrating the isspace() method\n",
    "print(' \\n '.isspace())\n",
    "print(\" \".isspace())\n",
    "print(\"mooo mooo mooo\".isspace())\n",
    "\n",
    "# Example 3: Demonstrating the isupper() method\n",
    "print(\"Moooo\".isupper())\n",
    "print('moooo'.isupper())\n",
    "print('MOOOO'.isupper())"
   ]
  },
  {
   "cell_type": "markdown",
   "metadata": {},
   "source": [
    "### The `join()` method"
   ]
  },
  {
   "cell_type": "code",
   "execution_count": 82,
   "metadata": {},
   "outputs": [
    {
     "name": "stdout",
     "output_type": "stream",
     "text": [
      "omicron pi rho\n"
     ]
    }
   ],
   "source": [
    "# Demonstrating the join() method\n",
    "print(\" \".join([\"omicron\", \"pi\", \"rho\"]))\n",
    "\n",
    "# the join() method is invoked from within a string containing a comma\n",
    "# the join's argument is a list containing three strings;\n",
    "# the method returns a new string."
   ]
  },
  {
   "cell_type": "markdown",
   "metadata": {},
   "source": [
    "### The `lower()` method\n",
    "\n",
    "The lower() method makes a copy of a source string, replaces all upper-case letters with their lower-case counterparts, and returns the string as the result."
   ]
  },
  {
   "cell_type": "code",
   "execution_count": null,
   "metadata": {},
   "outputs": [],
   "source": [
    "# Demonstrating the lower() method\n",
    "print(\"SiGmA=60\".lower())"
   ]
  },
  {
   "cell_type": "markdown",
   "metadata": {},
   "source": [
    "### The `lstrip()` method\n",
    "\n",
    "The parameterless lstrip() method returns a newly created string formed from the original one by removing all leading whitespaces.\n",
    "\n",
    "The one-parameter lstrip() method, removes all characters enlisted in its argument"
   ]
  },
  {
   "cell_type": "code",
   "execution_count": 83,
   "metadata": {},
   "outputs": [
    {
     "name": "stdout",
     "output_type": "stream",
     "text": [
      "    tes\n",
      "tes\n"
     ]
    }
   ],
   "source": [
    "s = \"    tes\"\n",
    "print(s)\n",
    "print(s.lstrip())"
   ]
  },
  {
   "cell_type": "code",
   "execution_count": null,
   "metadata": {},
   "outputs": [],
   "source": [
    "# Demonstrating the lstrip() method\n",
    "print(\"[\" + \" tau \".lstrip() + \"]\")"
   ]
  },
  {
   "cell_type": "code",
   "execution_count": 85,
   "metadata": {},
   "outputs": [
    {
     "name": "stdout",
     "output_type": "stream",
     "text": [
      ".ugm.com\n",
      "pythoninstitute.org\n",
      "annisa maulida\n"
     ]
    }
   ],
   "source": [
    "print(\"www.ugm.com\".lstrip(\"w\"))\n",
    "print(\"pythoninstitute.org\".lstrip(\"institute\"))\n",
    "print(\"annisa maulida\".lstrip())"
   ]
  },
  {
   "cell_type": "markdown",
   "metadata": {},
   "source": [
    "### The `replace()` method"
   ]
  },
  {
   "cell_type": "markdown",
   "metadata": {},
   "source": [
    "The two-parameter replace() method returns a copy of the original string in which all occurrences of the first argument have been replaced by the second argument\n",
    "\n",
    "The three-parameter replace() variant uses the third argument (a number) to limit the number of replacements."
   ]
  },
  {
   "cell_type": "code",
   "execution_count": 86,
   "metadata": {},
   "outputs": [
    {
     "name": "stdout",
     "output_type": "stream",
     "text": [
      "www.pythoninstitute.org\n",
      "Thare are it!\n",
      "Apple \n"
     ]
    }
   ],
   "source": [
    "# Demonstrating the replace() method\n",
    "print(\"www.netacad.com\".replace(\"netacad.com\", \"pythoninstitute.org\"))\n",
    "print(\"This is it!\".replace(\"is\", \"are\"))\n",
    "print(\"Apple juice\".replace(\"juice\", \"\"))"
   ]
  },
  {
   "cell_type": "code",
   "execution_count": null,
   "metadata": {},
   "outputs": [],
   "source": [
    "print(\"This is it!\".replace(\"is\", \"are\", 1))\n",
    "print(\"This is it!\".replace(\"is\", \"are\", 2))"
   ]
  },
  {
   "cell_type": "markdown",
   "metadata": {},
   "source": [
    "### The `rfind()` method\n",
    "\n",
    "Start their searches from the end of the string\n",
    "\n",
    "hence the prefix `r`, for `right`"
   ]
  },
  {
   "cell_type": "code",
   "execution_count": 87,
   "metadata": {},
   "outputs": [
    {
     "name": "stdout",
     "output_type": "stream",
     "text": [
      "8\n",
      "-1\n",
      "4\n"
     ]
    }
   ],
   "source": [
    "# Demonstrating the rfind() method\n",
    "print(\"tau tau tau\".rfind(\"ta\"))\n",
    "print(\"tau tau tau\".rfind(\"ta\", 9))\n",
    "print(\"tau tau tau\".rfind(\"ta\", 3, 9))"
   ]
  },
  {
   "cell_type": "markdown",
   "metadata": {},
   "source": [
    "### The `rstrip()` method"
   ]
  },
  {
   "cell_type": "markdown",
   "metadata": {},
   "source": [
    "Two variants of the rstrip() method do nearly the same as lstrips, but affect the opposite side of the string."
   ]
  },
  {
   "cell_type": "code",
   "execution_count": null,
   "metadata": {},
   "outputs": [],
   "source": [
    "# Demonstrating the rstrip() method\n",
    "print(\"[\" + \" upsilon \".rstrip() + \"]\")\n",
    "print(\"cisco.com\".rstrip(\".com\"))"
   ]
  },
  {
   "cell_type": "markdown",
   "metadata": {},
   "source": [
    "### The `split()` method\n",
    "\n",
    "The split() method does what it says - it splits the string and builds a list of all detected substrings.\n",
    "\n",
    "The method assumes that the substrings are delimited by whitespaces "
   ]
  },
  {
   "cell_type": "code",
   "execution_count": 97,
   "metadata": {},
   "outputs": [
    {
     "name": "stdout",
     "output_type": "stream",
     "text": [
      " duduk disamping pak kusir\n"
     ]
    }
   ],
   "source": [
    "# Demonstrating the split() method\n",
    "# print(\"phi       chi\\npsi\".split())\n",
    "\n",
    "s = \"naik delman istimewa. kududuk dimuka. duduk disamping pak kusir\"\n",
    "a = s.split('.')\n",
    "print(a[-1])"
   ]
  },
  {
   "cell_type": "markdown",
   "metadata": {},
   "source": [
    "### The `startswith()` method\n",
    "\n",
    "The startswith() method is a mirror reflection of endswith() - it checks if a given string starts with the specified substring."
   ]
  },
  {
   "cell_type": "code",
   "execution_count": null,
   "metadata": {},
   "outputs": [],
   "source": [
    "# Demonstrating the startswith() method\n",
    "print(\"omega\".startswith(\"meg\"))\n",
    "print(\"omega\".startswith(\"om\"))"
   ]
  },
  {
   "cell_type": "markdown",
   "metadata": {},
   "source": [
    "### The `strip()` method\n",
    "\n",
    "The trip() method combines the effects caused by rstrip() and lstrip() - it makes a new string lacking all the leading and trailing whitespaces."
   ]
  },
  {
   "cell_type": "code",
   "execution_count": null,
   "metadata": {},
   "outputs": [],
   "source": [
    "# Demonstrating the strip() method\n",
    "print(\"[\" + \"   aleph   \".strip() + \"]\")"
   ]
  },
  {
   "cell_type": "markdown",
   "metadata": {},
   "source": [
    "### The `swapcase()` method\n",
    "\n",
    "The swapcase() method makes a new string by swapping the case of all letters within the source string: lower-case characters become upper-case, and vice versa.\n",
    "\n",
    "### The `title()` method\n",
    "\n",
    "It changes every word's first letter to upper-case, turning all other ones to lower-case.\n",
    "\n",
    "### The `upper()` method\n",
    "\n",
    "The upper() method makes a copy of the source string, replaces all lower-case letters with their upper-case counterparts, and returns the string as the result."
   ]
  },
  {
   "cell_type": "code",
   "execution_count": null,
   "metadata": {},
   "outputs": [],
   "source": [
    "# Demonstrating the swapcase() method\n",
    "print(\"I know that I know nothing.\".swapcase())\n",
    "\n",
    "print()\n",
    "\n",
    "# Demonstrating the title() method\n",
    "print(\"I know that I know nothing. Part 1.\".title())\n",
    "\n",
    "print()\n",
    "\n",
    "# Demonstrating the upper() method\n",
    "print(\"I know that I know nothing. Part 2.\".upper())"
   ]
  },
  {
   "cell_type": "markdown",
   "metadata": {},
   "source": [
    "#### 1. Some of the methods offered by strings are:\n",
    "\n",
    "- `capitalize()` – changes all string letters to capitals;\n",
    "- `center()` – centers the string inside the field of a known length;\n",
    "- `count()` – counts the occurrences of a given character;\n",
    "- `join()` – joins all items of a tuple/list into one string;\n",
    "- `lower()` – converts all the string's letters into lower-case letters;\n",
    "- `lstrip()` – removes the white characters from the beginning of the string;\n",
    "- `replace()` – replaces a given substring with another;\n",
    "- `rfind()` – finds a substring starting from the end of the string;\n",
    "- `rstrip()` – removes the trailing white spaces from the end of the string;\n",
    "- `split()` – splits the string into a substring using a given delimiter;\n",
    "- `strip()` – removes the leading and trailing white spaces;\n",
    "- `swapcase()` – swaps the letters' cases (lower to upper and vice versa)\n",
    "- `title()` – makes the first letter in each word upper-case;\n",
    "- `upper()` – converts all the string's letter into upper-case letters.\n",
    "\n",
    "#### 2. String content can be determined using the following methods (all of them return Boolean values):\n",
    "\n",
    "- `endswith()` – does the string end with a given substring?\n",
    "- `isalnum()` – does the string consist only of letters and digits?\n",
    "- `isalpha()` – does the string consist only of letters?\n",
    "- `islower()` – does the string consists only of lower-case letters?\n",
    "- `isspace()` – does the string consists only of white spaces?\n",
    "- `isupper()` – does the string consists only of upper-case letters?\n",
    "- `startswith()` – does the string begin with a given substring?"
   ]
  },
  {
   "cell_type": "markdown",
   "metadata": {},
   "source": [
    "## Lab : Your own split\n",
    "\n",
    "#### Scenario\n",
    "You already know how split() works. Now we want you to prove it.\n",
    "\n",
    "Your task is to write your own function, which behaves almost exactly like the original split() method, i.e.:\n",
    "\n",
    "- it should accept exactly one argument - a string;\n",
    "- it should return a list of words created from the string, divided in the places where the string contains whitespaces;\n",
    "- if the string is empty, the function should return an empty list;\n",
    "- its name should be mysplit()\n",
    "\n",
    "Use the template in the editor. Test your code carefully.\n",
    "\n",
    "#### Expected output\n",
    "\n",
    "['To', 'be', 'or', 'not', 'to', 'be,', 'that', 'is', 'the', 'question']\n",
    "\n",
    "['To', 'be', 'or', 'not', 'to', 'be,that', 'is', 'the', 'question']\n",
    "\n",
    "[]\n",
    "\n",
    "['abc']\n",
    "\n",
    "[]"
   ]
  },
  {
   "cell_type": "code",
   "execution_count": 8,
   "metadata": {},
   "outputs": [
    {
     "name": "stdout",
     "output_type": "stream",
     "text": [
      "['To', 'be', 'or', 'not', 'to', 'be,', 'that', 'is', 'the', 'question']\n",
      "['To', 'be', 'or', 'not', 'to', 'be,that', 'is', 'the', 'question']\n",
      "['']\n",
      "['abc']\n",
      "['']\n"
     ]
    },
    {
     "name": "stderr",
     "output_type": "stream",
     "text": [
      "<>:26: SyntaxWarning: \"is\" with a literal. Did you mean \"==\"?\n",
      "<>:26: SyntaxWarning: \"is\" with a literal. Did you mean \"==\"?\n",
      "<ipython-input-8-22933160bbf7>:26: SyntaxWarning: \"is\" with a literal. Did you mean \"==\"?\n",
      "  if ch is \" \":\n"
     ]
    }
   ],
   "source": [
    "def mysplit(strng):\n",
    "    strng = strng.strip()\n",
    "    start = 0\n",
    "    strng += \" \"\n",
    "    if len(strng)>0:\n",
    "        l = []\n",
    "        fnd = strng.find(\" \")\n",
    "        while fnd != -1:\n",
    "            l.append(strng[start:fnd])\n",
    "            start = fnd+1\n",
    "            fnd = strng.find(\" \", fnd + 1)\n",
    "            \n",
    "        return l\n",
    "        \n",
    "    else:\n",
    "        return []\n",
    "    \n",
    "    \n",
    "def mysplit2(strng):\n",
    "    strng = strng.strip()\n",
    "    l = []\n",
    "    w = \"\"\n",
    "    i = 0\n",
    "    strng += \" \"\n",
    "    for ch in strng: \n",
    "        if ch is \" \":            \n",
    "            l.append(w)\n",
    "            w = \"\"\n",
    "        else:\n",
    "            w += ch        \n",
    "        i += 1        \n",
    "    return l\n",
    "    \n",
    "    \n",
    "# \"To be or not to be, that is the question\".find(\" \")\n",
    "\n",
    "print(mysplit2(\"To be or not to be, that is the question\"))\n",
    "print(mysplit2(\"To be or not to be,that is the question\"))\n",
    "print(mysplit2(\"   \"))\n",
    "print(mysplit2(\" abc \"))\n",
    "print(mysplit2(\"\"))"
   ]
  },
  {
   "cell_type": "code",
   "execution_count": 7,
   "metadata": {},
   "outputs": [
    {
     "data": {
      "text/plain": [
       "2"
      ]
     },
     "execution_count": 7,
     "metadata": {},
     "output_type": "execute_result"
    }
   ],
   "source": [
    "\"To be or not to be, that is the question\".strip().find(\" \")"
   ]
  },
  {
   "cell_type": "markdown",
   "metadata": {},
   "source": [
    "## String in Action"
   ]
  },
  {
   "cell_type": "markdown",
   "metadata": {},
   "source": [
    "### Comparing strings\n",
    "\n",
    "Python's strings can be compared using the same set of operators which are in use in relation to numbers.\n",
    "\n",
    "It just compares code point values, character by character.\n",
    "\n",
    "- `==`\n",
    "- `!=`\n",
    "- `>`\n",
    "- `>=`\n",
    "- `<`\n",
    "- `<=`"
   ]
  },
  {
   "cell_type": "code",
   "execution_count": null,
   "metadata": {},
   "outputs": [],
   "source": [
    "print('alpha' == 'alpha')\n",
    "print ('alpha' != 'Alpha')\n",
    "print ('alpha' < 'alphabet')\n",
    "# String comparison is always case-sensitive (upper-case letters are taken as lesser than lower-case).\n",
    "print ('beta' > 'Beta')\n",
    "\n",
    "# Even if a string contains digits only, it's still not a number.\n",
    "print('10' == '010')\n",
    "print('10' > '010')\n",
    "print('10' > '8')\n",
    "print('20' < '8')\n",
    "print('20' < '80')"
   ]
  },
  {
   "cell_type": "code",
   "execution_count": null,
   "metadata": {},
   "outputs": [],
   "source": [
    "# Apakah output dari kode program di bawah ini\n",
    "print('10' == 10)\n",
    "print('10' != 10)\n",
    "print('10' == 1)\n",
    "print('10' != 1)\n",
    "print('10' > 10)"
   ]
  },
  {
   "cell_type": "markdown",
   "metadata": {},
   "source": [
    "### Sorting\n",
    "\n",
    "- The first is implemented as a function named sorted().\n",
    "   - The function takes one argument (a list) and returns a new list\n",
    "- The second function named `sort()`\n",
    "    - The second method affects the list itself - no new list is created"
   ]
  },
  {
   "cell_type": "code",
   "execution_count": null,
   "metadata": {},
   "outputs": [],
   "source": [
    "# Demonstrating the sorted() function\n",
    "firstGreek = ['omega', 'alpha', 'pi', 'gamma']\n",
    "firstGreek2 = sorted(firstGreek)\n",
    "\n",
    "print(firstGreek)\n",
    "print(firstGreek2)\n",
    "\n",
    "print()\n",
    "\n",
    "# Demonstrating the sort() method\n",
    "secondGreek = ['omega', 'alpha', 'pi', 'gamma']\n",
    "print(secondGreek)\n",
    "\n",
    "secondGreek.sort()\n",
    "print(secondGreek)"
   ]
  },
  {
   "cell_type": "markdown",
   "metadata": {},
   "source": [
    "### Strings vs. numbers\n",
    "\n",
    "How to convert a number (an integer or a float) into a string, and vice versa."
   ]
  },
  {
   "cell_type": "code",
   "execution_count": null,
   "metadata": {},
   "outputs": [],
   "source": [
    "itg = 13\n",
    "flt = 1.3\n",
    "si = str(itg)\n",
    "sf = str(flt)\n",
    "#print(type(si))\n",
    "print(si + ' ' + sf)"
   ]
  },
  {
   "cell_type": "code",
   "execution_count": 159,
   "metadata": {},
   "outputs": [
    {
     "name": "stdout",
     "output_type": "stream",
     "text": [
      "Enter your message: zoro\n",
      "ZORO\n"
     ]
    }
   ],
   "source": [
    "# Caesar cipher\n",
    "text = input(\"Enter your message: \")\n",
    "\n",
    "def doCipher(text):\n",
    "    cipher = ''\n",
    "    for char in text:\n",
    "        if not char.isalpha():\n",
    "            continue\n",
    "        char = char.upper()\n",
    "        code = ord(char) + 1\n",
    "        if code > ord('Z'):\n",
    "            code = ord('A')\n",
    "        cipher += chr(code)\n",
    "    return cipher\n",
    "\n",
    "def deCipher(text):\n",
    "    cipher = ''\n",
    "    for char in text:\n",
    "        if not char.isalpha():\n",
    "            continue\n",
    "        char = char.upper()\n",
    "        code = ord(char) - 1\n",
    "        if code < ord('A'):\n",
    "            code = ord('Z')\n",
    "        cipher += chr(code)\n",
    "    return cipher\n",
    "\n",
    "print(deCipher(doCipher(text)))"
   ]
  },
  {
   "cell_type": "markdown",
   "metadata": {},
   "source": [
    "## LAB  : A LED Display\n",
    "Konversi digit number ke format LED Display dan LAB lainnya\n",
    "\n",
    "## Own Test : The Caesar Cipher: encrypting and decrypting a message 'n Other...\n",
    "Pembuatan Proses enkripsi dan dekripsi Pesan text dan personal test lainnya"
   ]
  },
  {
   "cell_type": "markdown",
   "metadata": {},
   "source": [
    "# 6.3 Errors, failures, and other "
   ]
  },
  {
   "cell_type": "markdown",
   "metadata": {},
   "source": [
    "Kesalahan merupakan hal yang sering terjadi dalam proses pembuatan pemrograman. \n",
    "\n",
    "Sebab terjadinya kesalahan:\n",
    "- Kesalahan dalam penulisan kode, sehingga kode tidak dapat dijalankan sama sekali\n",
    "- Kesalahan yang terjadi ketika program sedang di eksekusi\n",
    "\n",
    "Dua buah cara yang dapat digunakan untuk memeriksa suatu kesalahan:\n",
    "- menggunakan blok `try....except`\n",
    "- menggunakan statement `assert`"
   ]
  },
  {
   "cell_type": "markdown",
   "metadata": {},
   "source": [
    "## Eksepsi"
   ]
  },
  {
   "attachments": {
    "Eksepsi.png": {
     "image/png": "[encoded data removed]"
    }
   },
   "cell_type": "markdown",
   "metadata": {},
   "source": [
    "Merupakan kesalahan yang terjadi pada saat proses eksekusi program, dan akan mengacaukan alur dari perintah-perintah normal yang terdapat di dalam program.\n",
    "\n",
    "![Eksepsi.png](attachment:Eksepsi.png)"
   ]
  },
  {
   "cell_type": "markdown",
   "metadata": {},
   "source": [
    "Pada kode di bawah masih memungkinkan terjadi kesalahan, yaitu:\n",
    "- user menginputkan string, dan\n",
    "- user menginputkan bilangan negatif"
   ]
  },
  {
   "cell_type": "code",
   "execution_count": 3,
   "metadata": {},
   "outputs": [
    {
     "name": "stdout",
     "output_type": "stream",
     "text": [
      "Enter x: 2\n",
      "The square root of 2.0 equals to 1.4142135623730951\n"
     ]
    }
   ],
   "source": [
    "import math\n",
    "\n",
    "x = float(input(\"Enter x: \"))\n",
    "y = math.sqrt(x)\n",
    "\n",
    "print(\"The square root of\", x, \"equals to\", y)"
   ]
  },
  {
   "cell_type": "code",
   "execution_count": 45,
   "metadata": {},
   "outputs": [
    {
     "name": "stdout",
     "output_type": "stream",
     "text": [
      "Enter x: 0\n"
     ]
    },
    {
     "ename": "NameError",
     "evalue": "name 'X' is not defined",
     "output_type": "error",
     "traceback": [
      "\u001b[1;31m---------------------------------------------------------------------------\u001b[0m",
      "\u001b[1;31mNameError\u001b[0m                                 Traceback (most recent call last)",
      "\u001b[1;32m<ipython-input-45-a4875a3ff2da>\u001b[0m in \u001b[0;36m<module>\u001b[1;34m\u001b[0m\n\u001b[0;32m      2\u001b[0m \u001b[0my\u001b[0m \u001b[1;33m=\u001b[0m \u001b[0mmath\u001b[0m\u001b[1;33m.\u001b[0m\u001b[0msqrt\u001b[0m\u001b[1;33m(\u001b[0m\u001b[0mx\u001b[0m\u001b[1;33m)\u001b[0m\u001b[1;33m\u001b[0m\u001b[1;33m\u001b[0m\u001b[0m\n\u001b[0;32m      3\u001b[0m \u001b[1;33m\u001b[0m\u001b[0m\n\u001b[1;32m----> 4\u001b[1;33m \u001b[0mprint\u001b[0m\u001b[1;33m(\u001b[0m\u001b[1;34m\"The square root of\"\u001b[0m\u001b[1;33m,\u001b[0m \u001b[0mX\u001b[0m\u001b[1;33m,\u001b[0m \u001b[1;34m\"equals to\"\u001b[0m\u001b[1;33m,\u001b[0m \u001b[0my\u001b[0m\u001b[1;33m)\u001b[0m\u001b[1;33m\u001b[0m\u001b[1;33m\u001b[0m\u001b[0m\n\u001b[0m",
      "\u001b[1;31mNameError\u001b[0m: name 'X' is not defined"
     ]
    }
   ],
   "source": [
    "x = float(input(\"Enter x: \"))\n",
    "y = math.sqrt(x)\n",
    "\n",
    "print(\"The square root of\", X, \"equals to\", y)"
   ]
  },
  {
   "cell_type": "code",
   "execution_count": 46,
   "metadata": {},
   "outputs": [
    {
     "ename": "ZeroDivisionError",
     "evalue": "division by zero",
     "output_type": "error",
     "traceback": [
      "\u001b[1;31m---------------------------------------------------------------------------\u001b[0m",
      "\u001b[1;31mZeroDivisionError\u001b[0m                         Traceback (most recent call last)",
      "\u001b[1;32m<ipython-input-46-ad45975c684c>\u001b[0m in \u001b[0;36m<module>\u001b[1;34m\u001b[0m\n\u001b[0;32m      1\u001b[0m \u001b[0mvalue\u001b[0m \u001b[1;33m=\u001b[0m \u001b[1;36m1\u001b[0m\u001b[1;33m\u001b[0m\u001b[1;33m\u001b[0m\u001b[0m\n\u001b[1;32m----> 2\u001b[1;33m \u001b[0mvalue\u001b[0m \u001b[1;33m/=\u001b[0m \u001b[1;36m0\u001b[0m\u001b[1;33m\u001b[0m\u001b[1;33m\u001b[0m\u001b[0m\n\u001b[0m",
      "\u001b[1;31mZeroDivisionError\u001b[0m: division by zero"
     ]
    }
   ],
   "source": [
    "value = 1\n",
    "value /= 0"
   ]
  },
  {
   "cell_type": "markdown",
   "metadata": {},
   "source": [
    "`NameError`, `ValueError`, `ZeroDvisionError` merupakan eksepsi untuk mengatasi kesalahan-kesalahan yang terjadi seperti contoh diatas"
   ]
  },
  {
   "cell_type": "markdown",
   "metadata": {},
   "source": [
    "Kedua aktivitas ini disebut __memunculkan(raising) eksepsi__. Kita dapat mengatakan bahwa Python selalu memunculkan eksepsi (atau bahwa eksepsi telah dimunculkan) ketika ia tidak tahu apa yang harus dilakukan dengan kode Anda. Yang menyebabkan:\n",
    "\n",
    "- eksepsi mengharapkan ada sebuah perintah yang dapat menangani atau mencegah terjadinya kesalahan\n",
    "- jika tidak ada perintah untuk menangani atau mencegah terjadinya kesalahan tersebut, python akan menghentikan atau __terminated__ program, sehingga akan muncul pesan __error__\n",
    "- jika kesalahan dapat ditangani, python akan melanjutkan pada kode program selanjutnya"
   ]
  },
  {
   "cell_type": "markdown",
   "metadata": {},
   "source": [
    "### `try .... except`"
   ]
  },
  {
   "cell_type": "code",
   "execution_count": 40,
   "metadata": {},
   "outputs": [
    {
     "name": "stdout",
     "output_type": "stream",
     "text": [
      "Enter the first number: 12\n",
      "Enter the second number: hello\n"
     ]
    },
    {
     "ename": "ValueError",
     "evalue": "invalid literal for int() with base 10: 'hello'",
     "output_type": "error",
     "traceback": [
      "\u001b[1;31m---------------------------------------------------------------------------\u001b[0m",
      "\u001b[1;31mValueError\u001b[0m                                Traceback (most recent call last)",
      "\u001b[1;32m<ipython-input-40-98c705279f1c>\u001b[0m in \u001b[0;36m<module>\u001b[1;34m\u001b[0m\n\u001b[0;32m      1\u001b[0m \u001b[0mfirstNumber\u001b[0m \u001b[1;33m=\u001b[0m \u001b[0mint\u001b[0m\u001b[1;33m(\u001b[0m\u001b[0minput\u001b[0m\u001b[1;33m(\u001b[0m\u001b[1;34m\"Enter the first number: \"\u001b[0m\u001b[1;33m)\u001b[0m\u001b[1;33m)\u001b[0m\u001b[1;33m\u001b[0m\u001b[1;33m\u001b[0m\u001b[0m\n\u001b[1;32m----> 2\u001b[1;33m \u001b[0msecondNumber\u001b[0m \u001b[1;33m=\u001b[0m \u001b[0mint\u001b[0m\u001b[1;33m(\u001b[0m\u001b[0minput\u001b[0m\u001b[1;33m(\u001b[0m\u001b[1;34m\"Enter the second number: \"\u001b[0m\u001b[1;33m)\u001b[0m\u001b[1;33m)\u001b[0m\u001b[1;33m\u001b[0m\u001b[1;33m\u001b[0m\u001b[0m\n\u001b[0m\u001b[0;32m      3\u001b[0m \u001b[1;33m\u001b[0m\u001b[0m\n\u001b[0;32m      4\u001b[0m \u001b[1;32mif\u001b[0m \u001b[0msecondNumber\u001b[0m \u001b[1;33m!=\u001b[0m \u001b[1;36m0\u001b[0m\u001b[1;33m:\u001b[0m\u001b[1;33m\u001b[0m\u001b[1;33m\u001b[0m\u001b[0m\n\u001b[0;32m      5\u001b[0m     \u001b[0mprint\u001b[0m\u001b[1;33m(\u001b[0m\u001b[0mfirstNumber\u001b[0m \u001b[1;33m/\u001b[0m \u001b[0msecondNumber\u001b[0m\u001b[1;33m)\u001b[0m\u001b[1;33m\u001b[0m\u001b[1;33m\u001b[0m\u001b[0m\n",
      "\u001b[1;31mValueError\u001b[0m: invalid literal for int() with base 10: 'hello'"
     ]
    }
   ],
   "source": [
    "firstNumber = int(input(\"Enter the first number: \"))\n",
    "secondNumber = int(input(\"Enter the second number: \"))\n",
    "\n",
    "if secondNumber != 0:\n",
    "    print(firstNumber / secondNumber)\n",
    "else:\n",
    "    print(\"This operation cannot be done.\")\n",
    "\n",
    "print(\"THE END.\")"
   ]
  },
  {
   "cell_type": "markdown",
   "metadata": {},
   "source": [
    "Cara penanganan kesalahan seperti kode diatas dapat digunakan, tetapi memiliki kelemahan karena kode program dapat menjadi sangat kompleks dan besar"
   ]
  },
  {
   "cell_type": "markdown",
   "metadata": {},
   "source": [
    "Untuk menangani ekspesi, python memanfaatkan blok yang disebut dengan `try...except`, dengan bentuk umum:\n",
    "\n",
    "___try___:\n",
    "    kode \n",
    "    .....\n",
    "___except TipeEksekusi___:\n",
    "    penanganan kesalahan\n",
    "    \n",
    "    \n",
    "    \n",
    "Jika kita mempunyaki kode-kode \"mencurigakan\" yang mungkin dapat menimpilkan eksepsi,kita perlu menyimpan kode tersebut pada blok __try__. \n",
    "\n",
    "Ketika kode berjalan normal, kode pada bagian __except__ tidak akan dieksekusi. Sebaliknya jika terjadi kesalahan, maka eksekusi kode di bagian __try__ akan dihentikan, dan program akan mengeksekusi pada bagian __except__"
   ]
  },
  {
   "cell_type": "code",
   "execution_count": 43,
   "metadata": {},
   "outputs": [
    {
     "name": "stdout",
     "output_type": "stream",
     "text": [
      "Enter the first number: 1\n",
      "Enter the second number: hello\n",
      "This operation cannot be done.\n",
      "THE END.\n"
     ]
    }
   ],
   "source": [
    "try:\n",
    "    firstNumber = int(input(\"Enter the first number: \"))\n",
    "    secondNumber = int(input(\"Enter the second number: \"))\n",
    "    print(firstNumber / secondNumber)\n",
    "except:\n",
    "    print(\"This operation cannot be done.\")\n",
    "\n",
    "print(\"THE END.\")"
   ]
  },
  {
   "cell_type": "code",
   "execution_count": 55,
   "metadata": {},
   "outputs": [
    {
     "name": "stdout",
     "output_type": "stream",
     "text": [
      "1\n",
      "Oh dear, something went wrong...\n",
      "3\n"
     ]
    }
   ],
   "source": [
    "try:\n",
    "    print(\"1\")\n",
    "    x = 1 / 0\n",
    "    print(\"2\")\n",
    "except:\n",
    "    print(\"Oh dear, something went wrong...\")\n",
    "\n",
    "print(\"3\")"
   ]
  },
  {
   "cell_type": "markdown",
   "metadata": {},
   "source": [
    "Block `try ...  except` dapat digunakan untuk menangani lebih dari satu eksepsi, dengan menggunkan bentuk umum: \n",
    "\n",
    "try:\n",
    "    :\n",
    "except exc1:\n",
    "    :\n",
    "except exc2:\n",
    "    :\n",
    "except:\n",
    "    :\n",
    "    \n",
    "Satu atau beberapa statement yang terdapat dalam blok `try` dapat menimbulkan lebih dari satu tipe ekspesi. "
   ]
  },
  {
   "cell_type": "code",
   "execution_count": 9,
   "metadata": {},
   "outputs": [
    {
     "name": "stdout",
     "output_type": "stream",
     "text": [
      "Enter a number: 5\n",
      "0.2\n",
      "THE END.\n"
     ]
    }
   ],
   "source": [
    "try:\n",
    "    x = int(input(\"Enter a number: \"))\n",
    "    y = 1 / x\n",
    "    print(y)\n",
    "except ZeroDivisionError:\n",
    "    print(\"You cannot divide by zero, sorry.\")\n",
    "except ValueError:\n",
    "    print(\"You must enter an integer value.\")\n",
    "except:\n",
    "    print(\"Oh dear, something went wrong...\")\n",
    "\n",
    "print(\"THE END.\")"
   ]
  },
  {
   "cell_type": "markdown",
   "metadata": {},
   "source": [
    "Percobaan:\n",
    "- Inputkan bilangan integer (e.g., 5)\n",
    "- Inputkan 0\n",
    "- Inputkan data non-integer\n"
   ]
  },
  {
   "cell_type": "markdown",
   "metadata": {},
   "source": [
    "### Built-in Exception"
   ]
  },
  {
   "attachments": {
    "exceptions.PNG": {
     "image/png": "[encoded data removed]"
    }
   },
   "cell_type": "markdown",
   "metadata": {},
   "source": [
    "Python 3 menyediakan 63 built-in exceptions dan semuanya membentuk pohon hirarki\n",
    "\n",
    "![exceptions.PNG](attachment:exceptions.PNG)\n",
    "\n",
    "\n",
    "- ZeroDivisionError merupakan spesial kasus dari kelas eksepsi ArithmeticError;\n",
    "- ArithmeticError merupakan spesial kasus dari kelas eksepsi Exception;\n",
    "- Exception merupakan spesial kasus dari kelas eksepsi BaseException;"
   ]
  },
  {
   "cell_type": "code",
   "execution_count": 52,
   "metadata": {},
   "outputs": [
    {
     "name": "stdout",
     "output_type": "stream",
     "text": [
      "Oooppsss...\n",
      "THE END.\n"
     ]
    }
   ],
   "source": [
    "try:\n",
    "    y = 1 / 0\n",
    "except ZeroDivisionError:\n",
    "    print(\"Oooppsss...\")\n",
    "\n",
    "print(\"THE END.\")\n",
    "\n",
    "# Ubah ZeroDivisionError dengan ArithmeticError, Exception dan BaseException"
   ]
  },
  {
   "cell_type": "markdown",
   "metadata": {},
   "source": [
    "Jika eksepsi muncul di dalam fungsi, maka eksepsi itu dapat ditangani dengan dua cara:\n",
    "- di dalam fungsi\n",
    "- di luar fungsi"
   ]
  },
  {
   "cell_type": "code",
   "execution_count": 66,
   "metadata": {},
   "outputs": [
    {
     "name": "stdout",
     "output_type": "stream",
     "text": [
      "Arithmetic Problem!\n",
      "THE END.\n"
     ]
    }
   ],
   "source": [
    "def badFun(n):\n",
    "    try:\n",
    "        return 1 / n\n",
    "    except ArithmeticError:\n",
    "        print(\"Arithmetic Problem!\")\n",
    "    return None\n",
    "\n",
    "badFun(0)\n",
    "\n",
    "print(\"THE END.\")"
   ]
  },
  {
   "cell_type": "code",
   "execution_count": 67,
   "metadata": {},
   "outputs": [
    {
     "name": "stdout",
     "output_type": "stream",
     "text": [
      "What happened? An exception was raised!\n",
      "THE END.\n"
     ]
    }
   ],
   "source": [
    "def badFun(n):\n",
    "    return 1 / n\n",
    "\n",
    "try:\n",
    "    badFun(0)\n",
    "except ArithmeticError:\n",
    "    print(\"What happened? An exception was raised!\")\n",
    "\n",
    "print(\"THE END.\")"
   ]
  },
  {
   "cell_type": "markdown",
   "metadata": {},
   "source": [
    "## `Raise`"
   ]
  },
  {
   "cell_type": "markdown",
   "metadata": {},
   "source": [
    "Eksepsi tertentu dapat kita panggil secara pakasa dengan menggunakan perintah `raise`, meskipun sebenarnya ada kejadian yang menyebabkan jenis kesalahan tersebut"
   ]
  },
  {
   "cell_type": "code",
   "execution_count": null,
   "metadata": {},
   "outputs": [],
   "source": [
    "def badFun(n):\n",
    "    raise ZeroDivisionError"
   ]
  },
  {
   "cell_type": "markdown",
   "metadata": {},
   "source": [
    "`raise` digunakan untuk memanggil secara paksa dari suatu eksepsi, meskipun tidak ada kejadian yang menyebabkan jenis kesalahan tersebut."
   ]
  },
  {
   "cell_type": "code",
   "execution_count": 10,
   "metadata": {},
   "outputs": [
    {
     "name": "stdout",
     "output_type": "stream",
     "text": [
      "What happened? An error?\n",
      "THE END.\n"
     ]
    }
   ],
   "source": [
    "def badFun(n):\n",
    "    1/n\n",
    "    raise ZeroDivisionError\n",
    "\n",
    "try:\n",
    "    badFun(0)\n",
    "except ArithmeticError:\n",
    "    print(\"What happened? An error?\")\n",
    "\n",
    "print(\"THE END.\")"
   ]
  },
  {
   "cell_type": "code",
   "execution_count": 55,
   "metadata": {},
   "outputs": [
    {
     "name": "stdout",
     "output_type": "stream",
     "text": [
      "I did it again!\n",
      "I see!\n",
      "THE END.\n"
     ]
    }
   ],
   "source": [
    "def badFun(n):\n",
    "    try:\n",
    "        return n / 0\n",
    "    except:\n",
    "        print(\"I did it again!\")\n",
    "        raise\n",
    "\n",
    "try:\n",
    "    badFun(1)\n",
    "except ArithmeticError:\n",
    "    print(\"I see!\")\n",
    "\n",
    "print(\"THE END.\")"
   ]
  },
  {
   "cell_type": "markdown",
   "metadata": {},
   "source": [
    "Pemanggilan `raise` tanpa nama eksepsi hanya dapat dilakukan di dalam bagian `except`\n",
    "\n",
    "Dari kode di atas `ZeroDivisionError` muncul sebanyak dua kali, yaitu:\n",
    "- di dalam `try`\n",
    "- di bagian`except` di dalam fungsi\n"
   ]
  },
  {
   "cell_type": "markdown",
   "metadata": {},
   "source": [
    "## Assert\n",
    "\n",
    "`assert expression`"
   ]
  },
  {
   "cell_type": "markdown",
   "metadata": {},
   "source": [
    "Fungsi assertion:\n",
    "\n",
    "- Assert akan mengevaluasi ekspresi\n",
    "- Jika ekspresi bernilai True atau nilai numerik bukan nol, atau string tidak kosong, atau nilai lain yang berbeda dari `None` tidak akan di eksekusi\n",
    "- Jika selain itu akan muncul eksepsi `AssertionError`\n",
    "\n",
    "Penggunaan assertion:\n",
    "- kita dapat menggunakan assertion jika kita ingin kode yang dibuat benar-benar aman dari data kita belum yakin kebenarannya\n",
    "- mengamankan kode dari hasil yang tidak valid\n",
    "- assertion merupakan pelengkap `exception`"
   ]
  },
  {
   "cell_type": "code",
   "execution_count": 11,
   "metadata": {},
   "outputs": [
    {
     "name": "stdout",
     "output_type": "stream",
     "text": [
      "Enter a number: 9\n",
      "3.0\n"
     ]
    }
   ],
   "source": [
    "import math\n",
    "\n",
    "x = float(input(\"Enter a number: \"))\n",
    "assert x >= 0.0\n",
    "\n",
    "x = math.sqrt(x)\n",
    "\n",
    "print(x)"
   ]
  },
  {
   "cell_type": "markdown",
   "metadata": {},
   "source": [
    "Next >>\n",
    "There are lots of other exceptions to explore - we simply don't have the space to go through them all here.\n",
    "- `ArithmeticError`\n",
    "- `AssertionError`\n",
    "- `BaseException`\n",
    "- `IndexError`\n",
    "- `KeyboardInterrupt`\n",
    "- `LookupError`\n",
    "- `MemoryError`\n",
    "- `OverflowError`\n",
    "- `ImportError`\n",
    "- `KeyError`\n",
    "- etc"
   ]
  },
  {
   "cell_type": "code",
   "execution_count": null,
   "metadata": {},
   "outputs": [],
   "source": []
  }
 ],
 "metadata": {
  "kernelspec": {
   "display_name": "Python 3 (ipykernel)",
   "language": "python",
   "name": "python3"
  },
  "language_info": {
   "codemirror_mode": {
    "name": "ipython",
    "version": 3
   },
   "file_extension": ".py",
   "mimetype": "text/x-python",
   "name": "python",
   "nbconvert_exporter": "python",
   "pygments_lexer": "ipython3",
   "version": "3.9.5"
  }
 },
 "nbformat": 4,
 "nbformat_minor": 2
}
