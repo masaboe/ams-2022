{
 "cells": [
  {
   "cell_type": "markdown",
   "metadata": {},
   "source": [
    "# Python Module 7\n",
    "Object-Oriented Programming\n",
    "\n",
    "Referensi Tambahan:\n",
    "- https://docs.python.org/3.8/\n",
    "- https://docs.python.org/id/3.8/tutorial/\n",
    "- https://www.programiz.com/python-programming/object-oriented-programming\n",
    "\n",
    "## Introduction to OOPs in Python\n",
    "\n",
    "Python itu adalah sebuah bahasa pemrograman multi purpose dan multi paradigm, artinya python dapat men support berbagai pendekatan pemrograman.\n",
    "\n",
    "Salah satu pendekatan yang populer, adalah Object Oriented Programming, atau pemrograman berorientasi objek. Nah selama ini, kita sebetulnya menggunakan pendekatan pemrograman prosedural. Bagaimana perbedaan antara paradigma pemrograman prosedural dengan yang berbasis objek?\n",
    "\n",
    "Sebelumnya kita membahasa dulu apa itu objek. Jadi, objek itu memiliki dua karakteristik.\n",
    "\n",
    "1. attributes\n",
    "2. behavior\n",
    "\n",
    "Mari kita lihat contohnya:\n",
    "\n",
    "Parrot (burung beo) adalah sebuah objek,\n",
    "\n",
    "name, age, color (nama, usia, warna) adalah atributnya\n",
    "singing, dancing (menyanyi, menari) adalah behavior nya\n",
    "\n",
    "Konsep dari OOP dalam python ini berfokus dalam pembuatan kode yang reusable (dapat digunakan kembali). Konsep ini juga dikenal dengan DRY (Don't Repeat Yourself).\n",
    "\n",
    "Dalam python, konsep OOP memiliki beberapa prinsip dasar:\n",
    "\n",
    "| Sifat   | Deskripsi   |\n",
    "|---------------|---------------------------------------------------------------------------------|\n",
    "| Inheritance   | Proses dalam menggunakan atribut dan behaviour dari class yang telah ada sebelumnya.   |\n",
    "| Encapsulation | Menyembunyikan atribut dan behavior yang bersifat private dari kelas lainnya.                       |\n",
    "| Polymorphism  | Sebuah konsep untuk menggunakan operasi yang sama dengan cara yang berbeda pada kelas lain. |\n",
    "\n",
    "Konsep ini akan terlihat lebih mudah dalam prakteknya nanti"
   ]
  },
  {
   "cell_type": "markdown",
   "metadata": {},
   "source": [
    "# Class\n",
    "\n",
    "Class adalah sebuah blueprint untuk objek.\n",
    "\n",
    "Kalau kita berbicara mengenai parrot (burung beo), blueprint atau desainnya, parrot tersebut akan memiliki nama, warna, ukuran, dll. Parrot juga nantinya bisa singing dan dancing. Oleh karena itu kita bisa membuat parrot menjadi sebuah kelas.\n",
    "\n",
    "Untuk membuat kelas parrot yang sederhana kita bisa menuliskan kode berikut :\n",
    "\n",
    "```python\n",
    "class Parrot:\n",
    "```\n",
    "\n",
    "Kata kunci `class` diikuti dengan `Parrot` mendefinisikan blueprint dari class parrot. Blueprint ini nantinya akan di realisasikan dalam sebuah instance.\n"
   ]
  },
  {
   "cell_type": "markdown",
   "metadata": {},
   "source": [
    "# Object / Instance\n",
    "\n",
    "Sebuah objek (instance) adalah perwujudan dari sebuah class.\n",
    "\n",
    "Contoh dari membuat sebuah objek (instance) adalah sebagai berikut:\n",
    "```python\n",
    "papi = Parrot()\n",
    "```\n",
    "\n",
    "Disini, `papi` adalah perwujudan `Parrot`\n",
    "\n",
    "Sekarang coba kita lihat kode lengkap dari pembuatan objek dan class"
   ]
  },
  {
   "cell_type": "code",
   "execution_count": 3,
   "metadata": {},
   "outputs": [
    {
     "name": "stdout",
     "output_type": "stream",
     "text": [
      "Papi is a bird\n",
      "Bejo is a bird\n",
      "Papi is 3 years old\n",
      "Bejo is 2 years old\n"
     ]
    }
   ],
   "source": [
    "class Parrot:\n",
    "    #class attribute\n",
    "    species = \"bird\"\n",
    "    \n",
    "    #instance attribute\n",
    "    #constructor\n",
    "    def __init__(self, name, age):\n",
    "        self.name = name\n",
    "        self.age = age\n",
    "        \n",
    "# instantiate the parrot class\n",
    "papi = Parrot(\"Papi\", 3)\n",
    "bejo = Parrot(\"Bejo\", 2)\n",
    "\n",
    "# access the class attributes\n",
    "print(\"Papi is a \"+ papi.species)\n",
    "print(\"Bejo is a \"+ bejo.species)\n",
    "\n",
    "#access the instance attributes\n",
    "print(papi.name + \" is \"+ str(papi.age) + \" years old\")\n",
    "print(bejo.name + \" is \"+ str(bejo.age) + \" years old\")"
   ]
  },
  {
   "cell_type": "markdown",
   "metadata": {},
   "source": [
    "Dalam program diatas, kita baru saja membuat class dengan nama `Parrot`. Kemudian, kita mendifinisikan atribut dari parrot yaitu `name` dan `age`. Atribut merupakan karakteristik dari objek.\n",
    "\n",
    "Kemudian, kita membuat instance, atau realisasi, atau perwujudan dari class `Parrot`. Disini `papi` dan `greeny` adalah instance-nya.\n",
    "\n",
    "Kemudian, kita dapat mengakses atributnya melalui instance dengan diikuti tanda `.`"
   ]
  },
  {
   "cell_type": "markdown",
   "metadata": {},
   "source": [
    "# Buatlah sebuah Objek bernama Siswa \n",
    "yang memiliki atribut:\n",
    "- nis\n",
    "- nama\n",
    "- alamat\n",
    "- daftar mata pelajaran diambil\n",
    "- daftar nilai dari mata pelajaran tersebut\n",
    "\n",
    "atribut ini di deklarasikan di konstruktor.\n",
    "\n",
    "Buatlah method untuk:\n",
    "- Menampilkan detail siswa (`tampilkan()`)\n",
    "- Mengisikan data ke `mapel` dan `n` dengan method `tambahNilai(mapel,n)` \n",
    "- Menampilkan mata_pelajaran dan nilainya dengan method `tampilkanNilai()`\n",
    "- Menampilkan rata-rata nilai dengan method `tampilkanRataNilai()`\n"
   ]
  },
  {
   "cell_type": "code",
   "execution_count": 9,
   "metadata": {},
   "outputs": [
    {
     "name": "stdout",
     "output_type": "stream",
     "text": [
      "123 Abu Salam Semarang\n",
      "1 Python 1 100\n",
      "2 Big Data 100\n",
      "3 Deep Learning 100\n"
     ]
    }
   ],
   "source": [
    "class Siswa:\n",
    "    \n",
    "    def __init__(self, nis, nama, alamat):\n",
    "        self.nis = nis\n",
    "        self.nama = nama\n",
    "        self.alamat = alamat\n",
    "        self.__mata_pelajaran = []\n",
    "        self.__nilai = []\n",
    "    \n",
    "    def tampilkan(self):\n",
    "        print(self.nis, self.nama, self.alamat)\n",
    "        \n",
    "    def tambahNilai(self, mapel, n):\n",
    "        self.__mata_pelajaran.append(mapel)\n",
    "        self.__nilai.append(n)\n",
    "        \n",
    "    def tampilkanNilai(self):\n",
    "        for i,j in enumerate(self.__mata_pelajaran):\n",
    "            print(i+1, self.__mata_pelajaran[i], self.__nilai[i])\n",
    "\n",
    "abu = Siswa(\"123\", \"Abu Salam\", \"Semarang\")\n",
    "salman = Siswa(\"124\", \"Abisatya Salman\", \"Tembalang\")\n",
    "\n",
    "abu.tambahNilai(\"Python 1\", 100)\n",
    "abu.tambahNilai(\"Big Data\", 100)\n",
    "abu.tambahNilai(\"Deep Learning\", 100)\n",
    "\n",
    "salman.tambahNilai(\"Python 1\", 99)\n",
    "\n",
    "abu.tampilkan()\n",
    "abu.tampilkanNilai()"
   ]
  },
  {
   "cell_type": "markdown",
   "metadata": {},
   "source": [
    "### Instance variables\n",
    "\n",
    "Dinamakan instance variable karena variabel tersebut adalah milik dari tiap instance/objek dari suatu kelas. Artinya, jika sebuah kelas memiliki instance variable dengan nama a, maka setiap instance dari kelas tersebut akan memiliki variabel a sendiri-sendiri.\n",
    "\n",
    "Di dalam python, setiap variabel yang didefinisikan di dalam fungsi pada sebuah kelas (lewat variabel self), maka ia dikatakan instance variable."
   ]
  },
  {
   "cell_type": "markdown",
   "metadata": {},
   "source": [
    "### Class variables / Static Variable\n",
    "Class variables / static variable adalah variabel statis yang jumlah copy-nya hanya ada satu saja selama aplikasi dijalankan.\n",
    "\n",
    "Misal kita memiliki sebuah kelas, dan kelas tersebut memiliki seratus instance, tetap saja static variable dari kelas tersebut hanya ada satu saja di memori. Oleh karena itu, static variable juga sering dikenal dengan istilah class variable."
   ]
  },
  {
   "cell_type": "markdown",
   "metadata": {},
   "source": [
    "# Methods\n",
    "\n",
    "Methods adalah function yang didefinisikan dalam sebuah class. Function ini seharusnya mendefinisikan behavior dari objeknya."
   ]
  },
  {
   "cell_type": "code",
   "execution_count": 16,
   "metadata": {},
   "outputs": [
    {
     "name": "stdout",
     "output_type": "stream",
     "text": [
      "Papi sing 'halo halo bandung'\n",
      "is now dancing \n"
     ]
    }
   ],
   "source": [
    "class Parrot:\n",
    "    \n",
    "    #instance attribute\n",
    "    def __init__(self, name, age):\n",
    "        self.name = name\n",
    "        self.age = age\n",
    "        \n",
    "    #instance method\n",
    "    def sing(self, song):\n",
    "        return \"{} sing {}\".format(self.name, song)\n",
    "    \n",
    "    def dance(self):\n",
    "        return \"is now dancing \".format(self.name)\n",
    "    \n",
    "# instantiate the parrot class\n",
    "papi = Parrot(\"Papi\", 3)\n",
    "bejo = Parrot(\"Bejo\", 2)\n",
    "\n",
    "# call our instance methods\n",
    "print(papi.sing(\"'halo halo bandung'\"))\n",
    "print(papi.dance())"
   ]
  },
  {
   "cell_type": "markdown",
   "metadata": {},
   "source": [
    "Dalam program diatas, kita mendefinisikan dua method yaitu `sing` dan `dance`. Mereka adalah `instance method` yang dipanggil pada instance objek yaitu `papi`."
   ]
  },
  {
   "cell_type": "markdown",
   "metadata": {},
   "source": [
    "#### Next >> LAB 3.4.1.12 The Timer class and other"
   ]
  },
  {
   "cell_type": "markdown",
   "metadata": {},
   "source": [
    "# Inheritance / Pewarisan\n",
    "\n",
    "Inheritance adalah sebuah cara untuk membuat class baru dengan menggunakan detail dari kelas lainnya. Kelas yang baru ini akan mewariskan atribut serta method yang sudah didefinisikan dari class utamanya. Kelas yang baru ini sering disebut dengan `child class` dan kelas yang digunakan detailnya sering disebut sebagai `parent class`.\n",
    "\n"
   ]
  },
  {
   "cell_type": "code",
   "execution_count": 17,
   "metadata": {},
   "outputs": [
    {
     "name": "stdout",
     "output_type": "stream",
     "text": [
      "Bird is ready\n",
      "Penguin is ready\n",
      "Penguin\n",
      "Swim Faster\n",
      "Run Faster\n"
     ]
    }
   ],
   "source": [
    "#parent\n",
    "class Bird:\n",
    "    \n",
    "    def __init__(self):\n",
    "        print(\"Bird is ready\")\n",
    "    \n",
    "    def whoIsThis(self):\n",
    "        print(\"Bird\")\n",
    "    \n",
    "    def swim(self):\n",
    "        print(\"Swim Faster\")\n",
    "        \n",
    "#child\n",
    "class Penguin(Bird):\n",
    "    \n",
    "    def __init__(self):\n",
    "        super().__init__()\n",
    "        print(\"Penguin is ready\")\n",
    "    \n",
    "    def whoIsThis(self):\n",
    "        print(\"Penguin\")\n",
    "    \n",
    "    def run(self):\n",
    "        print(\"Run Faster\")\n",
    "\n",
    "pingu = Penguin()\n",
    "pingu.whoIsThis()\n",
    "pingu.swim()\n",
    "pingu.run()"
   ]
  },
  {
   "cell_type": "markdown",
   "metadata": {},
   "source": [
    "### How Python finds properties and methods\n",
    "Now we're going to look at how Python deals with inheriting methods.\n",
    "\n",
    "Take a look at the example in the editor. Let's analyze it:\n",
    "\n",
    "- there is a class named `Super`, which defines its own constructor used to assign the object's property, named `name`.\n",
    "- the class defines the `__str__()` method, too, which makes the class able to present its identity in clear text form.\n",
    "- the class is next used as a base to create a subclass named `Sub`. The `Sub` class defines its own constructor, which invokes the one from the superclass. Note how we've done it: `Super.__init__(self, name)`.\n",
    "- we've explicitly named the superclass, and pointed to the method to invoke `__init__()`, providing all needed arguments.\n",
    "- we've instantiated one object of class `Sub` and printed it.\n",
    "\n",
    "#### The code outputs:\n",
    "\n",
    "`My name is Andy.`\n",
    "\n",
    "Note: As there is no `__str__()` method within the `Sub` class, the printed string is to be produced within the `Super` class. This means that the `__str__()` method has been inherited by the `Sub` class."
   ]
  },
  {
   "cell_type": "code",
   "execution_count": 26,
   "metadata": {},
   "outputs": [
    {
     "name": "stdout",
     "output_type": "stream",
     "text": [
      "My Name is Aboe.\n"
     ]
    }
   ],
   "source": [
    "class Super:\n",
    "    def __init__(self, name):\n",
    "        self.name = name\n",
    "        \n",
    "    def __str__(self):\n",
    "        return \"My Name is \"+ self.name + \".\"\n",
    "    \n",
    "class Sub(Super):\n",
    "    def __init__(self, name):\n",
    "        Super.__init__(self, name)\n",
    "        \n",
    "obj = Sub(\"Aboe\")\n",
    "print(obj)"
   ]
  },
  {
   "cell_type": "markdown",
   "metadata": {},
   "source": [
    "### Kasus Lain"
   ]
  },
  {
   "cell_type": "code",
   "execution_count": 27,
   "metadata": {},
   "outputs": [
    {
     "name": "stdout",
     "output_type": "stream",
     "text": [
      "Bird is ready\n",
      "Penguin is ready\n",
      "Penguin\n",
      "Swim faster\n",
      "Run faster\n"
     ]
    }
   ],
   "source": [
    "# parent class\n",
    "class Bird:\n",
    "    \n",
    "    def __init__(self):\n",
    "        print(\"Bird is ready\")\n",
    "\n",
    "    def whoisThis(self):\n",
    "        print(\"Bird\")\n",
    "\n",
    "    def swim(self):\n",
    "        print(\"Swim faster\")\n",
    "\n",
    "# child class\n",
    "class Penguin(Bird):\n",
    "\n",
    "    def __init__(self):\n",
    "        # call super() function\n",
    "        super().__init__()\n",
    "        print(\"Penguin is ready\")\n",
    "\n",
    "    def whoisThis(self):\n",
    "        print(\"Penguin\")\n",
    "\n",
    "    def run(self):\n",
    "        print(\"Run faster\")\n",
    "\n",
    "peggy = Penguin()\n",
    "peggy.whoisThis()\n",
    "peggy.swim()\n",
    "peggy.run()"
   ]
  },
  {
   "cell_type": "markdown",
   "metadata": {},
   "source": [
    "Hal penting yang dapat diperhatikan:\n",
    "- Bird adalah parent class dari Penguin dengan sintaks `Penguin(Bird)`. Relasi pewarisan ini harus di validasi dengan hubungan \"is a\". Contohnya Penguin is a Bird merupakan valid karena Penguin adalah termasuk Bird.\n",
    "- `super().__init__()` memanggil konstruktor dari kelas parent nya\n",
    "- method `whoisThis()` yang ditulis ulang di `Penguin` akan menimpa atau override method yang sudah ada di parent class (`Bird`).\n",
    "- method swim dapat dipanggil oleh instance dari `Penguin` karena `Penguin` sudah mewarisi seluruh method yang ada pada kelas `Bird`."
   ]
  },
  {
   "cell_type": "markdown",
   "metadata": {},
   "source": [
    "# Encapsulation\n",
    "\n",
    "Kita dapat membatasi akses atribut dan method dalam sebuah kelas dengan memanfaatkan sifat private yang di definisikan dengan garis bawah atau underscore single `_` atau double `__`\n"
   ]
  },
  {
   "cell_type": "code",
   "execution_count": 32,
   "metadata": {},
   "outputs": [
    {
     "name": "stdout",
     "output_type": "stream",
     "text": [
      "Selling Price: 900\n",
      "Selling Price: 900\n",
      "Selling Price: 1000\n"
     ]
    }
   ],
   "source": [
    "class Computer:\n",
    "    \n",
    "    def __init__(self):\n",
    "        self.__maxprice = 900\n",
    "        \n",
    "    def sell(self):\n",
    "        print(\"Selling Price: {}\".format(self.__maxprice))\n",
    "        \n",
    "    def setMaxPrice(self, price):\n",
    "        self.__maxprice = price\n",
    "        \n",
    "c = Computer()\n",
    "c.sell()\n",
    "\n",
    "#change the price\n",
    "c.__maxprice = 1000\n",
    "c.sell()\n",
    "\n",
    "#using setter function\n",
    "c.setMaxPrice(1000)\n",
    "c.sell()"
   ]
  },
  {
   "cell_type": "markdown",
   "metadata": {},
   "source": [
    "Pada program diatas, atribut `saldo` bersifat private karena kita memberikan underscore `__maxprice`. Oleh karena itu, kita tidak bisa meruba nya secara langsung seperti dengan sintaks `c.__maxprice = 1000`. Pada umumnya, atribut private ini dapat kita rubah dengan melewatkan pada sebuah method yang publik. Dalam hal ini method tersebut adalah `setMaxPrice()`"
   ]
  },
  {
   "cell_type": "markdown",
   "metadata": {},
   "source": [
    "# Polymorphism\n",
    "\n",
    "Sebuah konsep untuk menggunakan operasi yang sama dengan cara yang berbeda pada kelas lain.\n",
    "\n",
    "Misalkan, kita perlu mewarnai sebuah bentuk, ada beberapa pilihan bentuk (persegi panjang, persegi, lingkaran). Namun kita bisa menggunakan metode yang sama untuk mewarnai bentuk apapun. Konsep ini disebut Polimorfisme."
   ]
  },
  {
   "cell_type": "code",
   "execution_count": 33,
   "metadata": {},
   "outputs": [
    {
     "name": "stdout",
     "output_type": "stream",
     "text": [
      "Parrot can Fly\n",
      "Parrot can't Fly\n"
     ]
    }
   ],
   "source": [
    "class Parrot:\n",
    "    \n",
    "    def fly(self):\n",
    "        print(\"Parrot can Fly\")\n",
    "        \n",
    "    def swim(self):\n",
    "        print(\"Parrot can't swim\")\n",
    "        \n",
    "class Penguin:\n",
    "    \n",
    "    def fly(self):\n",
    "        print(\"Parrot can't Fly\")\n",
    "        \n",
    "    def swim(self):\n",
    "        print(\"Parrot can swim\")\n",
    "\n",
    "# common interface\n",
    "def flying_test(bird):\n",
    "    bird.fly()\n",
    "\n",
    "#instantiate object\n",
    "blu = Parrot()\n",
    "pingu = Penguin()\n",
    "\n",
    "#passing the object\n",
    "flying_test(blu)\n",
    "flying_test(pingu)"
   ]
  },
  {
   "cell_type": "markdown",
   "metadata": {},
   "source": [
    "Dalam program di atas, didefinisikan dua kelas: Parrot dan Penguin. Masing-masing memiliki metode fly() yang sama. tapi dengan fungsi yang berbeda.\n",
    "\n",
    "Untuk menggunakan Polymorphism, dibuatkan antarmuka umum yaitu fungsi flying_test() yang mengambil objek apa pun dan memanggil metode fly() objek. Jadi, ketika objek blu dan pingu dipanggail dalam fungsi flying_test(), akan berjalan secara efektif."
   ]
  },
  {
   "cell_type": "markdown",
   "metadata": {},
   "source": [
    "### Key Points to Remember:\n",
    "- Object-Oriented Programming makes the program easy to understand as well as efficient.\n",
    "- Since the class is sharable, the code can be reused.\n",
    "- Data is safe and secure with data abstraction.\n",
    "- Polymorphism allows the same interface for different objects, so programmers can write efficient code."
   ]
  },
  {
   "cell_type": "markdown",
   "metadata": {},
   "source": [
    "# CONTOH"
   ]
  },
  {
   "attachments": {
    "stack.PNG": {
     "image/png": "[encoded data removed]"
    }
   },
   "cell_type": "markdown",
   "metadata": {},
   "source": [
    "![stack.PNG](attachment:stack.PNG)\n",
    "Lihat kode dengan paradigma prosedural berikut:"
   ]
  },
  {
   "cell_type": "code",
   "execution_count": 1,
   "metadata": {},
   "outputs": [
    {
     "name": "stdout",
     "output_type": "stream",
     "text": [
      "1\n",
      "2\n",
      "3\n"
     ]
    }
   ],
   "source": [
    "stack = []\n",
    "\n",
    "def push(val):\n",
    "    stack.append(val)\n",
    "\n",
    "|\n",
    "def pop():\n",
    "    val = stack[-1]\n",
    "    del stack[-1]\n",
    "    return val\n",
    "\n",
    "push(3)\n",
    "push(2)\n",
    "push(1)\n",
    "\n",
    "print(pop())\n",
    "print(pop())\n",
    "print(pop())"
   ]
  },
  {
   "cell_type": "markdown",
   "metadata": {},
   "source": [
    "### Pertama buat atributnya"
   ]
  },
  {
   "cell_type": "code",
   "execution_count": 35,
   "metadata": {},
   "outputs": [
    {
     "name": "stdout",
     "output_type": "stream",
     "text": [
      "0\n"
     ]
    }
   ],
   "source": [
    "class Stack:\n",
    "    def __init__(self):\n",
    "        self.stackList = []\n",
    "\n",
    "stackObject = Stack()\n",
    "print(len(stackObject.stackList))"
   ]
  },
  {
   "cell_type": "markdown",
   "metadata": {},
   "source": [
    "### Kemudian ubah atributnya menjadi private"
   ]
  },
  {
   "cell_type": "code",
   "execution_count": 36,
   "metadata": {},
   "outputs": [],
   "source": [
    "class Stack:\n",
    "    def __init__(self):\n",
    "        self.__stackList = [] # __ membuat private\n",
    "\n",
    "stackObject = Stack()\n",
    "#print(len(stackObject.__stackList))"
   ]
  },
  {
   "cell_type": "markdown",
   "metadata": {},
   "source": [
    "### Tambahkan method push dan pop nya"
   ]
  },
  {
   "cell_type": "code",
   "execution_count": 37,
   "metadata": {},
   "outputs": [
    {
     "name": "stdout",
     "output_type": "stream",
     "text": [
      "1\n",
      "2\n",
      "3\n"
     ]
    }
   ],
   "source": [
    "class Stack:\n",
    "    def __init__(self):\n",
    "        self.__stackList = []\n",
    "\n",
    "    def push(self, val):\n",
    "        self.__stackList.append(val)\n",
    "\n",
    "    def pop(self):\n",
    "        val = self.__stackList[-1]\n",
    "        del self.__stackList[-1]\n",
    "        return val\n",
    "\n",
    "\n",
    "stackObject = Stack()\n",
    "\n",
    "stackObject.push(3)\n",
    "stackObject.push(2)\n",
    "stackObject.push(1)\n",
    "\n",
    "print(stackObject.pop())\n",
    "print(stackObject.pop())\n",
    "print(stackObject.pop())"
   ]
  },
  {
   "cell_type": "markdown",
   "metadata": {},
   "source": [
    "### Contoh dengan beberapa Instance"
   ]
  },
  {
   "cell_type": "code",
   "execution_count": 38,
   "metadata": {},
   "outputs": [
    {
     "name": "stdout",
     "output_type": "stream",
     "text": [
      "0\n"
     ]
    }
   ],
   "source": [
    "class Stack:\n",
    "    def __init__(self):\n",
    "        self.__stackList = []\n",
    "\n",
    "    def push(self, val):\n",
    "        self.__stackList.append(val)\n",
    "\n",
    "    def pop(self):\n",
    "        val = self.__stackList[-1]\n",
    "        del self.__stackList[-1]\n",
    "        return val\n",
    "\n",
    "littleStack = Stack()\n",
    "anotherStack = Stack()\n",
    "funnyStack = Stack()\n",
    "\n",
    "littleStack.push(1)\n",
    "anotherStack.push(littleStack.pop() + 1)\n",
    "funnyStack.push(anotherStack.pop() - 2)\n",
    "\n",
    "print(funnyStack.pop())"
   ]
  },
  {
   "cell_type": "markdown",
   "metadata": {},
   "source": [
    "### Inheritance"
   ]
  },
  {
   "cell_type": "code",
   "execution_count": 39,
   "metadata": {},
   "outputs": [
    {
     "name": "stdout",
     "output_type": "stream",
     "text": [
      "10\n",
      "4\n",
      "3\n",
      "2\n",
      "1\n",
      "0\n"
     ]
    }
   ],
   "source": [
    "class Stack:\n",
    "    def __init__(self):\n",
    "        self.__stackList = []\n",
    "\n",
    "    def push(self, val):\n",
    "        self.__stackList.append(val)\n",
    "\n",
    "    def pop(self):\n",
    "        val = self.__stackList[-1]\n",
    "        del self.__stackList[-1]\n",
    "        return val\n",
    "\n",
    "\n",
    "class AddingStack(Stack):\n",
    "    def __init__(self):\n",
    "        Stack.__init__(self)\n",
    "        self.__sum = 0\n",
    "\n",
    "    def getSum(self):\n",
    "        return self.__sum\n",
    "\n",
    "    def push(self, val):\n",
    "        self.__sum += val\n",
    "        Stack.push(self, val)\n",
    "\n",
    "    def pop(self):\n",
    "        val = Stack.pop(self)\n",
    "        self.__sum -= val\n",
    "        return val\n",
    "\n",
    "\n",
    "stackObject = AddingStack()\n",
    "\n",
    "for i in range(5):\n",
    "    stackObject.push(i)\n",
    "print(stackObject.getSum())\n",
    "\n",
    "for i in range(5):\n",
    "    print(stackObject.pop())"
   ]
  },
  {
   "cell_type": "markdown",
   "metadata": {},
   "source": [
    "### Contoh lain"
   ]
  },
  {
   "cell_type": "code",
   "execution_count": 40,
   "metadata": {},
   "outputs": [
    {
     "name": "stdout",
     "output_type": "stream",
     "text": [
      "Guntur\n",
      "Guntur\n",
      "Matematika 90\n",
      "Biologi 80\n"
     ]
    }
   ],
   "source": [
    "class Siswa:\n",
    "    #class atribut\n",
    "    __jmlMapel = 0\n",
    "    __mapel = []\n",
    "    __nilai = []\n",
    "\n",
    "    def __init__(self, nama, alamat):\n",
    "        self.nama = nama\n",
    "        self.alamat = alamat\n",
    "        \n",
    "    def getNama(self):\n",
    "        return self.nama\n",
    "    \n",
    "    def tambahNilaiMapel(self,mapel,nilai):\n",
    "        self.__mapel.append(mapel)\n",
    "        self.__nilai.append(nilai)\n",
    "        \n",
    "    def cetakNilai(self):\n",
    "        for i,j in enumerate(self.__mapel):\n",
    "            print(self.__mapel[i], self.__nilai[i])\n",
    "    \n",
    "    \n",
    "s = Siswa(\"Guntur\",\"Jogja\")\n",
    "print(s.nama) # boleh karena publik\n",
    "print(s.getNama()) # bisa juga\n",
    "s.tambahNilaiMapel(\"Matematika\",90)\n",
    "s.tambahNilaiMapel(\"Biologi\",80)\n",
    "\n",
    "s.cetakNilai() # akses nilai hanya lewat sini\n",
    "\n",
    "# print(s.nilai) # ga boleh karena private\n",
    "# print(s.__nilai) # ga boleh karena private"
   ]
  },
  {
   "cell_type": "markdown",
   "metadata": {},
   "source": [
    "## Latihan OOP\n",
    "![Circle Class](https://i.pinimg.com/originals/e2/e0/b8/e2e0b845017353dc3b614de2c30ccab4.png)\n",
    "\n"
   ]
  },
  {
   "cell_type": "code",
   "execution_count": 41,
   "metadata": {},
   "outputs": [
    {
     "name": "stdout",
     "output_type": "stream",
     "text": [
      "12.566370614359172\n",
      "12.566370614359172\n",
      "3.141592653589793\n"
     ]
    }
   ],
   "source": [
    "import math\n",
    "class Circle:\n",
    "    def __init__(self, radius, color):\n",
    "        self.__radius = radius\n",
    "        self.__color = color\n",
    "        \n",
    "    def getRadius(self):\n",
    "        return self.__radius\n",
    "    \n",
    "    def setRadius(self,radius):\n",
    "        self.__radius = radius\n",
    "    \n",
    "    def getColor(self):\n",
    "        return self.__color\n",
    "    \n",
    "    def setColor(self,color):\n",
    "        self.__color = color\n",
    "    \n",
    "    def getArea(self):\n",
    "        return math.pi * self.__radius ** 2\n",
    "    \n",
    "\n",
    "# radius = 2, color = blue\n",
    "c1 = Circle(2,\"blue\")\n",
    "# c1.setRadius(2)\n",
    "# c1.setColor(\"blue\")\n",
    "print(c1.getArea())\n",
    "\n",
    "# radius = 2, color = red\n",
    "c2 = Circle(2,\"red\")\n",
    "# c2.setRadius(2)\n",
    "# c2.setColor(\"red\")\n",
    "print(c2.getArea())\n",
    "\n",
    "# radius = 1, color = red\n",
    "c3 = Circle(1,\"red\")\n",
    "# c3.setRadius(1)\n",
    "# c3.setColor(\"red\")\n",
    "print(c3.getArea())"
   ]
  },
  {
   "cell_type": "markdown",
   "metadata": {},
   "source": [
    "![Student Class](https://1.bp.blogspot.com/-u4BocN8-Hf0/YEI99UiIR1I/AAAAAAAARhI/t56mJ3tAxhc-azHK-z1_XJOeqdTx5723QCLcBGAsYHQ/s642/ClassDiagram_Student.png)"
   ]
  },
  {
   "cell_type": "code",
   "execution_count": 42,
   "metadata": {},
   "outputs": [
    {
     "name": "stdout",
     "output_type": "stream",
     "text": [
      "Masukkan Jumlah Siswa = 2\n",
      "Masukkkan Jumlah Course = 2\n",
      "Masukkan Nama Siswa = Abu\n",
      "Masukkan Alamat Siswa = Semarang\n",
      "Masukkan Nama Mapel Siswa Abu = Python\n",
      "Masukkan Nilai Mapel Siswa Abu = 90\n",
      "Masukkan Nama Mapel Siswa Abu = Big Data\n",
      "Masukkan Nilai Mapel Siswa Abu = 99\n",
      "Masukkan Nama Siswa = Salman\n",
      "Masukkan Alamat Siswa = Semarang\n",
      "Masukkan Nama Mapel Siswa Salman = Python\n",
      "Masukkan Nilai Mapel Siswa Salman = 95\n",
      "Masukkan Nama Mapel Siswa Salman = Big Data\n",
      "Masukkan Nilai Mapel Siswa Salman = 95\n",
      "Hasil\n",
      "Abu Semarang\n",
      "Python : 90\n",
      "Big Data : 99\n",
      "Rata-Rata :  94.5\n",
      "Salman Semarang\n",
      "Python : 95\n",
      "Big Data : 95\n",
      "Rata-Rata :  95.0\n"
     ]
    }
   ],
   "source": [
    "class Student:\n",
    "    def __init__(self,name,address):\n",
    "        self.__name = name\n",
    "        self.__address = address\n",
    "        self.__numCourses = 0\n",
    "        self.__courses = []\n",
    "        self.__grades = []\n",
    "        \n",
    "    def getName(self):\n",
    "        return self.__name\n",
    "    \n",
    "    def getAddress(self):\n",
    "        return self.__address\n",
    "    \n",
    "    def setAddress(self,address):\n",
    "        self.__address = address\n",
    "        \n",
    "    def addCourseGrade(self,course,grade):\n",
    "        self.__courses.append(course)\n",
    "        self.__grades.append(grade)\n",
    "        self.__numCourses += 1\n",
    "        \n",
    "    def printGrades(self):\n",
    "        for i in range(len(self.__courses)):\n",
    "            print(self.__courses[i] +\" : \"+ str(self.__grades[i]))\n",
    "            \n",
    "    def getAverageGrade(self):\n",
    "        sum = 0\n",
    "        for n in self.__grades:\n",
    "            sum += n\n",
    "        return sum / len(self.__grades)\n",
    "            \n",
    "\n",
    "n_siswa = int(input(\"Masukkan Jumlah Siswa = \"))\n",
    "n_course = int(input(\"Masukkkan Jumlah Course = \"))\n",
    "\n",
    "siswa = []\n",
    "for i in range(n_siswa):\n",
    "    nama = input(\"Masukkan Nama Siswa = \")\n",
    "    alamat = input(\"Masukkan Alamat Siswa = \")\n",
    "    siswa.append(Student(nama,alamat))\n",
    "    for j in range(n_course):\n",
    "        mapel = input(\"Masukkan Nama Mapel Siswa \"+nama+\" = \")\n",
    "        nilai = int(input(\"Masukkan Nilai Mapel Siswa \"+nama+\" = \"))\n",
    "        siswa[i].addCourseGrade(mapel,nilai)\n",
    "\n",
    "print(\"Hasil\")\n",
    "for i in range(n_siswa):\n",
    "    print(siswa[i].getName(),siswa[i].getAddress())\n",
    "    siswa[i].printGrades()\n",
    "    print(\"Rata-Rata : \", siswa[i].getAverageGrade())\n",
    "\n",
    "# s1 = Student(\"Ani\",\"Yogyakarta\")\n",
    "# print(s1.getName(),s1.getAddress())\n",
    "# s1.addCourseGrade(\"Matematika\",95)\n",
    "# s1.addCourseGrade(\"IPA\",90)\n",
    "# s1.addCourseGrade(\"Bahasa Indonesia\",85)\n",
    "# s1.printGrades()\n",
    "# print(\"Rata-Rata : \", s1.getAverageGrade())\n",
    "\n",
    "# print()\n",
    "# s2 = Student(\"Budi\",\"Jakarta\")\n",
    "# print(s2.getName(),s2.getAddress())\n",
    "# s2.addCourseGrade(\"Matematika\",60)\n",
    "# s2.addCourseGrade(\"IPA\",70)\n",
    "# s2.addCourseGrade(\"Bahasa Indonesia\",100)\n",
    "# s2.printGrades()\n",
    "# print(\"Rata-Rata : \", s2.getAverageGrade())"
   ]
  },
  {
   "attachments": {
    "Employee.png": {
     "image/png": "[encoded data removed]"
    }
   },
   "cell_type": "markdown",
   "metadata": {},
   "source": [
    "![Employee.png](attachment:Employee.png)"
   ]
  },
  {
   "cell_type": "code",
   "execution_count": 43,
   "metadata": {},
   "outputs": [
    {
     "name": "stdout",
     "output_type": "stream",
     "text": [
      "Guntur Budi\n",
      "69000\n"
     ]
    }
   ],
   "source": [
    "class Employee:\n",
    "    def __init__(self,idEmp,firstName,lastName,salary):\n",
    "        self.__idEmp = idEmp\n",
    "        self.__firstName = firstName\n",
    "        self.__lastName = lastName\n",
    "        self.__salary = salary\n",
    "    \n",
    "    def getID(self):\n",
    "        return self.__idEmp\n",
    "    \n",
    "    def getFirstName(self):\n",
    "        return self.__firstName\n",
    "    \n",
    "    def getLastName(self):\n",
    "        return self.__lastName\n",
    "    \n",
    "    def getName(self):\n",
    "        return self.__firstName + \" \" + self.__lastName\n",
    "    \n",
    "    def getSalary(self):\n",
    "        return self.__salary\n",
    "    \n",
    "    def setSalary(self,salary):\n",
    "        self.__salary = salary\n",
    "        \n",
    "    def getAnnualSalary(self):\n",
    "        return self.__salary * 12\n",
    "    \n",
    "    def raiseSalary(self,percent):\n",
    "        self.__salary += self.__salary * (percent/100)\n",
    "        return self.__salary\n",
    "    \n",
    "    def __str__(self):\n",
    "        return self.getName() + \" \" + str(self.getSalary())\n",
    "        \n",
    "\n",
    "class Manager(Employee):\n",
    "    def __init__(self,idEmp,firstName,lastName,salary,bonus):\n",
    "        super().__init__(idEmp,firstName,lastName,salary)\n",
    "        self.__bonus = bonus\n",
    "        \n",
    "    def setBranch(self, branch):\n",
    "        self.__branch = branch\n",
    "    \n",
    "    def getBranch(self, branch):\n",
    "        return self.__branch\n",
    "    \n",
    "    def getBonus(self, bonus):\n",
    "        return self.__bonus\n",
    "    \n",
    "    def setBonus(self, bonus):\n",
    "        self.__bonus = bonus\n",
    "        \n",
    "    def getAnnualSalary(self):\n",
    "        return super().getSalary() * 12 + self.__bonus\n",
    "        \n",
    "\n",
    "m1 = Manager(1234,\"Guntur\",\"Budi\",5000,9000)\n",
    "print(m1.getName())\n",
    "print(m1.getAnnualSalary())\n",
    "\n",
    "# e1 = Employee(1234,\"Guntur\",\"Budi\",5000)\n",
    "# print(e1.getSalary())\n",
    "# print(e1.getAnnualSalary())\n",
    "# print(e1.raiseSalary(50))\n",
    "# print(e1.getAnnualSalary())\n",
    "# print(e1)"
   ]
  },
  {
   "cell_type": "markdown",
   "metadata": {},
   "source": [
    "![turunan people](https://i.warosu.org/data/g/img/0546/66/1463830198319.png)"
   ]
  },
  {
   "cell_type": "code",
   "execution_count": 44,
   "metadata": {},
   "outputs": [],
   "source": [
    "class Person:\n",
    "    def __init__(self,name,address):\n",
    "        self.__name = name\n",
    "        self.__address = address\n",
    "    \n",
    "    def getName(self):\n",
    "        return self.__name\n",
    "    \n",
    "    def getAddress(self):\n",
    "        return self.__address\n",
    "    \n",
    "    def setName(name):\n",
    "        self.__name = name\n",
    "        \n",
    "    def __str__(self):\n",
    "        return self.__name+\" \"+self.__address\n",
    "        "
   ]
  },
  {
   "cell_type": "code",
   "execution_count": 45,
   "metadata": {},
   "outputs": [],
   "source": [
    "class Student(Person):\n",
    "    def __init__(self,name,address):\n",
    "        super().__init__(name,address)\n",
    "        self.__numCourses = 0\n",
    "        self.__courses = []\n",
    "        self.__grades = []        \n",
    "    \n",
    "    def addCourseGrade(self,course,grade):\n",
    "        self.__courses.append(course)\n",
    "        self.__grades.append(grade)\n",
    "        self.__numCourses += 1\n",
    "        \n",
    "    def printGrades(self):\n",
    "        for i in range(len(self.__courses)):\n",
    "            print(self.__courses[i] +\" : \"+ str(self.__grades[i]))\n",
    "            \n",
    "    def getAverageGrade(self):\n",
    "        sum = 0\n",
    "        for n in self.__grades:\n",
    "            sum += n\n",
    "        return sum / len(self.__grades)\n",
    "    \n",
    "    def __str__(self):\n",
    "        return \"Student: \" + super().getName() + \" \" +super().getAddress()"
   ]
  },
  {
   "cell_type": "code",
   "execution_count": 46,
   "metadata": {},
   "outputs": [],
   "source": [
    "class Teacher(Person):\n",
    "    def __init__(self,name,address):\n",
    "        super().__init__(name,address)\n",
    "        self.__numCourses = 0\n",
    "        self.__courses = []\n",
    "        \n",
    "    def addCourse(self, course):\n",
    "        if course not in self.__courses:\n",
    "            self.__courses.append(course)\n",
    "            return True\n",
    "        else:\n",
    "            return False\n",
    "        \n",
    "    def removeCourse(self, course):\n",
    "        if course in self.__courses:\n",
    "            i = self.__courses.index(course)\n",
    "            del self.__courses[i]\n",
    "            return True\n",
    "        else:\n",
    "            return False\n",
    "        \n",
    "    def printCourse(self):\n",
    "        print(self.__courses)\n",
    "        \n",
    "    def __str__(self):\n",
    "        return \"Teacher: \" + super().getName() + \" \" +super().getAddress()"
   ]
  },
  {
   "cell_type": "code",
   "execution_count": 47,
   "metadata": {
    "scrolled": true
   },
   "outputs": [
    {
     "name": "stdout",
     "output_type": "stream",
     "text": [
      "Teacher: Pak Budi Jakarta\n",
      "['Matematika', 'Fisika']\n",
      "Gagal Dihapus\n",
      "['Matematika', 'Fisika']\n"
     ]
    }
   ],
   "source": [
    "t1 = Teacher(\"Pak Budi\",\"Jakarta\")\n",
    "print(t1)\n",
    "\n",
    "t1.addCourse(\"Matematika\")\n",
    "t1.addCourse(\"Fisika\")\n",
    "\n",
    "t1.printCourse()\n",
    "if(t1.removeCourse(\"Biologi\")):\n",
    "    print(\"Berhasil Dihapus\")\n",
    "else:\n",
    "    print(\"Gagal Dihapus\")\n",
    "t1.printCourse()\n"
   ]
  },
  {
   "cell_type": "markdown",
   "metadata": {},
   "source": [
    "\n"
   ]
  }
 ],
 "metadata": {
  "kernelspec": {
   "display_name": "Python 3 (ipykernel)",
   "language": "python",
   "name": "python3"
  },
  "language_info": {
   "codemirror_mode": {
    "name": "ipython",
    "version": 3
   },
   "file_extension": ".py",
   "mimetype": "text/x-python",
   "name": "python",
   "nbconvert_exporter": "python",
   "pygments_lexer": "ipython3",
   "version": "3.9.5"
  }
 },
 "nbformat": 4,
 "nbformat_minor": 2
}
