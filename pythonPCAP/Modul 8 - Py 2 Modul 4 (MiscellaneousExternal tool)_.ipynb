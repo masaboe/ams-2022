{
 "cells": [
  {
   "cell_type": "markdown",
   "metadata": {},
   "source": [
    "# Python Module 8\n",
    "##### Miscellaneous\n",
    "\n",
    "#### In this module, you will learn about:\n",
    "- Generators, iterators and closures;\n",
    "- Working with file-system, directory tree and files;\n",
    "- Selected Python Standard Library modules (os, datetime, time, and calendar.)\n",
    "\n",
    "Referensi Tambahan:\n",
    "- https://docs.python.org/3.8/\n",
    "- https://docs.python.org/id/3.8/tutorial/"
   ]
  },
  {
   "cell_type": "markdown",
   "metadata": {},
   "source": [
    "# Generators\n",
    "\n",
    "Sebuah generator adalah fungsi yang mengembalikan objek generator yang bisa kita panggil method next(), sedemikian rupa sehingga setiap pemanggilan mengembalikan nilai berikutnya. Fungsi normal pada Python menggunakan keyword RETURN untuk mengembalikan suatu nilai, tapi generator menggunakan keyword YIELD untuk mengembalikan nilai. Ini berarti setiap fungsi Python yang berisi YIELD adalah fungsi generator."
   ]
  },
  {
   "cell_type": "markdown",
   "metadata": {},
   "source": [
    "Statement YIELD biasanya menghentikan fungsi dan menyimpan state lokal agar bisa dilanjutkan tepat seperti saat dihentikan. Fungsi generator bisa memiliki satu atau lebih statement __YIELD__.\n",
    "\n",
    "Sebuah generator juga merupakan sebuah iterator, Sebuah iterator Python adalah kelas yang mendefinisikan sebuah fungsi _ _ iter_ _(). Sebagian besar objek Python bersifat iterable, artinya bisa melakukan loop terhadap setiap elemen dalam objek tersebut. Contoh iterable pada Python misalnya string, list, tuple, dictionary, dan range."
   ]
  },
  {
   "cell_type": "code",
   "execution_count": 4,
   "metadata": {},
   "outputs": [
    {
     "name": "stdout",
     "output_type": "stream",
     "text": [
      "red\n",
      "blue\n",
      "black\n"
     ]
    }
   ],
   "source": [
    "colors = [\"red\", \"blue\", \"black\"]\n",
    "\n",
    "def funct():\n",
    "    for color in colors:\n",
    "        print(color)\n",
    "\n",
    "funct()"
   ]
  },
  {
   "cell_type": "markdown",
   "metadata": {},
   "source": [
    "Di balik layar, statement for akan memanggil iter() pada objek list. Lalu fungsi akan mengembalikan objek iterator yang memiliki fungsi __next__(), yang akan mengakses masing-masing warna, satu per satu. Saat tidak ada warna tersisa, __next__ akan melempar exception stopIteration, yang akan menginformasikan loop for untuk berhenti."
   ]
  },
  {
   "cell_type": "markdown",
   "metadata": {},
   "source": [
    "### Keuntungan Generator\n",
    "\n",
    "#### Mudah untuk diimplementasi\n",
    "Membuat iterator pada Python memerlukan implementasi kelas dengan fungsi _ _ iter _ _ () dan _ _next_ _() dan menangani semua error stopIteration yang mungkin muncul."
   ]
  },
  {
   "cell_type": "code",
   "execution_count": 6,
   "metadata": {},
   "outputs": [],
   "source": [
    "class Reverse:\n",
    "    \"\"\"Iterator for looping over a sequence backwards.\"\"\"\n",
    "    def __init__(self, data):\n",
    "        self.data = data\n",
    "        self.index = len(data)\n",
    " \n",
    "    def __iter__(self):\n",
    "        return self\n",
    " \n",
    "    def __next__(self):\n",
    "        if self.index == 0:\n",
    "            raise StopIteration\n",
    "        self.index = self.index - 1\n",
    "        return self.data[self.index]"
   ]
  },
  {
   "cell_type": "markdown",
   "metadata": {},
   "source": [
    "#### Penggunaan Memory Lebih Sedikit\n",
    "Generator membantu meminimalkan penggunaan memory, terutama saat berurusan dengan set data yang besar, karena generator hanya akan mengembalikan objek satu per satu.\n",
    "\n",
    "#### Performa dan Optimasi yang Lebih Baik\n",
    "Generator pada dasarnya pemalas. Ini artinya mereka hanya menghasilkan nilai saat dibutuhkan saja. Tidak seperti iterator biasa, di mana semua nilai dihasilkan tidak peduli apakah mereka akan digunakan atau tidak, generator hanya menghasilkan nilai yang dibutuhkan. Inilah yang mendorong program untuk bekerja lebih cepat.\n",
    "\n",
    "### Tahap Pembuatan Generator"
   ]
  },
  {
   "cell_type": "code",
   "execution_count": 7,
   "metadata": {},
   "outputs": [
    {
     "data": {
      "text/plain": [
       "<generator object gen_function at 0x1101ca900>"
      ]
     },
     "execution_count": 7,
     "metadata": {},
     "output_type": "execute_result"
    }
   ],
   "source": [
    "def gen_function():\n",
    "    yield \"python\"\n",
    "\n",
    "gen_function()"
   ]
  },
  {
   "cell_type": "markdown",
   "metadata": {},
   "source": [
    "menulis fungsi biasa, tapi dengan statement __yield__, bukan __return__"
   ]
  },
  {
   "cell_type": "code",
   "execution_count": 16,
   "metadata": {},
   "outputs": [
    {
     "name": "stdout",
     "output_type": "stream",
     "text": [
      "10\n",
      "30\n",
      "60\n",
      "100\n"
     ]
    }
   ],
   "source": [
    "def myGenerator(l):  \n",
    "     total = 0\n",
    "     for n in l:\n",
    "       total += n\n",
    "       yield total\n",
    "       \n",
    "newGenerator = myGenerator([10,20,30,40])\n",
    "\n",
    "print(next(newGenerator))\n",
    "print(next(newGenerator))\n",
    "print(next(newGenerator))\n",
    "\n",
    "print(next(newGenerator))"
   ]
  },
  {
   "cell_type": "markdown",
   "metadata": {},
   "source": [
    "Pada fungsi di atas, kita mendefinisikan generator bernama __myGenerator__, yang menerima argumen l berupa list. Lalu  didefinisikan variabel total dan mengatur nilainya menjadi nol. Selain itu, dilakukan loop ke setiap elemen pada list dan menambahkannya ke variabel total.\n",
    "\n",
    "pembuatan instance __newGenerator__ dan pemanggilan fungsi next(). Ini akan menjalankan kode sampai berhenti pada nilai pertama dari total, yang saat ini bernilai 0. Fungsi akan menyimpan nilai variabel total sampai berikutnya fungsi dipanggil. Tidak seperti statement return biasa, yang akan mengembalikan semua nilai sekaligus, generator akan melanjutkan dari yang terakhir diproses.\n",
    "\n",
    "Jika coba dipanggil fungsi setelah loop selesai, maka akan mendapatkan error __StopIteration__.\n",
    "StopIteration dilempar oleh fungsi next() untuk menandai bahwa tidak ada objek yang dihasilkan oleh iterator."
   ]
  },
  {
   "cell_type": "code",
   "execution_count": 22,
   "metadata": {},
   "outputs": [
    {
     "name": "stdout",
     "output_type": "stream",
     "text": [
      "red\n",
      "blue\n",
      "black\n"
     ]
    }
   ],
   "source": [
    "def colors():\n",
    "    yield \"red\"\n",
    "    yield \"blue\"\n",
    "    yield \"black\"\n",
    "\n",
    "next_color = colors()\n",
    "\n",
    "print(next(next_color))\n",
    "print(next(next_color))\n",
    "print(next(next_color))"
   ]
  },
  {
   "cell_type": "markdown",
   "metadata": {},
   "source": [
    "Fungsi normal mengambalikan semua nilai saat fungsi tersebut dipanggil, sedangkan generator menunggu sampai fungsi next() dipanggil kembali. Begitu next() dipanggil, fungsi warna melanjutkan dari titik terakhir fungsi tersebut berhenti."
   ]
  },
  {
   "cell_type": "markdown",
   "metadata": {},
   "source": [
    "#### Kesimpulan\n",
    "\n",
    "Generator sangat efisien dalam menggunakank memory, terutama saat berkerja dengan daftar atau objek yang sangat besar. Ini karena menggunakan yield untuk mengerjakan bagian lebih kecil dibanding menyimpan semua data dalam memory sekaligus.\n",
    "\n",
    "### Contoh lain"
   ]
  },
  {
   "cell_type": "code",
   "execution_count": 26,
   "metadata": {},
   "outputs": [
    {
     "name": "stdout",
     "output_type": "stream",
     "text": [
      "__init__\n",
      "__iter__\n",
      "__next__\n",
      "__next__\n",
      "__next__\n",
      "__next__\n",
      "__next__\n",
      "__next__\n",
      "__next__\n",
      "__next__\n",
      "__next__\n",
      "__next__\n",
      "__next__\n",
      "[1, 1, 2, 3, 5, 8, 13, 21, 34, 55]\n"
     ]
    }
   ],
   "source": [
    "class Fib:\n",
    "    def __init__(self, nn):\n",
    "        print(\"__init__\")\n",
    "        self.__n = nn\n",
    "        self.__i = 0\n",
    "        self.__p1 = self.__p2 = 1\n",
    "\n",
    "    def __iter__(self):\n",
    "        print(\"__iter__\")\n",
    "        return self\n",
    "\n",
    "    def __next__(self):\n",
    "        print(\"__next__\")\n",
    "        self.__i += 1\n",
    "        if self.__i > self.__n:\n",
    "            raise StopIteration\n",
    "        if self.__i in [1, 2]:\n",
    "            return 1\n",
    "        ret = self.__p1 + self.__p2\n",
    "        self.__p1, self.__p2 = self.__p2, ret\n",
    "        return ret\n",
    "\n",
    "#print(Fib(10))\n",
    "# for i in Fib(10):\n",
    "#      print(i)\n",
    "\n",
    "print(list(Fib(10)))"
   ]
  },
  {
   "cell_type": "code",
   "execution_count": 27,
   "metadata": {},
   "outputs": [
    {
     "name": "stdout",
     "output_type": "stream",
     "text": [
      "<__main__.Class object at 0x110aa2d30>\n",
      "Class iter\n",
      "[1, 1, 2, 3, 5, 8, 13, 21]\n"
     ]
    }
   ],
   "source": [
    "# print(Fib(10))\n",
    "class Fib:\n",
    "    def __init__(self, nn):\n",
    "        self.__n = nn\n",
    "        self.__i = 0\n",
    "        self.__p1 = self.__p2 = 1\n",
    "\n",
    "    def __iter__(self):\n",
    "        print(\"Fib iter\")\n",
    "        return self\n",
    "\n",
    "    def __next__(self):\n",
    "        self.__i += 1\n",
    "        if self.__i > self.__n:\n",
    "            raise StopIteration\n",
    "        if self.__i in [1, 2]:\n",
    "            return 1\n",
    "        ret = self.__p1 + self.__p2\n",
    "        self.__p1, self.__p2 = self.__p2, ret\n",
    "        return ret\n",
    "\n",
    "class Class:\n",
    "    def __init__(self, n):\n",
    "        self.__iter = Fib(n)\n",
    "\n",
    "    def __iter__(self):\n",
    "        print(\"Class iter\")\n",
    "        return self.__iter;\n",
    "\n",
    "\n",
    "object = Class(8)\n",
    "print(object)\n",
    "# for i in object:\n",
    "#    print(i)\n",
    "\n",
    "print(list(Class(8)))"
   ]
  },
  {
   "cell_type": "markdown",
   "metadata": {},
   "source": [
    "### Lebih Lanjut mengenai Yield Statement"
   ]
  },
  {
   "cell_type": "code",
   "execution_count": 33,
   "metadata": {},
   "outputs": [
    {
     "name": "stdout",
     "output_type": "stream",
     "text": [
      "0\n",
      "1\n",
      "2\n",
      "3\n",
      "4\n"
     ]
    }
   ],
   "source": [
    "def fun(n):\n",
    "    for i in range(n):\n",
    "        print(i)\n",
    "\n",
    "fun(5)"
   ]
  },
  {
   "cell_type": "code",
   "execution_count": 43,
   "metadata": {},
   "outputs": [
    {
     "name": "stdout",
     "output_type": "stream",
     "text": [
      "0\n",
      "1\n",
      "2\n",
      "3\n",
      "4\n"
     ]
    }
   ],
   "source": [
    "def fun(n):\n",
    "    for i in range(n):\n",
    "        yield(i)\n",
    "\n",
    "for x in fun(5):\n",
    "    print(x)"
   ]
  },
  {
   "cell_type": "code",
   "execution_count": 45,
   "metadata": {
    "scrolled": true
   },
   "outputs": [
    {
     "name": "stdout",
     "output_type": "stream",
     "text": [
      "1\n",
      "2\n",
      "4\n",
      "8\n",
      "16\n"
     ]
    }
   ],
   "source": [
    "def powOf2(n):\n",
    "    pow = 1\n",
    "    for i in range(n):\n",
    "        yield pow\n",
    "        pow *= 2\n",
    "\n",
    "for v in powOf2(5):\n",
    "    print(v)"
   ]
  },
  {
   "cell_type": "code",
   "execution_count": 46,
   "metadata": {},
   "outputs": [
    {
     "name": "stdout",
     "output_type": "stream",
     "text": [
      "[1, 2, 4, 8, 16]\n"
     ]
    }
   ],
   "source": [
    "def powOf2_(n):\n",
    "    pow = 1\n",
    "    for i in range(n):\n",
    "        yield pow\n",
    "        pow *= 2\n",
    "\n",
    "t = list(powOf2_(5))\n",
    "print(t)"
   ]
  },
  {
   "cell_type": "markdown",
   "metadata": {},
   "source": [
    "### The Lambda Function"
   ]
  },
  {
   "cell_type": "code",
   "execution_count": 56,
   "metadata": {},
   "outputs": [
    {
     "name": "stdout",
     "output_type": "stream",
     "text": [
      "1 1\n",
      "4 4\n",
      "9 9\n",
      "16 16\n"
     ]
    }
   ],
   "source": [
    "two = lambda: 2\n",
    "sqr = lambda x: x * x\n",
    "pwr = lambda x, y: x ** y\n",
    "\n",
    "# print(two)\n",
    "# print(sqr)\n",
    "# print(pwr)\n",
    "\n",
    "# print(pwr(5,2))\n",
    "\n",
    "for a in range(1,5):\n",
    "    print(sqr(a), end = \" \")\n",
    "    print(pwr(a, two()))"
   ]
  },
  {
   "cell_type": "markdown",
   "metadata": {},
   "source": [
    "### Lambdas and The map() Function"
   ]
  },
  {
   "cell_type": "code",
   "execution_count": null,
   "metadata": {},
   "outputs": [],
   "source": [
    "# syntax\n",
    "map(function, list)"
   ]
  },
  {
   "cell_type": "code",
   "execution_count": 65,
   "metadata": {},
   "outputs": [
    {
     "name": "stdout",
     "output_type": "stream",
     "text": [
      "1 2 4 8 16 \n"
     ]
    }
   ],
   "source": [
    "list_1 = [x for x in range(5)]\n",
    "list_2 = list(map(lambda x : 2 ** x, list_1))\n",
    "\n",
    "# print(list_1)\n",
    "# print(list_2)\n",
    "\n",
    "for x in map(lambda x: 2 ** x, list_1):\n",
    "    print(x, end=\" \")\n",
    "print()"
   ]
  },
  {
   "cell_type": "markdown",
   "metadata": {},
   "source": [
    "### Lambdas and The filter() Function"
   ]
  },
  {
   "cell_type": "code",
   "execution_count": 76,
   "metadata": {},
   "outputs": [
    {
     "name": "stdout",
     "output_type": "stream",
     "text": [
      "[-89, 81, -71, 99, 83, 48, -30, -30, 50, 41]\n",
      "[48, 50]\n"
     ]
    }
   ],
   "source": [
    "from random import seed, randint\n",
    "\n",
    "data = [randint(-100, 100) for x in range(10)]\n",
    "\n",
    "filtered = list(filter(lambda x: x > 0 and x % 2 == 0, data))\n",
    "\n",
    "print(data)\n",
    "print(filtered)"
   ]
  },
  {
   "cell_type": "markdown",
   "metadata": {},
   "source": [
    "# Processing Files"
   ]
  },
  {
   "cell_type": "markdown",
   "metadata": {},
   "source": [
    "#### Windows\n",
    "- C:\\directory\\file\n",
    "\n",
    "#### Linux / Unix\n",
    "- /directory/files"
   ]
  },
  {
   "cell_type": "code",
   "execution_count": 78,
   "metadata": {},
   "outputs": [
    {
     "name": "stdout",
     "output_type": "stream",
     "text": [
      "JAKARTA, KOMPAS.com — Sandiaga Salahuddin Uno ingin rehat sejenak dari aktivitas politik termasuk urusan kepartaian setelah Pemilihan Presiden (Pilpres) 2019. \n",
      "Sandiaga ingin fokus dalam upaya mendorong ekonomi kerakyatan melalui program OK OCE dan  Rumah Siap Kerja. \n",
      "Lalu, bagaimana perkembangan program OK OCE saat ini? \n",
      "Ketua Umum OK OCE Indonesia Iim Rusyamsi mengatakan, tercatat 100.000 pelaku usaha mikro kecil dan menengah (UMKM) tergabung dalam program OK OCE di Indonesia.\n",
      "Total sekarang kurang lebih 100.000 (pelaku UMKM yang tergabung dalam program OK OCE) secara nasional. Untuk Pemprov DKI sekarang ini ada 40.000. Sementara pada 2018 tercatat 65.000 yang tergabung,\" kata Iim saat dihubungi Kompas.com, Kamis (4/7/2019). \n",
      "Untuk pelaku UMKM di wilayah DKI Jakarta, Iim menyebut program tersebut didukung oleh pemerintah daerah. Oleh karena itu, Pemprov DKI membantu memfasilitasi pembinaan pengembangan pelaku usaha. \n",
      "Sementara itu, program OK OCE dibantu para penggerak komunitas yang tersebar di seluruh daerah di Indonesia. \n",
      "Penggerak komunitas ada di seluruh indonesia. Jadi, ada perwakilan di daerah-daerah tapi belum semasif di Jakarta. Fokusnya memang di Jakarta, tapi kami lagi dorong teman-teman di daerah untuk mengembangkan UMKM,\" ungkap Iim. \n",
      "Iim mengungkapkan, program OK OCE tetap berjalan dengan baik walaupun Sandiaga tidak menjabat sebagai wakil gubernur DKI Jakarta. \n",
      "Sandiaga tetap berkontribusi membangun Indonesia walaupun tidak memiliki jabatan dalam pemerintahan. \n",
      "\"Bapak Sandi kan pendiri dari gerakan program OK OCE ini. Beliau memang ingin berbakti membangun bangsa walaupun sudah tidak (menjabat) di pemerintahan. Kan masih banyak jalan membangun bangsa ini,\" ujar Iim. \n",
      "\n",
      "Artikel ini telah tayang di Kompas.com dengan judul \"Sandiaga Fokus Kembangkan OK OCE, Bagaimana Kabar Programnya Saat Ini?\", https://megapolitan.kompas.com/read/2019/07/04/11580611/sandiaga-fokus-kembangkan-ok-oce-bagaimana-kabar-programnya-saat-ini. \n",
      "Penulis : Rindi Nuris Velarosdela\n",
      "Editor : Jessi Carina test\n",
      "Abu salam\n"
     ]
    }
   ],
   "source": [
    "# Akses File\n",
    "stream = open(\"/Users/masaboe/Documents/NGAJAR/2022/DTS-FGA/Praktikum/files/file-coba.txt\", \"rt\", encoding = \"utf-8\")\n",
    "print(stream.read())"
   ]
  },
  {
   "cell_type": "code",
   "execution_count": 81,
   "metadata": {},
   "outputs": [
    {
     "name": "stdout",
     "output_type": "stream",
     "text": [
      "JAKARTA, KOMPAS.com — Sandiaga Salahuddin Uno ingin rehat sejenak dari aktivitas politik termasuk urusan kepartaian setelah Pemilihan Presiden (Pilpres) 2019. \n",
      "Sandiaga ingin fokus dalam upaya mendorong ekonomi kerakyatan melalui program OK OCE dan  Rumah Siap Kerja. \n",
      "Lalu, bagaimana perkembangan program OK OCE saat ini? \n",
      "Ketua Umum OK OCE Indonesia Iim Rusyamsi mengatakan, tercatat 100.000 pelaku usaha mikro kecil dan menengah (UMKM) tergabung dalam program OK OCE di Indonesia.\n",
      "Total sekarang kurang lebih 100.000 (pelaku UMKM yang tergabung dalam program OK OCE) secara nasional. Untuk Pemprov DKI sekarang ini ada 40.000. Sementara pada 2018 tercatat 65.000 yang tergabung,\" kata Iim saat dihubungi Kompas.com, Kamis (4/7/2019). \n",
      "Untuk pelaku UMKM di wilayah DKI Jakarta, Iim menyebut program tersebut didukung oleh pemerintah daerah. Oleh karena itu, Pemprov DKI membantu memfasilitasi pembinaan pengembangan pelaku usaha. \n",
      "Sementara itu, program OK OCE dibantu para penggerak komunitas yang tersebar di seluruh daerah di Indonesia. \n",
      "Penggerak komunitas ada di seluruh indonesia. Jadi, ada perwakilan di daerah-daerah tapi belum semasif di Jakarta. Fokusnya memang di Jakarta, tapi kami lagi dorong teman-teman di daerah untuk mengembangkan UMKM,\" ungkap Iim. \n",
      "Iim mengungkapkan, program OK OCE tetap berjalan dengan baik walaupun Sandiaga tidak menjabat sebagai wakil gubernur DKI Jakarta. \n",
      "Sandiaga tetap berkontribusi membangun Indonesia walaupun tidak memiliki jabatan dalam pemerintahan. \n",
      "\"Bapak Sandi kan pendiri dari gerakan program OK OCE ini. Beliau memang ingin berbakti membangun bangsa walaupun sudah tidak (menjabat) di pemerintahan. Kan masih banyak jalan membangun bangsa ini,\" ujar Iim. \n",
      "\n",
      "Artikel ini telah tayang di Kompas.com dengan judul \"Sandiaga Fokus Kembangkan OK OCE, Bagaimana Kabar Programnya Saat Ini?\", https://megapolitan.kompas.com/read/2019/07/04/11580611/sandiaga-fokus-kembangkan-ok-oce-bagaimana-kabar-programnya-saat-ini. \n",
      "Penulis : Rindi Nuris Velarosdela\n",
      "Editor : Jessi Carina test\n",
      "Abu salam\n"
     ]
    }
   ],
   "source": [
    "try:\n",
    "    stream = open(\"/Users/masaboe/Documents/NGAJAR/2022/DTS-FGA/Praktikum/files/file-coba.txt\", \"rt\")\n",
    "    #process\n",
    "    print(stream.read())\n",
    "    stream.close()\n",
    "except Exception as exc:\n",
    "    print(\"Cannot open the file\", exc)"
   ]
  },
  {
   "cell_type": "code",
   "execution_count": 86,
   "metadata": {},
   "outputs": [
    {
     "name": "stdout",
     "output_type": "stream",
     "text": [
      "JAKARTA, KOMPAS.com — Sandiaga Salahuddin Uno ingin rehat sejenak dari aktivitas politik termasuk urusan kepartaian setelah Pemilihan Presiden (Pilpres) 2019. \n",
      "Sandiaga ingin fokus dalam upaya mendorong ekonomi kerakyatan melalui program OK OCE dan  Rumah Siap Kerja. \n",
      "Lalu, bagaimana perkembangan program OK OCE saat ini? \n",
      "Ketua Umum OK OCE Indonesia Iim Rusyamsi mengatakan, tercatat 100.000 pelaku usaha mikro kecil dan menengah (UMKM) tergabung dalam program OK OCE di Indonesia.\n",
      "Total sekarang kurang lebih 100.000 (pelaku UMKM yang tergabung dalam program OK OCE) secara nasional. Untuk Pemprov DKI sekarang ini ada 40.000. Sementara pada 2018 tercatat 65.000 yang tergabung,\" kata Iim saat dihubungi Kompas.com, Kamis (4/7/2019). \n",
      "Untuk pelaku UMKM di wilayah DKI Jakarta, Iim menyebut program tersebut didukung oleh pemerintah daerah. Oleh karena itu, Pemprov DKI membantu memfasilitasi pembinaan pengembangan pelaku usaha. \n",
      "Sementara itu, program OK OCE dibantu para penggerak komunitas yang tersebar di seluruh daerah di Indonesia. \n",
      "Penggerak komunitas ada di seluruh indonesia. Jadi, ada perwakilan di daerah-daerah tapi belum semasif di Jakarta. Fokusnya memang di Jakarta, tapi kami lagi dorong teman-teman di daerah untuk mengembangkan UMKM,\" ungkap Iim. \n",
      "Iim mengungkapkan, program OK OCE tetap berjalan dengan baik walaupun Sandiaga tidak menjabat sebagai wakil gubernur DKI Jakarta. \n",
      "Sandiaga tetap berkontribusi membangun Indonesia walaupun tidak memiliki jabatan dalam pemerintahan. \n",
      "\"Bapak Sandi kan pendiri dari gerakan program OK OCE ini. Beliau memang ingin berbakti membangun bangsa walaupun sudah tidak (menjabat) di pemerintahan. Kan masih banyak jalan membangun bangsa ini,\" ujar Iim. \n",
      "\n",
      "Artikel ini telah tayang di Kompas.com dengan judul \"Sandiaga Fokus Kembangkan OK OCE, Bagaimana Kabar Programnya Saat Ini?\", https://megapolitan.kompas.com/read/2019/07/04/11580611/sandiaga-fokus-kembangkan-ok-oce-bagaimana-kabar-programnya-saat-ini. \n",
      "Penulis : Rindi Nuris Velarosdela\n",
      "Editor : Jessi Carina test\n",
      "Abu salam\n"
     ]
    }
   ],
   "source": [
    "import errno\n",
    "try:\n",
    "    st = open(\"/Users/masaboe/Documents/NGAJAR/2022/DTS-FGA/Praktikum/files/file-coba.txt\", \"rt\")\n",
    "    #process\n",
    "    print(st.read())\n",
    "    st.close()\n",
    "except Exception as exc:\n",
    "    if exc.errno == errno.ENOENT:\n",
    "        print(\"The File doesn't exist.\")\n",
    "    elif exc.errno == errnp.EMFILE:\n",
    "        print(\"You've opened too many files.\")\n",
    "    else:\n",
    "        print(\"The error number is\", exc.errno)"
   ]
  },
  {
   "cell_type": "code",
   "execution_count": 87,
   "metadata": {},
   "outputs": [
    {
     "name": "stdout",
     "output_type": "stream",
     "text": [
      "JAKARTA, KOMPAS.com — Sandiaga Salahuddin Uno ingin rehat sejenak dari aktivitas politik termasuk urusan kepartaian setelah Pemilihan Presiden (Pilpres) 2019. \n",
      "Sandiaga ingin fokus dalam upaya mendorong ekonomi kerakyatan melalui program OK OCE dan  Rumah Siap Kerja. \n",
      "Lalu, bagaimana perkembangan program OK OCE saat ini? \n",
      "Ketua Umum OK OCE Indonesia Iim Rusyamsi mengatakan, tercatat 100.000 pelaku usaha mikro kecil dan menengah (UMKM) tergabung dalam program OK OCE di Indonesia.\n",
      "Total sekarang kurang lebih 100.000 (pelaku UMKM yang tergabung dalam program OK OCE) secara nasional. Untuk Pemprov DKI sekarang ini ada 40.000. Sementara pada 2018 tercatat 65.000 yang tergabung,\" kata Iim saat dihubungi Kompas.com, Kamis (4/7/2019). \n",
      "Untuk pelaku UMKM di wilayah DKI Jakarta, Iim menyebut program tersebut didukung oleh pemerintah daerah. Oleh karena itu, Pemprov DKI membantu memfasilitasi pembinaan pengembangan pelaku usaha. \n",
      "Sementara itu, program OK OCE dibantu para penggerak komunitas yang tersebar di seluruh daerah di Indonesia. \n",
      "Penggerak komunitas ada di seluruh indonesia. Jadi, ada perwakilan di daerah-daerah tapi belum semasif di Jakarta. Fokusnya memang di Jakarta, tapi kami lagi dorong teman-teman di daerah untuk mengembangkan UMKM,\" ungkap Iim. \n",
      "Iim mengungkapkan, program OK OCE tetap berjalan dengan baik walaupun Sandiaga tidak menjabat sebagai wakil gubernur DKI Jakarta. \n",
      "Sandiaga tetap berkontribusi membangun Indonesia walaupun tidak memiliki jabatan dalam pemerintahan. \n",
      "\"Bapak Sandi kan pendiri dari gerakan program OK OCE ini. Beliau memang ingin berbakti membangun bangsa walaupun sudah tidak (menjabat) di pemerintahan. Kan masih banyak jalan membangun bangsa ini,\" ujar Iim. \n",
      "\n",
      "Artikel ini telah tayang di Kompas.com dengan judul \"Sandiaga Fokus Kembangkan OK OCE, Bagaimana Kabar Programnya Saat Ini?\", https://megapolitan.kompas.com/read/2019/07/04/11580611/sandiaga-fokus-kembangkan-ok-oce-bagaimana-kabar-programnya-saat-ini. \n",
      "Penulis : Rindi Nuris Velarosdela\n",
      "Editor : Jessi Carina test\n",
      "Abu salam\n",
      "\n",
      "Characters in file: 2037\n"
     ]
    }
   ],
   "source": [
    "from os import strerror\n",
    "\n",
    "try:\n",
    "    cnt = 0\n",
    "    s = open('/Users/masaboe/Documents/NGAJAR/2022/DTS-FGA/Praktikum/files/file-coba.txt', \"rt\")\n",
    "    ch = s.read(1)\n",
    "    while ch != '':\n",
    "        print(ch, end='')\n",
    "        cnt += 1\n",
    "        ch = s.read(1)\n",
    "    s.close()\n",
    "    print(\"\\n\\nCharacters in file:\", cnt)\n",
    "except IOError as e:\n",
    "    print(\"I/O error occurred: \", strerr(e.errno))"
   ]
  },
  {
   "cell_type": "code",
   "execution_count": 89,
   "metadata": {},
   "outputs": [
    {
     "name": "stdout",
     "output_type": "stream",
     "text": [
      "Standar jam kerja karyawan per minggu adalah 40 jam. Jika karyawan tersebut bekerja lebih dari 40 jam maka dia akan dikenakan biaya lembur per jamnya. \n",
      "Buat program untuk menginputkan gaji pokok karyawan per bulan, dan lama kerja karyawan dalam satu bulan. Outputkan gaji total yang dia terima. Asumsi :\n",
      "\n",
      "1 bulan = 4 minggu\n",
      "Biaya lembur per jam = 2.5% dari Gaji Pokok.\n",
      "hallo ini hanya untuk belajar saja ya.\n",
      "\n",
      "Characters in file: 407\n",
      "Lines in file:      6\n"
     ]
    }
   ],
   "source": [
    "from os import strerror\n",
    "\n",
    "try:\n",
    "    ccnt = lcnt = 0\n",
    "    s = open('/Users/masaboe/Documents/NGAJAR/2022/DTS-FGA/Praktikum/files/bangun_tidur.txt', 'rt')\n",
    "    line = s.readline()\n",
    "    while line != '':\n",
    "        lcnt += 1\n",
    "        for ch in line:\n",
    "            print(ch, end='')\n",
    "            ccnt += 1\n",
    "        line = s.readline()\n",
    "    s.close()\n",
    "    print(\"\\n\\nCharacters in file:\", ccnt)\n",
    "    print(\"Lines in file:     \", lcnt)\n",
    "except IOError as e:\n",
    "    print(\"I/O error occurred:\", strerr(e.errno))"
   ]
  },
  {
   "cell_type": "code",
   "execution_count": 90,
   "metadata": {},
   "outputs": [
    {
     "name": "stdout",
     "output_type": "stream",
     "text": [
      "Standar jam kerja karyawan per minggu adalah 40 jam. Jika karyawan tersebut bekerja lebih dari 40 jam maka dia akan dikenakan biaya lembur per jamnya. \n",
      "Buat program untuk menginputkan gaji pokok karyawan per bulan, dan lama kerja karyawan dalam satu bulan. Outputkan gaji total yang dia terima. Asumsi :\n",
      "\n",
      "1 bulan = 4 minggu\n",
      "Biaya lembur per jam = 2.5% dari Gaji Pokok.\n",
      "hallo ini hanya untuk belajar saja ya.\n",
      "\n",
      "Characters in file: 407\n",
      "Lines in file:      6\n"
     ]
    }
   ],
   "source": [
    "from os import strerror\n",
    "\n",
    "try:\n",
    "    ccnt = lcnt = 0\n",
    "    s = open('/Users/masaboe/Documents/NGAJAR/2022/DTS-FGA/Praktikum/files/bangun_tidur.txt', 'rt')\n",
    "    lines = s.readlines(20)\n",
    "    while len(lines) != 0:\n",
    "        for line in lines:\n",
    "            lcnt += 1\n",
    "            for ch in line:\n",
    "                print(ch, end='')\n",
    "                ccnt += 1\n",
    "        lines = s.readlines(10)\n",
    "    s.close()\n",
    "    print(\"\\n\\nCharacters in file:\", ccnt)\n",
    "    print(\"Lines in file:     \", lcnt)\n",
    "except IOError as e:\n",
    "    print(\"I/O error occurred:\", strerr(e.errno))"
   ]
  },
  {
   "cell_type": "markdown",
   "metadata": {},
   "source": [
    "Standar jam kerja karyawan per minggu adalah 40 jam. Jika karyawan tersebut bekerja lebih dari 40 jam maka dia akan dikenakan biaya lembur per jamnya. Buat program untuk menginputkan gaji pokok karyawan per bulan, dan lama kerja karyawan dalam satu bulan. Outputkan gaji total yang dia terima.\n",
    "Asumsi : \n",
    "- 1 bulan = 4 minggu\n",
    "- Biaya lembur per jam = 2.5% dari Gaji Pokok.\n"
   ]
  },
  {
   "cell_type": "markdown",
   "metadata": {},
   "source": [
    "### W TEST"
   ]
  },
  {
   "cell_type": "code",
   "execution_count": 3,
   "metadata": {},
   "outputs": [
    {
     "name": "stdout",
     "output_type": "stream",
     "text": [
      "253 234 276 215 202 240 207 280 273 266 232 218 295 251 252 228 293 224 291 228 287 233 242 271 278 235 205 248 228 206 275 299 240 275 273 201 265 207 244 282 235 252 213 208 262 222 279 297 250 255 270 233 228 269 228 249 205 246 224 297 234 224 298 250 284 243 242 270 287 256 220 225 233 202 228 222 214 213 265 268 205 207 241 281 267 252 296 249 267 237 256 206 264 225 233 230 297 242 279 286 \n"
     ]
    }
   ],
   "source": [
    "# import random\n",
    "\n",
    "# f = open(\"/Users/masaboe/Documents/NGAJAR/2022/DTS-FGA/Praktikum/files/Daftar_Nilai_Random.txt\",\"w\")\n",
    "# for i in range(100):\n",
    "#     f.write(str(random.randint(200,300))+\" \")\n",
    "    \n",
    "# f.close()\n",
    "\n",
    "stream = open(\"/Users/masaboe/Documents/NGAJAR/2022/DTS-FGA/Praktikum/files/Daftar_Nilai_Random.txt\", \"rt\", encoding = \"utf-8\") # opening tzop.txt in read mode, returning it as a file object\n",
    "print(stream.read())"
   ]
  },
  {
   "cell_type": "code",
   "execution_count": 4,
   "metadata": {},
   "outputs": [
    {
     "name": "stdout",
     "output_type": "stream",
     "text": [
      "JAKARTA, KOMPAS.com — Sandiaga Salahuddin Uno ingin rehat sejenak dari aktivitas politik termasuk urusan kepartaian setelah Pemilihan Presiden (Pilpres) 2019. \n",
      "Sandiaga ingin fokus dalam upaya mendorong ekonomi kerakyatan melalui program OK OCE dan  Rumah Siap Kerja. \n",
      "Lalu, bagaimana perkembangan program OK OCE saat ini? \n",
      "Ketua Umum OK OCE Indonesia Iim Rusyamsi mengatakan, tercatat 100.000 pelaku usaha mikro kecil dan menengah (UMKM) tergabung dalam program OK OCE di Indonesia.\n",
      "Total sekarang kurang lebih 100.000 (pelaku UMKM yang tergabung dalam program OK OCE) secara nasional. Untuk Pemprov DKI sekarang ini ada 40.000. Sementara pada 2018 tercatat 65.000 yang tergabung,\" kata Iim saat dihubungi Kompas.com, Kamis (4/7/2019). \n",
      "Untuk pelaku UMKM di wilayah DKI Jakarta, Iim menyebut program tersebut didukung oleh pemerintah daerah. Oleh karena itu, Pemprov DKI membantu memfasilitasi pembinaan pengembangan pelaku usaha. \n",
      "Sementara itu, program OK OCE dibantu para penggerak komunitas yang tersebar di seluruh daerah di Indonesia. \n",
      "Penggerak komunitas ada di seluruh indonesia. Jadi, ada perwakilan di daerah-daerah tapi belum semasif di Jakarta. Fokusnya memang di Jakarta, tapi kami lagi dorong teman-teman di daerah untuk mengembangkan UMKM,\" ungkap Iim. \n",
      "Iim mengungkapkan, program OK OCE tetap berjalan dengan baik walaupun Sandiaga tidak menjabat sebagai wakil gubernur DKI Jakarta. \n",
      "Sandiaga tetap berkontribusi membangun Indonesia walaupun tidak memiliki jabatan dalam pemerintahan. \n",
      "\"Bapak Sandi kan pendiri dari gerakan program OK OCE ini. Beliau memang ingin berbakti membangun bangsa walaupun sudah tidak (menjabat) di pemerintahan. Kan masih banyak jalan membangun bangsa ini,\" ujar Iim. \n",
      "\n",
      "Artikel ini telah tayang di Kompas.com dengan judul \"Sandiaga Fokus Kembangkan OK OCE, Bagaimana Kabar Programnya Saat Ini?\", https://megapolitan.kompas.com/read/2019/07/04/11580611/sandiaga-fokus-kembangkan-ok-oce-bagaimana-kabar-programnya-saat-ini. \n",
      "Penulis : Rindi Nuris Velarosdela\n",
      "Editor : Jessi Carina test\n",
      "Abu salam\n"
     ]
    }
   ],
   "source": [
    "stream = open(\"/Users/masaboe/Documents/NGAJAR/2022/DTS-FGA/Praktikum/files/file-coba.txt\", \"rt\") \n",
    "print(stream.read()) "
   ]
  },
  {
   "cell_type": "code",
   "execution_count": 9,
   "metadata": {},
   "outputs": [
    {
     "name": "stdout",
     "output_type": "stream",
     "text": [
      "JAKARTA, KOMPAS.com — Sandiaga Salahuddin Uno ingin rehat sejenak dari aktivitas politik termasuk urusan kepartaian setelah Pemilihan Presiden (Pilpres) 2019. Sandiaga ingin fokus dalam upaya mendorong ekonomi kerakyatan melalui program OK OCE dan  Rumah Siap Kerja.\n",
      "----------------------------------------------------------------------------------------------------\n",
      "Lalu, bagaimana perkembangan program OK OCE saat ini? \n",
      "----------------------------------------------------------------------------------------------------\n",
      "Ketua Umum OK OCE Indonesia Iim Rusyamsi mengatakan, tercatat 100.000 pelaku usaha mikro kecil dan menengah (UMKM) tergabung dalam program OK OCE di Indonesia\n",
      "----------------------------------------------------------------------------------------------------\n",
      "Total sekarang kurang lebih 100.000 (pelaku UMKM yang tergabung dalam program OK OCE) secara nasional. Untuk Pemprov DKI sekarang ini ada 40.000. Sementara pada 2018 tercatat 65.000 yang tergabung,\" kata Iim saat dihubungi Kompas.com, Kamis (4/7/2019). \n",
      "----------------------------------------------------------------------------------------------------\n",
      "Untuk pelaku UMKM di wilayah DKI Jakarta, Iim menyebut program tersebut didukung oleh pemerintah daerah. Oleh karena itu, Pemprov DKI membantu memfasilitasi pembinaan pengembangan pelaku usaha. \n",
      "----------------------------------------------------------------------------------------------------\n",
      "Sementara itu, program OK OCE dibantu para penggerak komunitas yang tersebar di seluruh daerah di Indonesia. \n",
      "----------------------------------------------------------------------------------------------------\n",
      "Penggerak komunitas ada di seluruh indonesia. Jadi, ada perwakilan di daerah-daerah tapi belum semasif di Jakarta. Fokusnya memang di Jakarta, tapi kami lagi dorong teman-teman di daerah untuk mengembangkan UMKM,\" ungkap Iim. \n",
      "----------------------------------------------------------------------------------------------------\n",
      "Iim mengungkapkan, program OK OCE tetap berjalan dengan baik walaupun Sandiaga tidak menjabat sebagai wakil gubernur DKI Jakarta. \n",
      "----------------------------------------------------------------------------------------------------\n",
      "Sandiaga tetap berkontribusi membangun Indonesia walaupun tidak memiliki jabatan dalam pemerintahan. \n",
      "----------------------------------------------------------------------------------------------------\n",
      "\"Bapak Sandi kan pendiri dari gerakan program OK OCE ini. Beliau memang ingin berbakti membangun bangsa walaupun sudah tidak (menjabat) di pemerintahan. Kan masih banyak jalan membangun bangsa ini,\" ujar Iim. \n",
      "----------------------------------------------------------------------------------------------------\n",
      "\n",
      "----------------------------------------------------------------------------------------------------\n",
      "Artikel ini telah tayang di Kompas.com dengan judul \"Sandiaga Fokus Kembangkan OK OCE, Bagaimana Kabar Programnya Saat Ini?\", https://megapolitan.kompas.com/read/2019/07/04/11580611/sandiaga-fokus-kembangkan-ok-oce-bagaimana-kabar-programnya-saat-ini. \n",
      "----------------------------------------------------------------------------------------------------\n",
      "Penulis : Rindi Nuris Velarosdela\n",
      "----------------------------------------------------------------------------------------------------\n",
      "Editor : Jessi Carina test\n",
      "----------------------------------------------------------------------------------------------------\n",
      "Abu salam----------------------------------------------------------------------------------------------------\n",
      "\n",
      "\n",
      "Characters in file: 2034\n",
      "Lines in file:      15\n"
     ]
    }
   ],
   "source": [
    "from os import strerror\n",
    "\n",
    "try:\n",
    "    ccnt = lcnt = 0\n",
    "    s = open('/Users/masaboe/Documents/NGAJAR/2022/DTS-FGA/Praktikum/files/file-coba.txt', 'rt')\n",
    "    line = s.readline()\n",
    "    while line != '':\n",
    "        lcnt += 1\n",
    "        for ch in line:\n",
    "            print(ch, end='')\n",
    "            ccnt += 1\n",
    "        line = s.readline()\n",
    "        print(\"-\"*100)\n",
    "    s.close()\n",
    "    print(\"\\n\\nCharacters in file:\", ccnt)\n",
    "    print(\"Lines in file:     \", lcnt)\n",
    "except IOError as e:\n",
    "    print(\"I/O error occurred:\", strerr(e.errno))"
   ]
  },
  {
   "cell_type": "code",
   "execution_count": 10,
   "metadata": {
    "scrolled": true
   },
   "outputs": [
    {
     "name": "stdout",
     "output_type": "stream",
     "text": [
      "JAKARTA, KOMPAS.com — Sandiaga Salahuddin Uno ingin rehat sejenak dari aktivitas politik termasuk urusan kepartaian setelah Pemilihan Presiden (Pilpres) 2019. Sandiaga ingin fokus dalam upaya mendorong ekonomi kerakyatan melalui program OK OCE dan  Rumah Siap Kerja.\n",
      "\n",
      "====================\n",
      "Lalu, bagaimana perkembangan program OK OCE saat ini? \n",
      "\n",
      "====================\n",
      "Ketua Umum OK OCE Indonesia Iim Rusyamsi mengatakan, tercatat 100.000 pelaku usaha mikro kecil dan menengah (UMKM) tergabung dalam program OK OCE di Indonesia\n",
      "\n",
      "====================\n",
      "Total sekarang kurang lebih 100.000 (pelaku UMKM yang tergabung dalam program OK OCE) secara nasional. Untuk Pemprov DKI sekarang ini ada 40.000. Sementara pada 2018 tercatat 65.000 yang tergabung,\" kata Iim saat dihubungi Kompas.com, Kamis (4/7/2019). \n",
      "\n",
      "====================\n",
      "Untuk pelaku UMKM di wilayah DKI Jakarta, Iim menyebut program tersebut didukung oleh pemerintah daerah. Oleh karena itu, Pemprov DKI membantu memfasilitasi pembinaan pengembangan pelaku usaha. \n",
      "\n",
      "====================\n",
      "Sementara itu, program OK OCE dibantu para penggerak komunitas yang tersebar di seluruh daerah di Indonesia. \n",
      "\n",
      "====================\n",
      "Penggerak komunitas ada di seluruh indonesia. Jadi, ada perwakilan di daerah-daerah tapi belum semasif di Jakarta. Fokusnya memang di Jakarta, tapi kami lagi dorong teman-teman di daerah untuk mengembangkan UMKM,\" ungkap Iim. \n",
      "\n",
      "====================\n",
      "Iim mengungkapkan, program OK OCE tetap berjalan dengan baik walaupun Sandiaga tidak menjabat sebagai wakil gubernur DKI Jakarta. \n",
      "\n",
      "====================\n",
      "Sandiaga tetap berkontribusi membangun Indonesia walaupun tidak memiliki jabatan dalam pemerintahan. \n",
      "\n",
      "====================\n",
      "\"Bapak Sandi kan pendiri dari gerakan program OK OCE ini. Beliau memang ingin berbakti membangun bangsa walaupun sudah tidak (menjabat) di pemerintahan. Kan masih banyak jalan membangun bangsa ini,\" ujar Iim. \n",
      "\n",
      "====================\n",
      "\n",
      "\n",
      "====================\n",
      "Artikel ini telah tayang di Kompas.com dengan judul \"Sandiaga Fokus Kembangkan OK OCE, Bagaimana Kabar Programnya Saat Ini?\", https://megapolitan.kompas.com/read/2019/07/04/11580611/sandiaga-fokus-kembangkan-ok-oce-bagaimana-kabar-programnya-saat-ini. \n",
      "\n",
      "====================\n",
      "Penulis : Rindi Nuris Velarosdela\n",
      "\n",
      "====================\n",
      "Editor : Jessi Carina test\n",
      "\n",
      "====================\n",
      "Abu salam\n",
      "====================\n"
     ]
    }
   ],
   "source": [
    "for baris in open('/Users/masaboe/Documents/NGAJAR/2022/DTS-FGA/Praktikum/files/file-coba.txt','rt'):\n",
    "    print(baris)\n",
    "    print(\"=\"*20)"
   ]
  },
  {
   "cell_type": "markdown",
   "metadata": {},
   "source": [
    "### OS Module\n",
    "- systemname — stores the name of the operating system;\n",
    "- nodename — stores the machine name on the network;\n",
    "- release — stores the operating system release;\n",
    "- version — stores the operating system version;\n",
    "- machine — stores the hardware identifier, e.g., x86_64."
   ]
  },
  {
   "cell_type": "code",
   "execution_count": 11,
   "metadata": {},
   "outputs": [
    {
     "name": "stdout",
     "output_type": "stream",
     "text": [
      "posix.uname_result(sysname='Darwin', nodename='MacBook-Pro-masaboe.local', release='17.7.0', version='Darwin Kernel Version 17.7.0: Fri Oct 30 13:34:27 PDT 2020; root:xnu-4570.71.82.8~1/RELEASE_X86_64', machine='x86_64')\n"
     ]
    }
   ],
   "source": [
    "import os\n",
    "print(os.uname())"
   ]
  },
  {
   "cell_type": "markdown",
   "metadata": {},
   "source": [
    "### Creating directories in Python\n",
    "\n",
    "- my_first_directory — this is a relative path which will create the my_first_directory directory in the current working directory;\n",
    "- ./my_first_directory — this is a relative path that explicitly points to the current working directory. It has the same effect as the path above;\n",
    "- ../my_first_directory — this is a relative path that will create the my_first_directory directory in the parent directory of the current working directory;\n",
    "- /python/my_first_directory — this is the absolute path that will create the my_first_directory directory, which in turn is in the python directory in the root directory."
   ]
  },
  {
   "cell_type": "code",
   "execution_count": 13,
   "metadata": {},
   "outputs": [
    {
     "name": "stdout",
     "output_type": "stream",
     "text": [
      "['sesi-18-lb3.ipynb', 'flask', 'sesi-15.ipynb', '.DS_Store', 'sesi-5-6.ipynb', 'sesi-3-4Arsip.ipynb', 'sesi-13-14Arsip.ipynb', 'sesi-9-10Arsip.ipynb', 'sesi-11-12Arsip.ipynb', 'latihan_package', 'images', 'sesi-7-8Arsip.ipynb', 'sesi-5-6Arsip.ipynb', 'aritmatika.py', 'tkinter', '__pycache__', 'sesi-11-12.ipynb', 'sesi-15Arsip.ipynb', 'sesi17', 'sesi-3-4.ipynb', 'Object Oriented Programming.ipynb', 'sesi16', 'sesi18', 'version', 'sesi-7-8.ipynb', 'files', '.ipynb_checkpoints', 'sesi-16-lb1.ipynb', 'my_first_directory', 'sesi-17-lb2.ipynb', '.git', 'Quiz-py.ipynb', 'sesi-13-14.ipynb', 'sesi-9-10.ipynb', 'bigdata']\n"
     ]
    }
   ],
   "source": [
    "import os\n",
    "\n",
    "# os.mkdir(\"my_first_directory\")\n",
    "print(os.listdir())"
   ]
  },
  {
   "cell_type": "markdown",
   "metadata": {},
   "source": [
    "### Recursive directory creation"
   ]
  },
  {
   "cell_type": "code",
   "execution_count": 14,
   "metadata": {},
   "outputs": [
    {
     "name": "stdout",
     "output_type": "stream",
     "text": [
      "['my_second_directory']\n"
     ]
    }
   ],
   "source": [
    "import os\n",
    "\n",
    "os.makedirs(\"my_first_directory/my_second_directory\")\n",
    "os.chdir(\"my_first_directory\")\n",
    "print(os.listdir())"
   ]
  },
  {
   "cell_type": "code",
   "execution_count": 15,
   "metadata": {},
   "outputs": [
    {
     "name": "stdout",
     "output_type": "stream",
     "text": [
      "/Users/masaboe/Documents/NGAJAR/2022/DTS-FGA/Praktikum/my_first_directory\n"
     ]
    }
   ],
   "source": [
    "# Where am I now?\n",
    "import os\n",
    "\n",
    "# os.makedirs(\"my_first_directory/my_second_directory\")\n",
    "# os.chdir(\"my_first_directory\")\n",
    "print(os.getcwd())\n",
    "# os.chdir(\"my_second_directory\")\n",
    "# print(os.getcwd())"
   ]
  },
  {
   "cell_type": "code",
   "execution_count": 16,
   "metadata": {},
   "outputs": [
    {
     "name": "stdout",
     "output_type": "stream",
     "text": [
      "['my_second_directory', 'my_first_directory']\n",
      "['my_second_directory']\n"
     ]
    }
   ],
   "source": [
    "# Deleting Directories\n",
    "import os\n",
    "\n",
    "os.mkdir(\"my_first_directory\")\n",
    "print(os.listdir())\n",
    "os.rmdir(\"my_first_directory\")\n",
    "print(os.listdir())"
   ]
  },
  {
   "cell_type": "markdown",
   "metadata": {},
   "source": [
    "#### >> 4.4.1.8 The os module: LAB"
   ]
  },
  {
   "cell_type": "markdown",
   "metadata": {},
   "source": [
    "### datetime module"
   ]
  },
  {
   "cell_type": "code",
   "execution_count": 17,
   "metadata": {},
   "outputs": [],
   "source": [
    "from datetime import date\n"
   ]
  },
  {
   "cell_type": "code",
   "execution_count": 18,
   "metadata": {},
   "outputs": [
    {
     "name": "stdout",
     "output_type": "stream",
     "text": [
      "Timestamp: 1659661207.114665\n",
      "Date: 2022-08-05\n"
     ]
    }
   ],
   "source": [
    "# Date object from a timestamp\n",
    "\n",
    "from datetime import date\n",
    "import time\n",
    "\n",
    "timestamp = time.time()\n",
    "print(\"Timestamp:\", timestamp)\n",
    "\n",
    "d = date.fromtimestamp(timestamp)\n",
    "\n",
    "print(\"Date:\", d)"
   ]
  },
  {
   "cell_type": "code",
   "execution_count": 19,
   "metadata": {},
   "outputs": [
    {
     "name": "stdout",
     "output_type": "stream",
     "text": [
      "2019-11-04\n"
     ]
    }
   ],
   "source": [
    "# Creating a date object using the ISO format\n",
    "## YYYY-MM-DD format compliant with the ISO 8601 standard.\n",
    "\n",
    "from datetime import date\n",
    "\n",
    "d = date.fromisoformat('2019-11-04')\n",
    "print(d)"
   ]
  },
  {
   "cell_type": "code",
   "execution_count": 20,
   "metadata": {},
   "outputs": [
    {
     "name": "stdout",
     "output_type": "stream",
     "text": [
      "1991-02-05\n",
      "1992-01-16\n"
     ]
    }
   ],
   "source": [
    "# Replace Method\n",
    "\n",
    "from datetime import date\n",
    "\n",
    "d = date(1991, 2, 5)\n",
    "print(d)\n",
    "\n",
    "d = d.replace(year=1992, month=1, day=16)\n",
    "print(d)"
   ]
  },
  {
   "cell_type": "code",
   "execution_count": 23,
   "metadata": {},
   "outputs": [
    {
     "name": "stdout",
     "output_type": "stream",
     "text": [
      "Time: 14:53:20.000001\n",
      "Hour: 14\n",
      "Minute: 53\n",
      "Second: 20\n",
      "Microsecond: 1\n"
     ]
    }
   ],
   "source": [
    "# Creating time object\n",
    "from datetime import time\n",
    "\n",
    "t = time(14, 53, 20, 1)\n",
    "\n",
    "print(\"Time:\", t)\n",
    "print(\"Hour:\", t.hour)\n",
    "print(\"Minute:\", t.minute)\n",
    "print(\"Second:\", t.second)\n",
    "print(\"Microsecond:\", t.microsecond)"
   ]
  },
  {
   "cell_type": "markdown",
   "metadata": {},
   "source": [
    "### Calendar Module"
   ]
  },
  {
   "cell_type": "code",
   "execution_count": 25,
   "metadata": {},
   "outputs": [
    {
     "name": "stdout",
     "output_type": "stream",
     "text": [
      "                                  2022\n",
      "\n",
      "      January                   February                   March\n",
      "Mo Tu We Th Fr Sa Su      Mo Tu We Th Fr Sa Su      Mo Tu We Th Fr Sa Su\n",
      "                1  2          1  2  3  4  5  6          1  2  3  4  5  6\n",
      " 3  4  5  6  7  8  9       7  8  9 10 11 12 13       7  8  9 10 11 12 13\n",
      "10 11 12 13 14 15 16      14 15 16 17 18 19 20      14 15 16 17 18 19 20\n",
      "17 18 19 20 21 22 23      21 22 23 24 25 26 27      21 22 23 24 25 26 27\n",
      "24 25 26 27 28 29 30      28                        28 29 30 31\n",
      "31\n",
      "\n",
      "       April                      May                       June\n",
      "Mo Tu We Th Fr Sa Su      Mo Tu We Th Fr Sa Su      Mo Tu We Th Fr Sa Su\n",
      "             1  2  3                         1             1  2  3  4  5\n",
      " 4  5  6  7  8  9 10       2  3  4  5  6  7  8       6  7  8  9 10 11 12\n",
      "11 12 13 14 15 16 17       9 10 11 12 13 14 15      13 14 15 16 17 18 19\n",
      "18 19 20 21 22 23 24      16 17 18 19 20 21 22      20 21 22 23 24 25 26\n",
      "25 26 27 28 29 30         23 24 25 26 27 28 29      27 28 29 30\n",
      "                          30 31\n",
      "\n",
      "        July                     August                  September\n",
      "Mo Tu We Th Fr Sa Su      Mo Tu We Th Fr Sa Su      Mo Tu We Th Fr Sa Su\n",
      "             1  2  3       1  2  3  4  5  6  7                1  2  3  4\n",
      " 4  5  6  7  8  9 10       8  9 10 11 12 13 14       5  6  7  8  9 10 11\n",
      "11 12 13 14 15 16 17      15 16 17 18 19 20 21      12 13 14 15 16 17 18\n",
      "18 19 20 21 22 23 24      22 23 24 25 26 27 28      19 20 21 22 23 24 25\n",
      "25 26 27 28 29 30 31      29 30 31                  26 27 28 29 30\n",
      "\n",
      "      October                   November                  December\n",
      "Mo Tu We Th Fr Sa Su      Mo Tu We Th Fr Sa Su      Mo Tu We Th Fr Sa Su\n",
      "                1  2          1  2  3  4  5  6                1  2  3  4\n",
      " 3  4  5  6  7  8  9       7  8  9 10 11 12 13       5  6  7  8  9 10 11\n",
      "10 11 12 13 14 15 16      14 15 16 17 18 19 20      12 13 14 15 16 17 18\n",
      "17 18 19 20 21 22 23      21 22 23 24 25 26 27      19 20 21 22 23 24 25\n",
      "24 25 26 27 28 29 30      28 29 30                  26 27 28 29 30 31\n",
      "31\n",
      "\n"
     ]
    }
   ],
   "source": [
    "import calendar\n",
    "print(calendar.calendar(2022))"
   ]
  },
  {
   "cell_type": "code",
   "execution_count": 26,
   "metadata": {},
   "outputs": [
    {
     "name": "stdout",
     "output_type": "stream",
     "text": [
      "    August 2021\n",
      "Mo Tu We Th Fr Sa Su\n",
      "                   1\n",
      " 2  3  4  5  6  7  8\n",
      " 9 10 11 12 13 14 15\n",
      "16 17 18 19 20 21 22\n",
      "23 24 25 26 27 28 29\n",
      "30 31\n",
      "\n"
     ]
    }
   ],
   "source": [
    "import calendar\n",
    "print(calendar.month(2021, 8))"
   ]
  },
  {
   "cell_type": "code",
   "execution_count": 27,
   "metadata": {},
   "outputs": [
    {
     "name": "stdout",
     "output_type": "stream",
     "text": [
      "    August 2021\n",
      "Su Mo Tu We Th Fr Sa\n",
      " 1  2  3  4  5  6  7\n",
      " 8  9 10 11 12 13 14\n",
      "15 16 17 18 19 20 21\n",
      "22 23 24 25 26 27 28\n",
      "29 30 31\n"
     ]
    }
   ],
   "source": [
    "import calendar\n",
    "\n",
    "calendar.setfirstweekday(calendar.SUNDAY)\n",
    "calendar.prmonth(2021, 8)"
   ]
  },
  {
   "cell_type": "code",
   "execution_count": 29,
   "metadata": {},
   "outputs": [
    {
     "name": "stdout",
     "output_type": "stream",
     "text": [
      "False\n",
      "3\n"
     ]
    }
   ],
   "source": [
    "# Leap year\n",
    "import calendar\n",
    "\n",
    "print(calendar.isleap(2022))\n",
    "print(calendar.leapdays(2010, 2021))  # Up to but not including 2021.\n"
   ]
  },
  {
   "cell_type": "markdown",
   "metadata": {},
   "source": [
    "# Exception Once Again"
   ]
  },
  {
   "cell_type": "code",
   "execution_count": 30,
   "metadata": {},
   "outputs": [
    {
     "name": "stdout",
     "output_type": "stream",
     "text": [
      "Everything went fine\n",
      "It's time to say goodbye\n",
      "0.5\n",
      "==========\n",
      "Division failed\n",
      "It's time to say goodbye\n",
      "None\n"
     ]
    }
   ],
   "source": [
    "def reciprocal(n):\n",
    "    try:\n",
    "        n = 1 / n\n",
    "    except ZeroDivisionError:\n",
    "        print(\"Division failed\")\n",
    "        n = None\n",
    "    else:\n",
    "        print(\"Everything went fine\")\n",
    "    finally:\n",
    "        print(\"It's time to say goodbye\")\n",
    "        return n\n",
    "\n",
    "print(reciprocal(2))\n",
    "print(\"=\"*10)\n",
    "print(reciprocal(0))"
   ]
  },
  {
   "cell_type": "code",
   "execution_count": 31,
   "metadata": {},
   "outputs": [
    {
     "name": "stdout",
     "output_type": "stream",
     "text": [
      "invalid literal for int() with base 10: 'Hello!'\n",
      "invalid literal for int() with base 10: 'Hello!'\n"
     ]
    }
   ],
   "source": [
    "try:\n",
    "    i = int(\"Hello!\")\n",
    "except Exception as e:\n",
    "    print(e)\n",
    "    print(e.__str__())"
   ]
  },
  {
   "cell_type": "markdown",
   "metadata": {},
   "source": [
    "### Else"
   ]
  },
  {
   "cell_type": "code",
   "execution_count": 32,
   "metadata": {},
   "outputs": [
    {
     "name": "stdout",
     "output_type": "stream",
     "text": [
      "Everything went fine\n",
      "0.5\n",
      "Division failed\n",
      "None\n"
     ]
    }
   ],
   "source": [
    "def reciprocal(n):\n",
    "    try:\n",
    "        n = 1 / n\n",
    "    except ZeroDivisionError:\n",
    "        print(\"Division failed\")\n",
    "        return None\n",
    "    else:\n",
    "        print(\"Everything went fine\")\n",
    "        return n\n",
    "\n",
    "print(reciprocal(2))\n",
    "print(reciprocal(0))"
   ]
  },
  {
   "cell_type": "markdown",
   "metadata": {},
   "source": [
    "### Finally"
   ]
  },
  {
   "cell_type": "code",
   "execution_count": 33,
   "metadata": {},
   "outputs": [
    {
     "name": "stdout",
     "output_type": "stream",
     "text": [
      "Everything went fine\n",
      "It's time to say goodbye\n",
      "0.5\n",
      "Division failed\n",
      "It's time to say goodbye\n",
      "None\n"
     ]
    }
   ],
   "source": [
    "def reciprocal(n):\n",
    "    try:\n",
    "        n = 1 / n\n",
    "    except ZeroDivisionError:\n",
    "        print(\"Division failed\")\n",
    "        n = None\n",
    "    else:\n",
    "        print(\"Everything went fine\")\n",
    "    finally:\n",
    "        print(\"It's time to say goodbye\")\n",
    "        return n\n",
    "\n",
    "print(reciprocal(2))\n",
    "print(reciprocal(0))"
   ]
  },
  {
   "cell_type": "markdown",
   "metadata": {},
   "source": [
    "### Any Class Exception"
   ]
  },
  {
   "cell_type": "code",
   "execution_count": 34,
   "metadata": {},
   "outputs": [
    {
     "name": "stdout",
     "output_type": "stream",
     "text": [
      "invalid literal for int() with base 10: 'Hello!'\n",
      "invalid literal for int() with base 10: 'Hello!'\n"
     ]
    }
   ],
   "source": [
    "try:\n",
    "    i = int(\"Hello!\")\n",
    "except Exception as e:\n",
    "    print(e)\n",
    "    print(e.__str__())"
   ]
  },
  {
   "cell_type": "code",
   "execution_count": 35,
   "metadata": {},
   "outputs": [
    {
     "name": "stdout",
     "output_type": "stream",
     "text": [
      "Masukkan Gaji Pokok = 5000\n",
      "Masukkan Jam kerja = 5\n",
      "Gaji yang diterima  5000\n"
     ]
    }
   ],
   "source": [
    "gaji_pokok = int(input(\"Masukkan Gaji Pokok = \"))\n",
    "jam_kerja = int(input(\"Masukkan Jam kerja = \"))\n",
    "biaya_lembur = 0.025 * gaji_pokok\n",
    "\n",
    "jam_standar = 160\n",
    "\n",
    "if jam_kerja>jam_standar:\n",
    "    tambahan_gaji = biaya_lembur * (jam_kerja - jam_standar)\n",
    "    print(\"Gaji yang diterima \",gaji_pokok+tambahan_gaji)\n",
    "else:\n",
    "    print(\"Gaji yang diterima \",gaji_pokok)\n"
   ]
  },
  {
   "cell_type": "markdown",
   "metadata": {},
   "source": [
    "Buatlah sebuah program yang meminta user untuk menginput nilai, kemudian keluarkan nilainya jika mendapat >80 maka lulus 60 - 80 maka mengulang, selain itu tidak lulus"
   ]
  },
  {
   "cell_type": "code",
   "execution_count": 36,
   "metadata": {},
   "outputs": [
    {
     "name": "stdout",
     "output_type": "stream",
     "text": [
      "Masukkan Nilai = 90\n",
      "Lulus\n"
     ]
    }
   ],
   "source": [
    "nilai = int(input(\"Masukkan Nilai = \"))\n",
    "\n",
    "if nilai>80:\n",
    "    print(\"Lulus\")\n",
    "elif nilai >= 60:\n",
    "    print(\"Mengulang\")\n",
    "else:\n",
    "    print(\"Tidak Lulus\")"
   ]
  },
  {
   "cell_type": "code",
   "execution_count": 37,
   "metadata": {},
   "outputs": [
    {
     "name": "stdout",
     "output_type": "stream",
     "text": [
      "4 10 22 46 94 190 "
     ]
    }
   ],
   "source": [
    "i = 4\n",
    "while i<200:\n",
    "    print(i, end=\" \")\n",
    "    i = i*2 + 2\n",
    "    \n"
   ]
  },
  {
   "cell_type": "code",
   "execution_count": 38,
   "metadata": {},
   "outputs": [
    {
     "name": "stdout",
     "output_type": "stream",
     "text": [
      "Masukkan Angka Hari = 5\n",
      "Jum'at\n"
     ]
    }
   ],
   "source": [
    "hari = ['Minggu','Senin','Selasa','Rabu','Kamis','Jum\\'at','Sabtu']\n",
    "angka = int(input(\"Masukkan Angka Hari = \"))\n",
    "\n",
    "try:\n",
    "    print(hari[angka])\n",
    "except:\n",
    "    print(\"Tidak ada hari tersebut\")"
   ]
  },
  {
   "cell_type": "markdown",
   "metadata": {},
   "source": [
    "#### Other"
   ]
  },
  {
   "cell_type": "code",
   "execution_count": 39,
   "metadata": {},
   "outputs": [
    {
     "name": "stdout",
     "output_type": "stream",
     "text": [
      "Masukkan Kata = kasur rusak\n",
      "Kata dibalik =  kasur rusak\n"
     ]
    }
   ],
   "source": [
    "kata = input(\"Masukkan Kata = \")\n",
    "kata = ''.join([k for k in reversed(kata)])\n",
    "print(\"Kata dibalik = \",kata)"
   ]
  },
  {
   "cell_type": "code",
   "execution_count": null,
   "metadata": {},
   "outputs": [],
   "source": []
  }
 ],
 "metadata": {
  "kernelspec": {
   "display_name": "Python 3 (ipykernel)",
   "language": "python",
   "name": "python3"
  },
  "language_info": {
   "codemirror_mode": {
    "name": "ipython",
    "version": 3
   },
   "file_extension": ".py",
   "mimetype": "text/x-python",
   "name": "python",
   "nbconvert_exporter": "python",
   "pygments_lexer": "ipython3",
   "version": "3.9.5"
  }
 },
 "nbformat": 4,
 "nbformat_minor": 2
}
